{
  "cells": [
    {
      "cell_type": "markdown",
      "metadata": {
        "id": "view-in-github",
        "colab_type": "text"
      },
      "source": [
        "<a href=\"https://colab.research.google.com/github/tito-par-tito/MLexam2023/blob/main/502252_MLProject_30_01_2023.ipynb\" target=\"_parent\"><img src=\"https://colab.research.google.com/assets/colab-badge.svg\" alt=\"Open In Colab\"/></a>"
      ]
    },
    {
      "cell_type": "markdown",
      "source": [
        "For a better good-looking I suggest to use the .pdf file available on https://drive.google.com/file/d/1xZOrLyl5EFYfy63-SzqZWDxlns3pH4Mv/view?usp=sharing or to use https://deepnote.com/@premium-test/Elections-1-701f1006-b41b-42e1-b47d-d181800ad431 (but sadly no callout text will be shown).\n",
        "\n",
        "Dataset used: https://drive.google.com/file/d/1kucHltK00z_ImCSRDpMLQlwXOAjb6pFx/view?usp=sharing"
      ],
      "metadata": {
        "tags": [],
        "cell_id": "e917f2a0c9164b7bb697b2999b74d7f5",
        "deepnote_cell_type": "markdown",
        "id": "8XMFlh4uD5Q5"
      }
    },
    {
      "cell_type": "markdown",
      "source": [
        "----"
      ],
      "metadata": {
        "tags": [],
        "cell_id": "9c053041d21d4f4284e77d4184ed80e0",
        "deepnote_cell_type": "markdown",
        "id": "h5yoJLfrD5Q_"
      }
    },
    {
      "cell_type": "code",
      "source": [
        "import pandas as pd\n",
        "import numpy as np\n",
        "import itertools\n",
        "\n",
        "from sklearn.base import BaseEstimator, TransformerMixin\n",
        "from sklearn.pipeline import Pipeline\n",
        "from sklearn.compose import ColumnTransformer\n",
        "from sklearn.metrics import f1_score, roc_auc_score\n",
        "from sklearn.model_selection import learning_curve, validation_curve, train_test_split, KFold, StratifiedKFold, cross_val_score, GridSearchCV, RandomizedSearchCV, cross_validate, RepeatedStratifiedKFold\n",
        "from sklearn.linear_model import Perceptron, LogisticRegression\n",
        "from sklearn.neighbors import KNeighborsClassifier\n",
        "from sklearn.decomposition import PCA\n",
        "from sklearn.discriminant_analysis import LinearDiscriminantAnalysis as LDA\n",
        "from sklearn.impute import SimpleImputer, KNNImputer\n",
        "from sklearn.preprocessing import FunctionTransformer, StandardScaler, MinMaxScaler, OneHotEncoder, OrdinalEncoder\n",
        "from sklearn.datasets import fetch_openml\n",
        "\n",
        "from scipy.stats import loguniform, beta, uniform\n",
        "\n",
        "from mlxtend.feature_selection import SequentialFeatureSelector as SFS\n",
        "\n",
        "from imblearn.over_sampling import SMOTE, RandomOverSampler\n",
        "from imblearn.pipeline import Pipeline as IMBPipeline\n",
        "\n",
        "import missingno as msno\n",
        "\n",
        "import matplotlib.pyplot as plt\n",
        "import warnings\n",
        "\n",
        "warnings.filterwarnings('ignore')\n",
        "\n",
        "from sklearn.ensemble import RandomForestClassifier\n"
      ],
      "metadata": {
        "tags": [],
        "cell_id": "f06c230bd36445d585d2edfd284c0703",
        "source_hash": "6d8dd4d6",
        "execution_start": 1675020165290,
        "execution_millis": 1708,
        "deepnote_app_coordinates": {
          "h": 5,
          "w": 12,
          "x": 0,
          "y": 1
        },
        "deepnote_to_be_reexecuted": false,
        "deepnote_cell_type": "code",
        "id": "Fwk3GVOQD5RA"
      },
      "outputs": [],
      "execution_count": null
    },
    {
      "cell_type": "markdown",
      "source": [
        "---"
      ],
      "metadata": {
        "tags": [],
        "cell_id": "46a75032411647198f06e9d43defd6d3",
        "deepnote_cell_type": "markdown",
        "id": "OYhG7J5dD5RD"
      }
    },
    {
      "cell_type": "markdown",
      "source": [
        "****"
      ],
      "metadata": {
        "tags": [],
        "cell_id": "1d581789ac1547a89e54b916bea113d0",
        "deepnote_cell_type": "markdown",
        "id": "mGZpPx_LD5RD"
      }
    },
    {
      "cell_type": "markdown",
      "source": [
        "# Introduction"
      ],
      "metadata": {
        "tags": [],
        "cell_id": "150fe88615a94c1cac1ad5583a0a1bc9",
        "is_collapsed": false,
        "formattedRanges": [],
        "deepnote_app_coordinates": {
          "h": 5,
          "w": 12,
          "x": 0,
          "y": 7
        },
        "deepnote_cell_type": "text-cell-h1",
        "id": "BPhDhgoZD5RE"
      }
    },
    {
      "cell_type": "markdown",
      "source": [
        "![Picture title](electoralMap.png)\n"
      ],
      "metadata": {
        "tags": [],
        "cell_id": "11eb36ec5d70486da0094baf4eb6e324",
        "deepnote_cell_type": "markdown",
        "id": "BN5RcibiD5RF"
      }
    },
    {
      "cell_type": "markdown",
      "source": [
        "The dataset is taken from https://www.kaggle.com/datasets/jwt0024/1992-us-presidential-election. The dataset was perfect and no missing data was present so I remove some elements of the features.\n",
        "\n",
        "This dataset contains county-level demographics and whether or not Bill Clinton won each county during the 1992 U.S. presidential election. **The goal for this dataset is to successfully predict if Bill Clinton won a county using some demographic variables**.\n",
        "\n",
        "The official results of all the counties can be seen at https://en.wikipedia.org/wiki/1992_United_States_presidential_election by clicking at each US state on the map."
      ],
      "metadata": {
        "tags": [],
        "cell_id": "245eda1e22b24d0b8bfa8c1755510ccb",
        "deepnote_app_coordinates": {
          "h": 5,
          "w": 12,
          "x": 0,
          "y": 13
        },
        "deepnote_cell_type": "markdown",
        "id": "_n6qJY_rD5RG"
      }
    },
    {
      "cell_type": "markdown",
      "source": [
        "> By using *1 it will convert the Boolean value to an integer. True will be converted to 1 and False will be converted to 0 ( is equivalent to using the int() function on a Boolean value)."
      ],
      "metadata": {
        "tags": [],
        "color": "yellow",
        "cell_id": "0bab2d63013c4edb813f6ea5dfeaa692",
        "is_collapsed": false,
        "formattedRanges": [
          {
            "type": "marks",
            "marks": {
              "code": true,
              "italic": true
            },
            "toCodePoint": 11,
            "fromCodePoint": 9
          },
          {
            "type": "marks",
            "marks": {
              "code": true
            },
            "toCodePoint": 156,
            "fromCodePoint": 151
          }
        ],
        "deepnote_cell_type": "text-cell-callout",
        "id": "tm2h4aR0D5RH"
      }
    },
    {
      "cell_type": "code",
      "source": [
        "#X = pd.read_csv(\"election_dataset(full).csv\")\n",
        "X = pd.read_csv(\"election_dataset.csv\")\n",
        "X[\"clinton_win\"] = X[\"clinton_win\"]*1\n",
        "X[\"vote_for_dems_before\"] = X[\"vote_for_dems_before\"]*1\n",
        "y = X.pop(\"clinton_win\")"
      ],
      "metadata": {
        "tags": [],
        "cell_id": "315b308813174679a5aa20a9ac28e21b",
        "source_hash": "47fea43f",
        "execution_start": 1675020167001,
        "execution_millis": 10,
        "deepnote_app_coordinates": {
          "h": 5,
          "w": 12,
          "x": 0,
          "y": 25
        },
        "deepnote_to_be_reexecuted": false,
        "deepnote_cell_type": "code",
        "id": "Pr4Cp-m6D5RH"
      },
      "outputs": [],
      "execution_count": null
    },
    {
      "cell_type": "code",
      "source": [
        "X"
      ],
      "metadata": {
        "tags": [],
        "cell_id": "b54bfca3bc2b4650b2228c9dbe8591f6",
        "source_hash": "b2696ff6",
        "execution_start": 1675020167016,
        "execution_millis": 46,
        "deepnote_table_state": {
          "sortBy": [
            {
              "id": "county_name",
              "type": "asc"
            }
          ],
          "filters": [],
          "pageSize": 10,
          "pageIndex": 0
        },
        "deepnote_table_loading": false,
        "deepnote_app_coordinates": {
          "h": 5,
          "w": 12,
          "x": 0,
          "y": 31
        },
        "deepnote_to_be_reexecuted": false,
        "deepnote_cell_type": "code",
        "id": "t0YzL7JxD5RI",
        "outputId": "f252b69a-3258-4582-81bf-f06af2221539"
      },
      "outputs": [
        {
          "output_type": "execute_result",
          "execution_count": 3,
          "data": {
            "application/vnd.deepnote.dataframe.v3+json": {
              "column_count": 12,
              "row_count": 2413,
              "columns": [
                {
                  "name": "county_name",
                  "dtype": "object",
                  "stats": {
                    "unique_count": 1424,
                    "nan_count": 63,
                    "categories": [
                      {
                        "name": "Washington",
                        "count": 27
                      },
                      {
                        "name": "1423 others",
                        "count": 2323
                      },
                      {
                        "name": "Missing",
                        "count": 63
                      }
                    ]
                  }
                },
                {
                  "name": "median_age",
                  "dtype": "float64",
                  "stats": {
                    "unique_count": 213,
                    "nan_count": 65,
                    "min": "20.0",
                    "max": "55.4",
                    "histogram": [
                      {
                        "bin_start": 20,
                        "bin_end": 23.54,
                        "count": 4
                      },
                      {
                        "bin_start": 23.54,
                        "bin_end": 27.08,
                        "count": 44
                      },
                      {
                        "bin_start": 27.08,
                        "bin_end": 30.62,
                        "count": 237
                      },
                      {
                        "bin_start": 30.62,
                        "bin_end": 34.16,
                        "count": 858
                      },
                      {
                        "bin_start": 34.16,
                        "bin_end": 37.7,
                        "count": 847
                      },
                      {
                        "bin_start": 37.7,
                        "bin_end": 41.24,
                        "count": 277
                      },
                      {
                        "bin_start": 41.24,
                        "bin_end": 44.78,
                        "count": 64
                      },
                      {
                        "bin_start": 44.78,
                        "bin_end": 48.32,
                        "count": 8
                      },
                      {
                        "bin_start": 48.32,
                        "bin_end": 51.86,
                        "count": 7
                      },
                      {
                        "bin_start": 51.86,
                        "bin_end": 55.4,
                        "count": 2
                      }
                    ]
                  }
                },
                {
                  "name": "mean_savings",
                  "dtype": "float64",
                  "stats": {
                    "unique_count": 2317,
                    "nan_count": 74,
                    "min": "10618.0",
                    "max": "631534.0",
                    "histogram": [
                      {
                        "bin_start": 10618,
                        "bin_end": 72709.6,
                        "count": 861
                      },
                      {
                        "bin_start": 72709.6,
                        "bin_end": 134801.2,
                        "count": 1210
                      },
                      {
                        "bin_start": 134801.2,
                        "bin_end": 196892.8,
                        "count": 225
                      },
                      {
                        "bin_start": 196892.8,
                        "bin_end": 258984.4,
                        "count": 34
                      },
                      {
                        "bin_start": 258984.4,
                        "bin_end": 321076,
                        "count": 4
                      },
                      {
                        "bin_start": 321076,
                        "bin_end": 383167.6,
                        "count": 3
                      },
                      {
                        "bin_start": 383167.6,
                        "bin_end": 445259.2,
                        "count": 0
                      },
                      {
                        "bin_start": 445259.2,
                        "bin_end": 507350.8,
                        "count": 0
                      },
                      {
                        "bin_start": 507350.8,
                        "bin_end": 569442.4,
                        "count": 1
                      },
                      {
                        "bin_start": 569442.4,
                        "bin_end": 631534,
                        "count": 1
                      }
                    ]
                  }
                },
                {
                  "name": "per_capita_income",
                  "dtype": "float64",
                  "stats": {
                    "unique_count": 2073,
                    "nan_count": 100,
                    "min": "6118.0",
                    "max": "37387.0",
                    "histogram": [
                      {
                        "bin_start": 6118,
                        "bin_end": 9244.9,
                        "count": 3
                      },
                      {
                        "bin_start": 9244.9,
                        "bin_end": 12371.8,
                        "count": 156
                      },
                      {
                        "bin_start": 12371.8,
                        "bin_end": 15498.7,
                        "count": 842
                      },
                      {
                        "bin_start": 15498.7,
                        "bin_end": 18625.6,
                        "count": 877
                      },
                      {
                        "bin_start": 18625.6,
                        "bin_end": 21752.5,
                        "count": 290
                      },
                      {
                        "bin_start": 21752.5,
                        "bin_end": 24879.4,
                        "count": 87
                      },
                      {
                        "bin_start": 24879.4,
                        "bin_end": 28006.3,
                        "count": 32
                      },
                      {
                        "bin_start": 28006.3,
                        "bin_end": 31133.2,
                        "count": 13
                      },
                      {
                        "bin_start": 31133.2,
                        "bin_end": 34260.100000000006,
                        "count": 8
                      },
                      {
                        "bin_start": 34260.100000000006,
                        "bin_end": 37387,
                        "count": 5
                      }
                    ]
                  }
                },
                {
                  "name": "percent_in_poverty",
                  "dtype": "float64",
                  "stats": {
                    "unique_count": 318,
                    "nan_count": 47,
                    "min": "1.9",
                    "max": "52.0",
                    "histogram": [
                      {
                        "bin_start": 1.9,
                        "bin_end": 6.91,
                        "count": 79
                      },
                      {
                        "bin_start": 6.91,
                        "bin_end": 11.92,
                        "count": 615
                      },
                      {
                        "bin_start": 11.92,
                        "bin_end": 16.93,
                        "count": 797
                      },
                      {
                        "bin_start": 16.93,
                        "bin_end": 21.939999999999998,
                        "count": 485
                      },
                      {
                        "bin_start": 21.939999999999998,
                        "bin_end": 26.949999999999996,
                        "count": 224
                      },
                      {
                        "bin_start": 26.949999999999996,
                        "bin_end": 31.959999999999997,
                        "count": 104
                      },
                      {
                        "bin_start": 31.959999999999997,
                        "bin_end": 36.97,
                        "count": 31
                      },
                      {
                        "bin_start": 36.97,
                        "bin_end": 41.98,
                        "count": 22
                      },
                      {
                        "bin_start": 41.98,
                        "bin_end": 46.989999999999995,
                        "count": 7
                      },
                      {
                        "bin_start": 46.989999999999995,
                        "bin_end": 52,
                        "count": 2
                      }
                    ]
                  }
                },
                {
                  "name": "percent_veterans",
                  "dtype": "float64",
                  "stats": {
                    "unique_count": 609,
                    "nan_count": 63,
                    "min": "3.18",
                    "max": "25.04",
                    "histogram": [
                      {
                        "bin_start": 3.18,
                        "bin_end": 5.366,
                        "count": 11
                      },
                      {
                        "bin_start": 5.366,
                        "bin_end": 7.552,
                        "count": 86
                      },
                      {
                        "bin_start": 7.552,
                        "bin_end": 9.738,
                        "count": 378
                      },
                      {
                        "bin_start": 9.738,
                        "bin_end": 11.924,
                        "count": 727
                      },
                      {
                        "bin_start": 11.924,
                        "bin_end": 14.11,
                        "count": 790
                      },
                      {
                        "bin_start": 14.11,
                        "bin_end": 16.296,
                        "count": 316
                      },
                      {
                        "bin_start": 16.296,
                        "bin_end": 18.482,
                        "count": 37
                      },
                      {
                        "bin_start": 18.482,
                        "bin_end": 20.668,
                        "count": 2
                      },
                      {
                        "bin_start": 20.668,
                        "bin_end": 22.854,
                        "count": 1
                      },
                      {
                        "bin_start": 22.854,
                        "bin_end": 25.04,
                        "count": 2
                      }
                    ]
                  }
                },
                {
                  "name": "percent_female",
                  "dtype": "float64",
                  "stats": {
                    "unique_count": 417,
                    "nan_count": 64,
                    "min": "37.53",
                    "max": "55.39",
                    "histogram": [
                      {
                        "bin_start": 37.53,
                        "bin_end": 39.316,
                        "count": 1
                      },
                      {
                        "bin_start": 39.316,
                        "bin_end": 41.102000000000004,
                        "count": 2
                      },
                      {
                        "bin_start": 41.102000000000004,
                        "bin_end": 42.888000000000005,
                        "count": 7
                      },
                      {
                        "bin_start": 42.888000000000005,
                        "bin_end": 44.674,
                        "count": 7
                      },
                      {
                        "bin_start": 44.674,
                        "bin_end": 46.46,
                        "count": 19
                      },
                      {
                        "bin_start": 46.46,
                        "bin_end": 48.246,
                        "count": 39
                      },
                      {
                        "bin_start": 48.246,
                        "bin_end": 50.032000000000004,
                        "count": 222
                      },
                      {
                        "bin_start": 50.032000000000004,
                        "bin_end": 51.818,
                        "count": 1300
                      },
                      {
                        "bin_start": 51.818,
                        "bin_end": 53.604,
                        "count": 721
                      },
                      {
                        "bin_start": 53.604,
                        "bin_end": 55.39,
                        "count": 31
                      }
                    ]
                  }
                },
                {
                  "name": "population_density",
                  "dtype": "float64",
                  "stats": {
                    "unique_count": 1292,
                    "nan_count": 50,
                    "min": "0.4",
                    "max": "32360.3",
                    "histogram": [
                      {
                        "bin_start": 0.4,
                        "bin_end": 3236.39,
                        "count": 2351
                      },
                      {
                        "bin_start": 3236.39,
                        "bin_end": 6472.379999999999,
                        "count": 7
                      },
                      {
                        "bin_start": 6472.379999999999,
                        "bin_end": 9708.369999999999,
                        "count": 0
                      },
                      {
                        "bin_start": 9708.369999999999,
                        "bin_end": 12944.359999999999,
                        "count": 3
                      },
                      {
                        "bin_start": 12944.359999999999,
                        "bin_end": 16180.349999999999,
                        "count": 1
                      },
                      {
                        "bin_start": 16180.349999999999,
                        "bin_end": 19416.34,
                        "count": 0
                      },
                      {
                        "bin_start": 19416.34,
                        "bin_end": 22652.33,
                        "count": 0
                      },
                      {
                        "bin_start": 22652.33,
                        "bin_end": 25888.32,
                        "count": 0
                      },
                      {
                        "bin_start": 25888.32,
                        "bin_end": 29124.309999999998,
                        "count": 0
                      },
                      {
                        "bin_start": 29124.309999999998,
                        "bin_end": 32360.3,
                        "count": 1
                      }
                    ]
                  }
                },
                {
                  "name": "percent_in_nursing_homes",
                  "dtype": "float64",
                  "stats": {
                    "unique_count": 1018,
                    "nan_count": 63,
                    "min": "0.08",
                    "max": "59.22",
                    "histogram": [
                      {
                        "bin_start": 0.08,
                        "bin_end": 5.994,
                        "count": 632
                      },
                      {
                        "bin_start": 5.994,
                        "bin_end": 11.908,
                        "count": 1075
                      },
                      {
                        "bin_start": 11.908,
                        "bin_end": 17.821999999999996,
                        "count": 410
                      },
                      {
                        "bin_start": 17.821999999999996,
                        "bin_end": 23.735999999999997,
                        "count": 146
                      },
                      {
                        "bin_start": 23.735999999999997,
                        "bin_end": 29.65,
                        "count": 56
                      },
                      {
                        "bin_start": 29.65,
                        "bin_end": 35.56399999999999,
                        "count": 22
                      },
                      {
                        "bin_start": 35.56399999999999,
                        "bin_end": 41.477999999999994,
                        "count": 5
                      },
                      {
                        "bin_start": 41.477999999999994,
                        "bin_end": 47.391999999999996,
                        "count": 3
                      },
                      {
                        "bin_start": 47.391999999999996,
                        "bin_end": 53.306,
                        "count": 0
                      },
                      {
                        "bin_start": 53.306,
                        "bin_end": 59.22,
                        "count": 1
                      }
                    ]
                  }
                },
                {
                  "name": "crime_index_PC",
                  "dtype": "float64",
                  "stats": {
                    "unique_count": 730,
                    "nan_count": 39,
                    "min": "0.0",
                    "max": "2792.0",
                    "histogram": [
                      {
                        "bin_start": 0,
                        "bin_end": 279.2,
                        "count": 1263
                      },
                      {
                        "bin_start": 279.2,
                        "bin_end": 558.4,
                        "count": 828
                      },
                      {
                        "bin_start": 558.4,
                        "bin_end": 837.5999999999999,
                        "count": 237
                      },
                      {
                        "bin_start": 837.5999999999999,
                        "bin_end": 1116.8,
                        "count": 40
                      },
                      {
                        "bin_start": 1116.8,
                        "bin_end": 1396,
                        "count": 5
                      },
                      {
                        "bin_start": 1396,
                        "bin_end": 1675.1999999999998,
                        "count": 0
                      },
                      {
                        "bin_start": 1675.1999999999998,
                        "bin_end": 1954.3999999999999,
                        "count": 0
                      },
                      {
                        "bin_start": 1954.3999999999999,
                        "bin_end": 2233.6,
                        "count": 0
                      },
                      {
                        "bin_start": 2233.6,
                        "bin_end": 2512.7999999999997,
                        "count": 0
                      },
                      {
                        "bin_start": 2512.7999999999997,
                        "bin_end": 2792,
                        "count": 1
                      }
                    ]
                  }
                },
                {
                  "name": "state",
                  "dtype": "object",
                  "stats": {
                    "unique_count": 44,
                    "nan_count": 41,
                    "categories": [
                      {
                        "name": "TX",
                        "count": 214
                      },
                      {
                        "name": "43 others",
                        "count": 2158
                      },
                      {
                        "name": "Missing",
                        "count": 41
                      }
                    ]
                  }
                },
                {
                  "name": "vote_for_dems_before",
                  "dtype": "int64",
                  "stats": {
                    "unique_count": 2,
                    "nan_count": 0,
                    "min": "0",
                    "max": "1",
                    "histogram": [
                      {
                        "bin_start": 0,
                        "bin_end": 0.1,
                        "count": 1811
                      },
                      {
                        "bin_start": 0.1,
                        "bin_end": 0.2,
                        "count": 0
                      },
                      {
                        "bin_start": 0.2,
                        "bin_end": 0.30000000000000004,
                        "count": 0
                      },
                      {
                        "bin_start": 0.30000000000000004,
                        "bin_end": 0.4,
                        "count": 0
                      },
                      {
                        "bin_start": 0.4,
                        "bin_end": 0.5,
                        "count": 0
                      },
                      {
                        "bin_start": 0.5,
                        "bin_end": 0.6000000000000001,
                        "count": 0
                      },
                      {
                        "bin_start": 0.6000000000000001,
                        "bin_end": 0.7000000000000001,
                        "count": 0
                      },
                      {
                        "bin_start": 0.7000000000000001,
                        "bin_end": 0.8,
                        "count": 0
                      },
                      {
                        "bin_start": 0.8,
                        "bin_end": 0.9,
                        "count": 0
                      },
                      {
                        "bin_start": 0.9,
                        "bin_end": 1,
                        "count": 602
                      }
                    ]
                  }
                },
                {
                  "name": "_deepnote_index_column",
                  "dtype": "int64"
                }
              ],
              "rows": [
                {
                  "county_name": "Abbeville",
                  "median_age": "34.2",
                  "mean_savings": "49330.0",
                  "per_capita_income": "13179.0",
                  "percent_in_poverty": "15.9",
                  "percent_veterans": "9.51",
                  "percent_female": "52.52",
                  "population_density": "47.4",
                  "percent_in_nursing_homes": "4.18",
                  "crime_index_PC": "298.0",
                  "state": "SC",
                  "vote_for_dems_before": "0",
                  "_deepnote_index_column": "1910"
                },
                {
                  "county_name": "Acadia",
                  "median_age": "30.5",
                  "mean_savings": "64085.0",
                  "per_capita_income": "12368.0",
                  "percent_in_poverty": "nan",
                  "percent_veterans": "9.29",
                  "percent_female": "52.36",
                  "population_density": "85.8",
                  "percent_in_nursing_homes": "10.55",
                  "crime_index_PC": "299.0",
                  "state": "LA",
                  "vote_for_dems_before": "1",
                  "_deepnote_index_column": "958"
                },
                {
                  "county_name": "Ada",
                  "median_age": "31.9",
                  "mean_savings": "78600.0",
                  "per_capita_income": "21384.0",
                  "percent_in_poverty": "9.1",
                  "percent_veterans": "11.06",
                  "percent_female": "51.36",
                  "population_density": "211.9",
                  "percent_in_nursing_homes": "4.35",
                  "crime_index_PC": "463.0",
                  "state": "ID",
                  "vote_for_dems_before": "0",
                  "_deepnote_index_column": "445"
                },
                {
                  "county_name": "Adair",
                  "median_age": "34.9",
                  "mean_savings": "59325.0",
                  "per_capita_income": "13072.0",
                  "percent_in_poverty": "24.2",
                  "percent_veterans": "8.05",
                  "percent_female": "51.01",
                  "population_density": "38.6",
                  "percent_in_nursing_homes": "7.09",
                  "crime_index_PC": "152.0",
                  "state": "KY",
                  "vote_for_dems_before": "0",
                  "_deepnote_index_column": "857"
                },
                {
                  "county_name": "Adair",
                  "median_age": "39.3",
                  "mean_savings": "138220.0",
                  "per_capita_income": "16324.0",
                  "percent_in_poverty": "12.1",
                  "percent_veterans": "13.21",
                  "percent_female": "51.7",
                  "population_density": "14.8",
                  "percent_in_nursing_homes": "19.05",
                  "crime_index_PC": "108.0",
                  "state": "IA",
                  "vote_for_dems_before": "1",
                  "_deepnote_index_column": "664"
                },
                {
                  "county_name": "Adair",
                  "median_age": "27.4",
                  "mean_savings": "101642.0",
                  "per_capita_income": "14118.0",
                  "percent_in_poverty": "17.5",
                  "percent_veterans": "9.57",
                  "percent_female": "53.07",
                  "population_density": "43.2",
                  "percent_in_nursing_homes": "11.1",
                  "crime_index_PC": "300.0",
                  "state": "MO",
                  "vote_for_dems_before": "0",
                  "_deepnote_index_column": "1272"
                },
                {
                  "county_name": "Adair",
                  "median_age": "31.6",
                  "mean_savings": "39894.0",
                  "per_capita_income": "13141.0",
                  "percent_in_poverty": "25.0",
                  "percent_veterans": "8.5",
                  "percent_female": "51.32",
                  "population_density": "33.2",
                  "percent_in_nursing_homes": "9.48",
                  "crime_index_PC": "140.0",
                  "state": "OK",
                  "vote_for_dems_before": "0",
                  "_deepnote_index_column": "1729"
                },
                {
                  "county_name": "Adams",
                  "median_age": "35.4",
                  "mean_savings": "97664.0",
                  "per_capita_income": "17574.0",
                  "percent_in_poverty": "14.2",
                  "percent_veterans": "14.37",
                  "percent_female": "52.39",
                  "population_density": "77.7",
                  "percent_in_nursing_homes": "14.08",
                  "crime_index_PC": "378.0",
                  "state": "IL",
                  "vote_for_dems_before": "0",
                  "_deepnote_index_column": "480"
                },
                {
                  "county_name": "Adams",
                  "median_age": "30.6",
                  "mean_savings": "125678.0",
                  "per_capita_income": "15770.0",
                  "percent_in_poverty": "12.6",
                  "percent_veterans": "9.32",
                  "percent_female": "51.28",
                  "population_density": "92.8",
                  "percent_in_nursing_homes": "5.17",
                  "crime_index_PC": "154.0",
                  "state": "IN",
                  "vote_for_dems_before": "0",
                  "_deepnote_index_column": "577"
                },
                {
                  "county_name": "Adams",
                  "median_age": "40.2",
                  "mean_savings": "50093.0",
                  "per_capita_income": "12485.0",
                  "percent_in_poverty": "15.4",
                  "percent_veterans": "12.41",
                  "percent_female": "nan",
                  "population_density": "25.0",
                  "percent_in_nursing_homes": "7.59",
                  "crime_index_PC": "307.0",
                  "state": "nan",
                  "vote_for_dems_before": "1",
                  "_deepnote_index_column": "2322"
                }
              ]
            },
            "text/plain": "     county_name  median_age  mean_savings  per_capita_income  \\\n0        Autauga        31.7       57623.0            15768.0   \n1        Baldwin        35.5       84935.0            16954.0   \n2        Barbour        32.8       83656.0            15532.0   \n3         Blount        34.5       61249.0            14820.0   \n4        Bullock        31.7       75725.0            11120.0   \n...          ...         ...           ...                ...   \n2408    Sheridan         NaN       87232.0            22250.0   \n2409    Sublette        35.4       83020.0                NaN   \n2410  Sweetwater         NaN      104346.0            19086.0   \n2411    Washakie        34.6      114176.0            17608.0   \n2412      Weston         NaN      132959.0            19265.0   \n\n      percent_in_poverty  percent_veterans  percent_female  \\\n0                   15.2             11.14           51.41   \n1                   13.6             10.13           51.34   \n2                   25.0              9.22           53.03   \n3                   15.0             10.07           51.15   \n4                   33.0              7.08           51.16   \n...                  ...               ...             ...   \n2408                11.6             16.59           51.13   \n2409                 7.9               NaN           48.38   \n2410                 7.7             15.04           49.42   \n2411                11.7             14.47           50.05   \n2412                 9.4             14.34           49.90   \n\n      population_density  percent_in_nursing_homes  crime_index_PC state  \\\n0                   60.4                      2.36           457.0    AL   \n1                   66.5                      5.40           282.0    AL   \n2                   28.8                      7.02            47.0    AL   \n3                   62.4                      2.36           185.0    AL   \n4                   17.6                      3.31           141.0    AL   \n...                  ...                       ...             ...   ...   \n2408                 9.5                      5.07           275.0    WY   \n2409                 1.0                      8.60           432.0    WY   \n2410                 3.9                      3.00           625.0    WY   \n2411                 3.8                      8.47           313.0    WY   \n2412                 2.8                      6.21           167.0    WY   \n\n      vote_for_dems_before  \n0                        0  \n1                        0  \n2                        0  \n3                        0  \n4                        1  \n...                    ...  \n2408                     0  \n2409                     0  \n2410                     0  \n2411                     0  \n2412                     0  \n\n[2413 rows x 12 columns]",
            "text/html": "<div>\n<style scoped>\n    .dataframe tbody tr th:only-of-type {\n        vertical-align: middle;\n    }\n\n    .dataframe tbody tr th {\n        vertical-align: top;\n    }\n\n    .dataframe thead th {\n        text-align: right;\n    }\n</style>\n<table border=\"1\" class=\"dataframe\">\n  <thead>\n    <tr style=\"text-align: right;\">\n      <th></th>\n      <th>county_name</th>\n      <th>median_age</th>\n      <th>mean_savings</th>\n      <th>per_capita_income</th>\n      <th>percent_in_poverty</th>\n      <th>percent_veterans</th>\n      <th>percent_female</th>\n      <th>population_density</th>\n      <th>percent_in_nursing_homes</th>\n      <th>crime_index_PC</th>\n      <th>state</th>\n      <th>vote_for_dems_before</th>\n    </tr>\n  </thead>\n  <tbody>\n    <tr>\n      <th>0</th>\n      <td>Autauga</td>\n      <td>31.7</td>\n      <td>57623.0</td>\n      <td>15768.0</td>\n      <td>15.2</td>\n      <td>11.14</td>\n      <td>51.41</td>\n      <td>60.4</td>\n      <td>2.36</td>\n      <td>457.0</td>\n      <td>AL</td>\n      <td>0</td>\n    </tr>\n    <tr>\n      <th>1</th>\n      <td>Baldwin</td>\n      <td>35.5</td>\n      <td>84935.0</td>\n      <td>16954.0</td>\n      <td>13.6</td>\n      <td>10.13</td>\n      <td>51.34</td>\n      <td>66.5</td>\n      <td>5.40</td>\n      <td>282.0</td>\n      <td>AL</td>\n      <td>0</td>\n    </tr>\n    <tr>\n      <th>2</th>\n      <td>Barbour</td>\n      <td>32.8</td>\n      <td>83656.0</td>\n      <td>15532.0</td>\n      <td>25.0</td>\n      <td>9.22</td>\n      <td>53.03</td>\n      <td>28.8</td>\n      <td>7.02</td>\n      <td>47.0</td>\n      <td>AL</td>\n      <td>0</td>\n    </tr>\n    <tr>\n      <th>3</th>\n      <td>Blount</td>\n      <td>34.5</td>\n      <td>61249.0</td>\n      <td>14820.0</td>\n      <td>15.0</td>\n      <td>10.07</td>\n      <td>51.15</td>\n      <td>62.4</td>\n      <td>2.36</td>\n      <td>185.0</td>\n      <td>AL</td>\n      <td>0</td>\n    </tr>\n    <tr>\n      <th>4</th>\n      <td>Bullock</td>\n      <td>31.7</td>\n      <td>75725.0</td>\n      <td>11120.0</td>\n      <td>33.0</td>\n      <td>7.08</td>\n      <td>51.16</td>\n      <td>17.6</td>\n      <td>3.31</td>\n      <td>141.0</td>\n      <td>AL</td>\n      <td>1</td>\n    </tr>\n    <tr>\n      <th>...</th>\n      <td>...</td>\n      <td>...</td>\n      <td>...</td>\n      <td>...</td>\n      <td>...</td>\n      <td>...</td>\n      <td>...</td>\n      <td>...</td>\n      <td>...</td>\n      <td>...</td>\n      <td>...</td>\n      <td>...</td>\n    </tr>\n    <tr>\n      <th>2408</th>\n      <td>Sheridan</td>\n      <td>NaN</td>\n      <td>87232.0</td>\n      <td>22250.0</td>\n      <td>11.6</td>\n      <td>16.59</td>\n      <td>51.13</td>\n      <td>9.5</td>\n      <td>5.07</td>\n      <td>275.0</td>\n      <td>WY</td>\n      <td>0</td>\n    </tr>\n    <tr>\n      <th>2409</th>\n      <td>Sublette</td>\n      <td>35.4</td>\n      <td>83020.0</td>\n      <td>NaN</td>\n      <td>7.9</td>\n      <td>NaN</td>\n      <td>48.38</td>\n      <td>1.0</td>\n      <td>8.60</td>\n      <td>432.0</td>\n      <td>WY</td>\n      <td>0</td>\n    </tr>\n    <tr>\n      <th>2410</th>\n      <td>Sweetwater</td>\n      <td>NaN</td>\n      <td>104346.0</td>\n      <td>19086.0</td>\n      <td>7.7</td>\n      <td>15.04</td>\n      <td>49.42</td>\n      <td>3.9</td>\n      <td>3.00</td>\n      <td>625.0</td>\n      <td>WY</td>\n      <td>0</td>\n    </tr>\n    <tr>\n      <th>2411</th>\n      <td>Washakie</td>\n      <td>34.6</td>\n      <td>114176.0</td>\n      <td>17608.0</td>\n      <td>11.7</td>\n      <td>14.47</td>\n      <td>50.05</td>\n      <td>3.8</td>\n      <td>8.47</td>\n      <td>313.0</td>\n      <td>WY</td>\n      <td>0</td>\n    </tr>\n    <tr>\n      <th>2412</th>\n      <td>Weston</td>\n      <td>NaN</td>\n      <td>132959.0</td>\n      <td>19265.0</td>\n      <td>9.4</td>\n      <td>14.34</td>\n      <td>49.90</td>\n      <td>2.8</td>\n      <td>6.21</td>\n      <td>167.0</td>\n      <td>WY</td>\n      <td>0</td>\n    </tr>\n  </tbody>\n</table>\n<p>2413 rows × 12 columns</p>\n</div>"
          },
          "metadata": {}
        }
      ],
      "execution_count": null
    },
    {
      "cell_type": "code",
      "source": [
        "for column in X.columns:\n",
        "    print(X[column].value_counts())\n",
        "    print('-'*30)\n",
        "    print(\" \")"
      ],
      "metadata": {
        "tags": [],
        "cell_id": "39f75ec0d170495a814770212a95350a",
        "source_hash": "c83ae492",
        "execution_start": 1675020167064,
        "execution_millis": 12,
        "deepnote_app_coordinates": {
          "h": 5,
          "w": 12,
          "x": 0,
          "y": 0
        },
        "deepnote_to_be_reexecuted": false,
        "deepnote_cell_type": "code",
        "id": "A36mZNVzD5RK",
        "outputId": "fbf123d2-864f-4324-daea-ba1bfdfd33d5"
      },
      "outputs": [
        {
          "name": "stdout",
          "text": "Washington    27\nJefferson     23\nFranklin      23\nJackson       17\nMonroe        16\n              ..\nBarry          1\nVentura        1\nLarue          1\nBennington     1\nJewell         1\nName: county_name, Length: 1424, dtype: int64\n------------------------------\n \n33.1    42\n32.8    42\n34.2    39\n34.8    39\n35.0    39\n        ..\n23.7     1\n41.3     1\n24.2     1\n24.6     1\n51.5     1\nName: median_age, Length: 213, dtype: int64\n------------------------------\n \n83058.0     2\n106163.0    2\n130718.0    2\n101325.0    2\n65278.0     2\n           ..\n86181.0     1\n63494.0     1\n154594.0    1\n94036.0     1\n57175.0     1\nName: mean_savings, Length: 2317, dtype: int64\n------------------------------\n \n14560.0    4\n16281.0    4\n17313.0    4\n16388.0    4\n15567.0    3\n          ..\n18088.0    1\n15325.0    1\n12565.0    1\n16368.0    1\n13297.0    1\nName: per_capita_income, Length: 2073, dtype: int64\n------------------------------\n \n15.4    28\n12.9    27\n13.0    25\n14.2    24\n13.9    23\n        ..\n35.0     1\n26.5     1\n35.4     1\n2.8      1\n33.8     1\nName: percent_in_poverty, Length: 318, dtype: int64\n------------------------------\n \n13.31    15\n11.08    14\n12.22    13\n13.07    13\n12.28    12\n         ..\n11.47     1\n11.52     1\n15.56     1\n16.15     1\n7.46      1\nName: percent_veterans, Length: 609, dtype: int64\n------------------------------\n \n51.11    27\n51.36    23\n52.08    23\n51.13    22\n52.17    22\n         ..\n53.70     1\n45.35     1\n54.10     1\n47.23     1\n53.42     1\nName: percent_female, Length: 417, dtype: int64\n------------------------------\n \n3.8        11\n3.9         9\n3.0         9\n24.1        9\n7.9         8\n           ..\n131.2       1\n18.2        1\n987.4       1\n32360.3     1\n103.0       1\nName: population_density, Length: 1292, dtype: int64\n------------------------------\n \n6.16     11\n7.39     11\n6.01     10\n4.04      9\n7.07      9\n         ..\n21.52     1\n21.45     1\n20.17     1\n14.11     1\n3.22      1\nName: percent_in_nursing_homes, Length: 1018, dtype: int64\n------------------------------\n \n168.0    12\n297.0    11\n231.0    11\n183.0    11\n317.0    10\n         ..\n973.0     1\n690.0     1\n662.0     1\n524.0     1\n428.0     1\nName: crime_index_PC, Length: 730, dtype: int64\n------------------------------\n \nTX    214\nGA    132\nKS     99\nKY     99\nMO     98\nIL     97\nIA     94\nIN     87\nMI     81\nMN     81\nNE     78\nOH     77\nOK     76\nAR     70\nTN     70\nWI     69\nPA     67\nAL     60\nFL     58\nNY     57\nMS     54\nCA     52\nMT     45\nSC     43\nND     42\nLA     40\nCO     39\nWA     38\nID     35\nOR     33\nNM     21\nNJ     21\nUT     20\nMD     19\nWY     19\nME     16\nMA     14\nAZ     12\nVT     11\nNV      9\nNH      9\nCT      8\nRI      5\nDE      3\nName: state, dtype: int64\n------------------------------\n \n0    1811\n1     602\nName: vote_for_dems_before, dtype: int64\n------------------------------\n \n",
          "output_type": "stream"
        }
      ],
      "execution_count": null
    },
    {
      "cell_type": "markdown",
      "source": [
        "---"
      ],
      "metadata": {
        "tags": [],
        "cell_id": "9ec9b183914e4fc09f7b1c3fa038ca97",
        "deepnote_cell_type": "markdown",
        "id": "JhQqekcfD5RK"
      }
    },
    {
      "cell_type": "markdown",
      "source": [
        "# Check missing values"
      ],
      "metadata": {
        "tags": [],
        "cell_id": "0ac070c7d6f246bbaf5acc20ed9f27a5",
        "is_collapsed": false,
        "formattedRanges": [],
        "deepnote_app_coordinates": {
          "h": 5,
          "w": 12,
          "x": 0,
          "y": 43
        },
        "deepnote_cell_type": "text-cell-h1",
        "id": "vJLRlSonD5RL"
      }
    },
    {
      "cell_type": "markdown",
      "source": [
        "Before creating the pipeline it is a good idea to check how many missing values we have in the dataframe."
      ],
      "metadata": {
        "tags": [],
        "cell_id": "50c47da078ac49a2a8aacd3a7f7e255b",
        "deepnote_app_coordinates": {
          "h": 5,
          "w": 12,
          "x": 0,
          "y": 49
        },
        "deepnote_cell_type": "markdown",
        "id": "ZlficzXID5RL"
      }
    },
    {
      "cell_type": "code",
      "source": [
        "msno.matrix(X)"
      ],
      "metadata": {
        "tags": [],
        "cell_id": "5970dde08c99413c853bfb8eb6deadef",
        "source_hash": "70249005",
        "execution_start": 1675020167121,
        "execution_millis": 420,
        "deepnote_app_coordinates": {
          "h": 5,
          "w": 12,
          "x": 0,
          "y": 55
        },
        "deepnote_to_be_reexecuted": false,
        "deepnote_cell_type": "code",
        "id": "Pidyk5JgD5RM",
        "outputId": "cd9955fb-16c3-4db3-d275-ae8137ffc992"
      },
      "outputs": [
        {
          "output_type": "execute_result",
          "execution_count": 5,
          "data": {
            "text/plain": "<AxesSubplot: >"
          },
          "metadata": {}
        },
        {
          "data": {
            "text/plain": "<Figure size 2500x1000 with 2 Axes>",
            "image/png": "[encoded data removed]"
          },
          "metadata": {
            "image/png": {
              "width": 2062,
              "height": 1041
            }
          },
          "output_type": "display_data"
        }
      ],
      "execution_count": null
    },
    {
      "cell_type": "markdown",
      "source": [
        "We have some missing values in almost all the columns (except for <code>vote_for_dems_before</code>), but the percentage of missing values column by column, as can be seen from the next code cell, is very low."
      ],
      "metadata": {
        "tags": [],
        "cell_id": "6630f9ae22b145ac9563b41d25b4d9f8",
        "deepnote_app_coordinates": {
          "h": 5,
          "w": 12,
          "x": 0,
          "y": 61
        },
        "deepnote_cell_type": "markdown",
        "id": "AfMX4RhVD5RM"
      }
    },
    {
      "cell_type": "code",
      "source": [
        "X.isnull().sum(axis=0)/X.shape[0]"
      ],
      "metadata": {
        "tags": [],
        "cell_id": "0b727f75f74f4a83991e589a0afae74b",
        "source_hash": "f5cd9e52",
        "execution_start": 1675020167539,
        "execution_millis": 7,
        "deepnote_app_coordinates": {
          "h": 5,
          "w": 12,
          "x": 0,
          "y": 67
        },
        "deepnote_to_be_reexecuted": false,
        "deepnote_cell_type": "code",
        "id": "Z5W24_l0D5RM",
        "outputId": "c203a505-450f-488b-8418-8f39a9c4707d"
      },
      "outputs": [
        {
          "output_type": "execute_result",
          "execution_count": 6,
          "data": {
            "text/plain": "county_name                 0.026109\nmedian_age                  0.026937\nmean_savings                0.030667\nper_capita_income           0.041442\npercent_in_poverty          0.019478\npercent_veterans            0.026109\npercent_female              0.026523\npopulation_density          0.020721\npercent_in_nursing_homes    0.026109\ncrime_index_PC              0.016162\nstate                       0.016991\nvote_for_dems_before        0.000000\ndtype: float64"
          },
          "metadata": {}
        }
      ],
      "execution_count": null
    },
    {
      "cell_type": "markdown",
      "source": [
        "---"
      ],
      "metadata": {
        "tags": [],
        "cell_id": "e61e571aede84269842a9314793af13c",
        "deepnote_cell_type": "markdown",
        "id": "c6-_IxTeD5RN"
      }
    },
    {
      "cell_type": "markdown",
      "source": [
        "# Create the pipeline"
      ],
      "metadata": {
        "tags": [],
        "cell_id": "8d2ccdf217674e2bb93e917eb1b9bca0",
        "is_collapsed": false,
        "formattedRanges": [],
        "deepnote_app_coordinates": {
          "h": 5,
          "w": 12,
          "x": 0,
          "y": 73
        },
        "deepnote_cell_type": "text-cell-h1",
        "id": "gyl_cpOGD5RN"
      }
    },
    {
      "cell_type": "markdown",
      "source": [
        "> Country_name\n",
        "As we can see in the next code block, this column contains all the names of the counties. It contains almost all unique values (except for some common counties' names like Washington or Franklin) and so I decide to remove this column. Furthermore, the name of a county does not influence if that county voted for Bill Clinton or not. It is not a relevant feature for this type of prediction because it does not provide any demographic information or political preference."
      ],
      "metadata": {
        "tags": [],
        "color": "green",
        "cell_id": "11bee8f2-6346-4ec4-ad41-8983701e3ac7",
        "is_collapsed": false,
        "formattedRanges": [
          {
            "type": "marks",
            "marks": {
              "bold": true
            },
            "toCodePoint": 14,
            "fromCodePoint": 0
          },
          {
            "type": "marks",
            "marks": {
              "italic": true
            },
            "toCodePoint": 196,
            "fromCodePoint": 186
          },
          {
            "type": "marks",
            "marks": {
              "italic": true
            },
            "toCodePoint": 208,
            "fromCodePoint": 200
          },
          {
            "type": "marks",
            "marks": {
              "underline": true
            },
            "toCodePoint": 346,
            "fromCodePoint": 262
          }
        ],
        "deepnote_cell_type": "text-cell-callout",
        "id": "nzCKN-68D5RO"
      }
    },
    {
      "cell_type": "code",
      "source": [
        "X[\"county_name\"].value_counts()"
      ],
      "metadata": {
        "tags": [],
        "cell_id": "2131977e294a4d6b9d9a644144c51bd9",
        "source_hash": "95e3dc1e",
        "execution_start": 1675020167547,
        "execution_millis": 4,
        "deepnote_app_coordinates": {
          "h": 5,
          "w": 12,
          "x": 0,
          "y": 85
        },
        "deepnote_to_be_reexecuted": false,
        "deepnote_cell_type": "code",
        "id": "TS4RVUPWD5RO",
        "outputId": "25d302ee-0772-4b88-cb60-ac79ab11ecd3"
      },
      "outputs": [
        {
          "output_type": "execute_result",
          "execution_count": 7,
          "data": {
            "text/plain": "Washington    27\nJefferson     23\nFranklin      23\nJackson       17\nMonroe        16\n              ..\nBarry          1\nVentura        1\nLarue          1\nBennington     1\nJewell         1\nName: county_name, Length: 1424, dtype: int64"
          },
          "metadata": {}
        }
      ],
      "execution_count": null
    },
    {
      "cell_type": "markdown",
      "source": [
        "---"
      ],
      "metadata": {
        "tags": [],
        "cell_id": "3d911bc5b3ff46c4b527beb0bc6f90bc",
        "deepnote_cell_type": "markdown",
        "id": "IsJEhlN7D5RP"
      }
    },
    {
      "cell_type": "markdown",
      "source": [
        "> Median_age                                                                                                                                                                                                                                                                                                                                                               This feature contains the median age of county residents that is expressed as a float (with one decimal). Since there are some missing values I will use the SimpleImputer with strategy mean. To scale, I will use instead the StandardScaler."
      ],
      "metadata": {
        "tags": [],
        "color": "green",
        "cell_id": "e330ea0858e34e21a5f3b9c267715340",
        "is_collapsed": false,
        "formattedRanges": [
          {
            "type": "marks",
            "marks": {
              "bold": true
            },
            "toCodePoint": 41,
            "fromCodePoint": 0
          },
          {
            "type": "marks",
            "marks": {
              "underline": true
            },
            "toCodePoint": 417,
            "fromCodePoint": 387
          },
          {
            "type": "marks",
            "marks": {
              "code": true
            },
            "toCodePoint": 531,
            "fromCodePoint": 518
          },
          {
            "type": "marks",
            "marks": {
              "italic": true
            },
            "toCodePoint": 550,
            "fromCodePoint": 546
          },
          {
            "type": "marks",
            "marks": {
              "code": true
            },
            "toCodePoint": 599,
            "fromCodePoint": 585
          }
        ],
        "deepnote_cell_type": "text-cell-callout",
        "id": "6tznTE6bD5RP"
      }
    },
    {
      "cell_type": "code",
      "source": [
        "# Get the values of the \"mean_savings\" feature\n",
        "mean_savings = X[\"median_age\"]\n",
        "\n",
        "# Create the histogram\n",
        "plt.hist(mean_savings, bins = 50, color = 'lightblue')\n",
        "\n",
        "# Add labels to the axes\n",
        "plt.xlabel(\"Median Age\")\n",
        "plt.ylabel(\"Frequency\")\n",
        "\n",
        "# Add a title to the plot\n",
        "plt.title(\"Distribution of Median Age\")\n",
        "\n",
        "# Annotate the plot with the mean value\n",
        "mean_value = mean_savings.mean()\n",
        "plt.axvline(mean_value, color='r', linestyle='dashed', linewidth=2, label='Mean', alpha=0.5)\n",
        "plt.legend()\n",
        "\n",
        "# Annotate the plot with the min and max values\n",
        "min_value = mean_savings.min()\n",
        "max_value = mean_savings.max()\n",
        "plt.annotate(f'Min: {min_value}', xy=(min_value, 0), xytext=(min_value, 0.2),\n",
        "             arrowprops=dict(facecolor='green', shrink=0.05))\n",
        "plt.annotate(f'Max: {max_value}', xy=(max_value, 0), xytext=(max_value, 0.2),\n",
        "             arrowprops=dict(facecolor='red', shrink=0.05))\n",
        "\n",
        "# Show the plot\n",
        "plt.show()"
      ],
      "metadata": {
        "tags": [],
        "cell_id": "38fb2508d9c64c30ad84e0865bafd0f3",
        "source_hash": "9914f861",
        "is_code_hidden": true,
        "execution_start": 1675020167558,
        "execution_millis": 181,
        "deepnote_app_coordinates": {
          "h": 5,
          "w": 12,
          "x": 0,
          "y": 0
        },
        "deepnote_to_be_reexecuted": false,
        "deepnote_cell_type": "code",
        "id": "leuaSkhgD5RQ",
        "outputId": "01fed371-0c01-4466-d7e8-0812521c4d85"
      },
      "outputs": [
        {
          "data": {
            "text/plain": "<Figure size 640x480 with 1 Axes>",
            "image/png": "[encoded data removed]"
          },
          "metadata": {
            "image/png": {
              "width": 617,
              "height": 455
            }
          },
          "output_type": "display_data"
        }
      ],
      "execution_count": null
    },
    {
      "cell_type": "code",
      "source": [
        "pipeline_median_age = Pipeline([\n",
        "    (\"1\", SimpleImputer(strategy=\"mean\")),\n",
        "    (\"2\", StandardScaler())\n",
        "])"
      ],
      "metadata": {
        "tags": [],
        "cell_id": "b9ee58f050ee42f988cb94df1958e436",
        "source_hash": "e6954209",
        "execution_start": 1675020167742,
        "execution_millis": 1,
        "deepnote_app_coordinates": {
          "h": 5,
          "w": 12,
          "x": 0,
          "y": 100
        },
        "deepnote_to_be_reexecuted": false,
        "deepnote_cell_type": "code",
        "id": "1zxOXThGD5RQ"
      },
      "outputs": [],
      "execution_count": null
    },
    {
      "cell_type": "markdown",
      "source": [
        "---"
      ],
      "metadata": {
        "tags": [],
        "cell_id": "5e2616dc319f421f84e418ecfb8a0e6b",
        "deepnote_cell_type": "markdown",
        "id": "hr2lSBBwD5RR"
      }
    },
    {
      "cell_type": "markdown",
      "source": [
        "> Mean_savings\n",
        "This feature  represents the average amount of saving a county resident has.\n",
        " I decide to handle the missing values of this column with KNNImputer with strategy n_neighbors=10 and to use the StandardScaler."
      ],
      "metadata": {
        "tags": [],
        "color": "green",
        "cell_id": "1a564b77023344418025eb866c5c9227",
        "is_collapsed": false,
        "formattedRanges": [
          {
            "type": "marks",
            "marks": {
              "bold": true
            },
            "toCodePoint": 14,
            "fromCodePoint": 0
          },
          {
            "type": "marks",
            "marks": {
              "underline": true
            },
            "toCodePoint": 89,
            "fromCodePoint": 43
          },
          {
            "type": "marks",
            "marks": {
              "code": true
            },
            "toCodePoint": 160,
            "fromCodePoint": 150
          },
          {
            "type": "marks",
            "marks": {
              "italic": true
            },
            "toCodePoint": 189,
            "fromCodePoint": 175
          },
          {
            "type": "marks",
            "marks": {
              "code": true
            },
            "toCodePoint": 219,
            "fromCodePoint": 205
          }
        ],
        "deepnote_cell_type": "text-cell-callout",
        "id": "iksydzGtD5RR"
      }
    },
    {
      "cell_type": "code",
      "source": [
        "# Get the values of the \"mean_savings\" feature\n",
        "mean_savings = X[\"mean_savings\"]\n",
        "\n",
        "# Create the histogram\n",
        "plt.hist(mean_savings, bins = 50, color = 'lightblue')\n",
        "\n",
        "# Add labels to the axes\n",
        "plt.xlabel(\"Mean Savings\")\n",
        "plt.ylabel(\"Frequency\")\n",
        "\n",
        "# Add a title to the plot\n",
        "plt.title(\"Distribution of Mean Savings\")\n",
        "\n",
        "# Annotate the plot with the mean value\n",
        "mean_value = mean_savings.mean()\n",
        "plt.axvline(mean_value, color='r', linestyle='dashed', linewidth=2, label='Mean', alpha=0.5)\n",
        "plt.legend()\n",
        "\n",
        "# Annotate the plot with the min and max values\n",
        "min_value = mean_savings.min()\n",
        "max_value = mean_savings.max()\n",
        "plt.annotate(f'Min: {min_value}', xy=(min_value, 0), xytext=(min_value, 0.2),\n",
        "             arrowprops=dict(facecolor='green', shrink=0.05))\n",
        "plt.annotate(f'Max: {max_value}', xy=(max_value, 0), xytext=(max_value, 0.2),\n",
        "             arrowprops=dict(facecolor='red', shrink=0.05))\n",
        "\n",
        "# Show the plot\n",
        "plt.show()"
      ],
      "metadata": {
        "tags": [],
        "cell_id": "6b916191e93b445b92c1c360ef51ee2d",
        "source_hash": "3b11adf6",
        "is_code_hidden": true,
        "execution_start": 1675020167746,
        "execution_millis": 201,
        "deepnote_app_coordinates": {
          "h": 5,
          "w": 12,
          "x": 0,
          "y": 0
        },
        "deepnote_to_be_reexecuted": false,
        "deepnote_cell_type": "code",
        "id": "80EggSsGD5RR",
        "outputId": "c21b3d07-f660-4bac-f446-210b78fa891d"
      },
      "outputs": [
        {
          "data": {
            "text/plain": "<Figure size 640x480 with 1 Axes>",
            "image/png": "[encoded data removed]"
          },
          "metadata": {
            "image/png": {
              "width": 652,
              "height": 455
            }
          },
          "output_type": "display_data"
        }
      ],
      "execution_count": null
    },
    {
      "cell_type": "markdown",
      "source": [
        "> Keep in mind that the KNNImputer class can be slower than the SimpleImputer class, especially for large datasets. It is fundamentally important to consider the trade-off between accuracy and computational efficiency when deciding which imputation method to use."
      ],
      "metadata": {
        "tags": [],
        "color": "yellow",
        "cell_id": "212e65a9728a40a7b51b427af7e3b30f",
        "is_collapsed": false,
        "formattedRanges": [
          {
            "type": "marks",
            "marks": {
              "code": true
            },
            "toCodePoint": 32,
            "fromCodePoint": 22
          },
          {
            "type": "marks",
            "marks": {
              "code": true
            },
            "toCodePoint": 75,
            "fromCodePoint": 62
          },
          {
            "type": "marks",
            "marks": {
              "underline": true
            },
            "toCodePoint": 169,
            "fromCodePoint": 160
          }
        ],
        "deepnote_app_coordinates": {
          "h": 2,
          "w": 8,
          "x": 0,
          "y": 118
        },
        "deepnote_cell_type": "text-cell-callout",
        "id": "soUbn3gjD5RS"
      }
    },
    {
      "cell_type": "code",
      "source": [
        "pipeline_mean_savings = Pipeline([\n",
        "    (\"1\", KNNImputer(n_neighbors=10)),\n",
        "    (\"2\", StandardScaler())\n",
        "])"
      ],
      "metadata": {
        "tags": [],
        "cell_id": "48ea0ec3c5914bd3a5def1213da0d966",
        "source_hash": "8d0b0d94",
        "execution_start": 1675020167988,
        "execution_millis": 0,
        "deepnote_app_coordinates": {
          "h": 5,
          "w": 12,
          "x": 0,
          "y": 112
        },
        "deepnote_to_be_reexecuted": false,
        "deepnote_cell_type": "code",
        "id": "8MsJLYxzD5RS"
      },
      "outputs": [],
      "execution_count": null
    },
    {
      "cell_type": "markdown",
      "source": [
        "---"
      ],
      "metadata": {
        "tags": [],
        "cell_id": "1874b74169d0446e9f1d2d8f2e1f02fa",
        "deepnote_cell_type": "markdown",
        "id": "YSFwWJzTD5RT"
      }
    },
    {
      "cell_type": "markdown",
      "source": [
        "> Percent_in_poverty, percent_veterans, percent_female, percent_in_nursing_home\n",
        "For these columns (from now on just called percent columns) I will use the KNNImputer to lead to more accurate imputations and the MinMaxScaler because those features are percentages and so by definition, they range between 0 and 100, so it is easy to reduce all to a smaller range between 0 and 1."
      ],
      "metadata": {
        "tags": [],
        "color": "green",
        "cell_id": "2a02cf50006e4d3284f28ae21df6d8d4",
        "is_collapsed": false,
        "formattedRanges": [
          {
            "type": "marks",
            "marks": {
              "bold": true
            },
            "toCodePoint": 18,
            "fromCodePoint": 0
          },
          {
            "type": "marks",
            "marks": {
              "bold": true
            },
            "toCodePoint": 36,
            "fromCodePoint": 20
          },
          {
            "type": "marks",
            "marks": {
              "bold": true
            },
            "toCodePoint": 52,
            "fromCodePoint": 38
          },
          {
            "type": "marks",
            "marks": {
              "bold": true
            },
            "toCodePoint": 77,
            "fromCodePoint": 54
          },
          {
            "type": "marks",
            "marks": {
              "italic": true
            },
            "toCodePoint": 137,
            "fromCodePoint": 122
          },
          {
            "type": "marks",
            "marks": {
              "code": true
            },
            "toCodePoint": 164,
            "fromCodePoint": 154
          },
          {
            "type": "marks",
            "marks": {
              "code": true
            },
            "toCodePoint": 222,
            "fromCodePoint": 210
          }
        ],
        "deepnote_cell_type": "text-cell-callout",
        "id": "MTXuX5XyD5RT"
      }
    },
    {
      "cell_type": "code",
      "source": [
        "import matplotlib.pyplot as plt\n",
        "\n",
        "# Create a figure with 4 subplots\n",
        "fig, axes = plt.subplots(1, 4, figsize=(20, 5))\n",
        "\n",
        "# Set the title for each subplot\n",
        "axes[0].set_title(\"Percent in Poverty\")\n",
        "axes[1].set_title(\"Percent Veterans\")\n",
        "axes[2].set_title(\"Percent Female\")\n",
        "axes[3].set_title(\"Percent in Nursing Home\")\n",
        "\n",
        "# Get the values of each feature\n",
        "percent_in_poverty = X[\"percent_in_poverty\"]\n",
        "percent_veterans = X[\"percent_veterans\"]\n",
        "percent_female = X[\"percent_female\"]\n",
        "percent_in_nursing_homes = X[\"percent_in_nursing_homes\"]\n",
        "\n",
        "# Plot the histograms for each feature\n",
        "axes[0].hist(percent_in_poverty, bins = 50, color = 'lightblue')\n",
        "axes[1].hist(percent_veterans, bins = 50, color = 'lightblue')\n",
        "axes[2].hist(percent_female, bins = 50, color = 'lightblue')\n",
        "axes[3].hist(percent_in_nursing_homes, bins = 50, color = 'lightblue')\n",
        "\n",
        "# Annotate the plot with the mean value\n",
        "mean_value_poverty = percent_in_poverty.mean()\n",
        "mean_value_veterans = percent_veterans.mean()\n",
        "mean_value_female = percent_female.mean()\n",
        "mean_value_nursing_homes = percent_in_nursing_homes.mean()\n",
        "axes[0].axvline(mean_value_poverty, color='r', linestyle='dashed', linewidth=2, label='Mean', alpha=0.5)\n",
        "axes[1].axvline(mean_value_veterans, color='r', linestyle='dashed', linewidth=2, label='Mean', alpha=0.5)\n",
        "axes[2].axvline(mean_value_female, color='r', linestyle='dashed', linewidth=2, label='Mean', alpha=0.5)\n",
        "axes[3].axvline(mean_value_nursing_homes, color='r', linestyle='dashed', linewidth=2, label='Mean', alpha=0.5)\n",
        "\n",
        "# Show the plot\n",
        "plt.show()\n"
      ],
      "metadata": {
        "tags": [],
        "cell_id": "806ac67bab674b919a16fb66542d8d97",
        "source_hash": "6b4b2ff6",
        "is_code_hidden": true,
        "execution_start": 1675020167988,
        "execution_millis": 464,
        "deepnote_app_coordinates": {
          "h": 5,
          "w": 12,
          "x": 0,
          "y": 0
        },
        "deepnote_to_be_reexecuted": false,
        "deepnote_cell_type": "code",
        "id": "JfxAvXW_D5RT",
        "outputId": "725349be-37c0-4d06-a7be-97d16c4b4270"
      },
      "outputs": [
        {
          "data": {
            "text/plain": "<Figure size 2000x500 with 4 Axes>",
            "image/png": "[encoded data removed]"
          },
          "metadata": {
            "image/png": {
              "width": 1606,
              "height": 451
            }
          },
          "output_type": "display_data"
        }
      ],
      "execution_count": null
    },
    {
      "cell_type": "code",
      "source": [
        "pipeline_percent = Pipeline([\n",
        "    (\"1\", KNNImputer(n_neighbors=5)),\n",
        "    (\"2\", MinMaxScaler())\n",
        "])"
      ],
      "metadata": {
        "tags": [],
        "cell_id": "7a6600f48bdc4b1fb6d5291e3b530e6e",
        "source_hash": "16973ada",
        "execution_start": 1675020168453,
        "execution_millis": 1,
        "deepnote_app_coordinates": {
          "h": 5,
          "w": 12,
          "x": 0,
          "y": 127
        },
        "deepnote_to_be_reexecuted": false,
        "deepnote_cell_type": "code",
        "id": "BGJPS-DgD5RU"
      },
      "outputs": [],
      "execution_count": null
    },
    {
      "cell_type": "markdown",
      "source": [
        "---"
      ],
      "metadata": {
        "tags": [],
        "cell_id": "1ed560fa7611492bbed3d653fa9a6a8d",
        "deepnote_cell_type": "markdown",
        "id": "03LEzWdlD5RU"
      }
    },
    {
      "cell_type": "markdown",
      "source": [
        "> State\n",
        "This feature contains the state a county is located in.\n",
        " The state is abbreviated with two letters and it contains categorical data. For the missing values, I will use SimpleImputer with strategy most_frequent. Also, I will use the OneHotEncoder since it is nominal and not ordinal."
      ],
      "metadata": {
        "tags": [],
        "color": "green",
        "cell_id": "66393b25f7b64adb92a4820d2bccc625",
        "is_collapsed": false,
        "formattedRanges": [
          {
            "type": "marks",
            "marks": {
              "bold": true
            },
            "toCodePoint": 7,
            "fromCodePoint": 0
          },
          {
            "type": "marks",
            "marks": {
              "underline": true
            },
            "toCodePoint": 61,
            "fromCodePoint": 33
          },
          {
            "type": "marks",
            "marks": {
              "code": true
            },
            "toCodePoint": 188,
            "fromCodePoint": 175
          },
          {
            "type": "marks",
            "marks": {
              "italic": true
            },
            "toCodePoint": 216,
            "fromCodePoint": 203
          },
          {
            "type": "marks",
            "marks": {
              "code": true
            },
            "toCodePoint": 252,
            "fromCodePoint": 239
          }
        ],
        "deepnote_cell_type": "text-cell-callout",
        "id": "x2TVtYxJD5RU"
      }
    },
    {
      "cell_type": "code",
      "source": [
        "import matplotlib.pyplot as plt\n",
        "\n",
        "# Count the frequency of each state\n",
        "state_counts = X[\"state\"].value_counts()\n",
        "\n",
        "# Create a bar plot\n",
        "state_counts.plot(kind='bar', color = 'lightblue')\n",
        "\n",
        "# Set the title and labels\n",
        "plt.title(\"Frequency of each State\")\n",
        "plt.xlabel(\"State\")\n",
        "plt.ylabel(\"Frequency\")\n",
        "\n",
        "# Show the plot\n",
        "plt.show()\n"
      ],
      "metadata": {
        "tags": [],
        "cell_id": "fdca3996d52046478c0d51391e9247ec",
        "source_hash": "bcba405d",
        "is_code_hidden": true,
        "execution_start": 1675020168456,
        "execution_millis": 339,
        "deepnote_app_coordinates": {
          "h": 5,
          "w": 12,
          "x": 0,
          "y": 0
        },
        "deepnote_to_be_reexecuted": false,
        "deepnote_cell_type": "code",
        "id": "vH9YOV4YD5RV",
        "outputId": "e27a710d-374d-4921-ba3f-fbe36c7b6029"
      },
      "outputs": [
        {
          "data": {
            "text/plain": "<Figure size 640x480 with 1 Axes>",
            "image/png": "[encoded data removed]"
          },
          "metadata": {
            "image/png": {
              "width": 573,
              "height": 464
            }
          },
          "output_type": "display_data"
        }
      ],
      "execution_count": null
    },
    {
      "cell_type": "code",
      "source": [
        "pipeline_state = Pipeline([\n",
        "    (\"1\", SimpleImputer(strategy='most_frequent')),\n",
        "    (\"2\", OneHotEncoder(categories='auto',drop='first',handle_unknown='ignore'))\n",
        "])"
      ],
      "metadata": {
        "tags": [],
        "cell_id": "2888a5e94c8347b9a118b6d2fa79820f",
        "source_hash": "f94c54f4",
        "execution_start": 1675020168797,
        "execution_millis": 0,
        "deepnote_app_coordinates": {
          "h": 5,
          "w": 12,
          "x": 0,
          "y": 139
        },
        "deepnote_to_be_reexecuted": false,
        "deepnote_cell_type": "code",
        "id": "f9O5PaAXD5RV"
      },
      "outputs": [],
      "execution_count": null
    },
    {
      "cell_type": "markdown",
      "source": [
        "---"
      ],
      "metadata": {
        "tags": [],
        "cell_id": "1640df8edd4a45d38793b82d3c87f7dd",
        "deepnote_cell_type": "markdown",
        "id": "DLBSQcbQD5RW"
      }
    },
    {
      "cell_type": "markdown",
      "source": [
        "> Vote_for_dems_before\n",
        "This feature (added by me and not present in the original dataset on Kaggle) shows if a county voted for a democratic candidate in the past 1988 United States presidential election. It has either 0 or 1. I believe it is a nice feature to have"
      ],
      "metadata": {
        "tags": [],
        "color": "green",
        "cell_id": "a34f999f403d4701b4ced22649c26e42",
        "is_collapsed": false,
        "formattedRanges": [
          {
            "type": "marks",
            "marks": {
              "bold": true
            },
            "toCodePoint": 22,
            "fromCodePoint": 0
          },
          {
            "type": "marks",
            "marks": {
              "italic": true
            },
            "toCodePoint": 219,
            "fromCodePoint": 218
          },
          {
            "type": "marks",
            "marks": {
              "italic": true
            },
            "toCodePoint": 224,
            "fromCodePoint": 223
          }
        ],
        "deepnote_cell_type": "text-cell-callout",
        "id": "QOSUcTp8D5RW"
      }
    },
    {
      "cell_type": "code",
      "source": [
        "# Count the frequency of each item\n",
        "vote_dems_counts = X[\"vote_for_dems_before\"].value_counts()\n",
        "\n",
        "# Create a pie chart\n",
        "vote_dems_counts.plot(kind='pie', autopct='%1.1f%%', colors = ['lightblue','lightgreen'])\n",
        "\n",
        "# Set the title\n",
        "plt.title(\"% of county that voted for Democracts before\")\n",
        "\n",
        "# Remove the y-axis label\n",
        "plt.ylabel('')\n",
        "\n",
        "\n",
        "# Show the plot\n",
        "plt.show()\n"
      ],
      "metadata": {
        "tags": [],
        "cell_id": "9f61ea5265c940a68799e7c6c3791c0d",
        "source_hash": "9b526c2d",
        "is_code_hidden": true,
        "execution_start": 1675020168800,
        "execution_millis": 65,
        "deepnote_app_coordinates": {
          "h": 5,
          "w": 12,
          "x": 0,
          "y": 0
        },
        "deepnote_to_be_reexecuted": false,
        "deepnote_cell_type": "code",
        "id": "t7mz_gi1D5RW",
        "outputId": "de127877-de3f-4569-e4ca-4cad6b219caf"
      },
      "outputs": [
        {
          "data": {
            "text/plain": "<Figure size 640x480 with 1 Axes>",
            "image/png": "[encoded data removed]"
          },
          "metadata": {
            "image/png": {
              "width": 402,
              "height": 411
            }
          },
          "output_type": "display_data"
        }
      ],
      "execution_count": null
    },
    {
      "cell_type": "markdown",
      "source": [
        "> With the \"*1 trick\" I converted True to 1 and False to 0 to handle numerical features. Since it is a Boolean column I will not use any scaler."
      ],
      "metadata": {
        "tags": [],
        "color": "yellow",
        "cell_id": "7c2ec306767f469f9943912c7892445a",
        "is_collapsed": false,
        "formattedRanges": [
          {
            "type": "marks",
            "marks": {
              "italic": true
            },
            "toCodePoint": 18,
            "fromCodePoint": 10
          }
        ],
        "deepnote_cell_type": "text-cell-callout",
        "id": "i573eZ0JD5RX"
      }
    },
    {
      "cell_type": "code",
      "source": [
        "pipeline_vote_for_dems_before = Pipeline([\n",
        "    (\"1\", SimpleImputer(strategy='most_frequent'))\n",
        "])"
      ],
      "metadata": {
        "tags": [],
        "cell_id": "31fbb960180343f0aadfe028cca9f874",
        "source_hash": "a0d2bf1f",
        "execution_start": 1675020168866,
        "execution_millis": 1,
        "deepnote_app_coordinates": {
          "h": 5,
          "w": 12,
          "x": 0,
          "y": 151
        },
        "deepnote_to_be_reexecuted": false,
        "deepnote_cell_type": "code",
        "id": "FSeg_IZrD5RX"
      },
      "outputs": [],
      "execution_count": null
    },
    {
      "cell_type": "markdown",
      "source": [
        "---"
      ],
      "metadata": {
        "tags": [],
        "cell_id": "265ab08578ed4662b445cbb09941d9ef",
        "deepnote_cell_type": "markdown",
        "id": "u9nMKDYqD5RY"
      }
    },
    {
      "cell_type": "markdown",
      "source": [
        "> All the other columns\n",
        "For the columns per_capita_income, population_density, crime_index_PC I will use a general pipeline with KNNImputer. All the features contain missing values, so we have to apply an imputation strategy. In this case the strategy is based on the idea of\n",
        "k-nearest neighbors and the StandardScaler."
      ],
      "metadata": {
        "tags": [],
        "color": "green",
        "cell_id": "35a5916870f64dd28774569249895f77",
        "is_collapsed": false,
        "formattedRanges": [
          {
            "type": "marks",
            "marks": {
              "bold": true
            },
            "toCodePoint": 21,
            "fromCodePoint": 0
          },
          {
            "type": "marks",
            "marks": {
              "italic": true
            },
            "toCodePoint": 56,
            "fromCodePoint": 39
          },
          {
            "type": "marks",
            "marks": {
              "italic": true
            },
            "toCodePoint": 76,
            "fromCodePoint": 58
          },
          {
            "type": "marks",
            "marks": {
              "italic": true
            },
            "toCodePoint": 92,
            "fromCodePoint": 78
          },
          {
            "type": "marks",
            "marks": {
              "code": true
            },
            "toCodePoint": 138,
            "fromCodePoint": 128
          },
          {
            "type": "marks",
            "marks": {
              "code": true
            },
            "toCodePoint": 318,
            "fromCodePoint": 304
          }
        ],
        "deepnote_cell_type": "text-cell-callout",
        "id": "ZbzOCdXTD5RY"
      }
    },
    {
      "cell_type": "code",
      "source": [
        "import matplotlib.pyplot as plt\n",
        "\n",
        "# Create a figure with 3 subplots\n",
        "fig, axes = plt.subplots(1, 3, figsize=(20, 5))\n",
        "\n",
        "# Set the title for each subplot\n",
        "axes[0].set_title(\"Per Capita Income\")\n",
        "axes[1].set_title(\"Population Density\")\n",
        "axes[2].set_title(\"Crime Index PC\")\n",
        "\n",
        "# Get the values of each feature\n",
        "per_capita_income = X[\"per_capita_income\"]\n",
        "population_density = X[\"population_density\"]\n",
        "crime_index_PC = X[\"crime_index_PC\"]\n",
        "\n",
        "axes[1].set_ylim(0, population_density.value_counts().max()*1.2)\n",
        "\n",
        "# Plot the histograms for each feature\n",
        "axes[0].hist(per_capita_income, bins = 50, color = 'lightblue')\n",
        "axes[1].hist(population_density, bins = 50, color = 'lightblue')\n",
        "axes[2].hist(crime_index_PC, bins = 50, color = 'lightblue')\n",
        "\n",
        "# Annotate the plot with the mean value\n",
        "mean_per_capita_income = per_capita_income.mean()\n",
        "mean_population_density = population_density.mean()\n",
        "mean_crime_index_PC = crime_index_PC.mean()\n",
        "axes[0].axvline(mean_per_capita_income, color='r', linestyle='dashed', linewidth=2, label='Mean', alpha=0.5)\n",
        "axes[1].axvline(mean_population_density, color='r', linestyle='dashed', linewidth=2, label='Mean', alpha=0.5)\n",
        "axes[2].axvline(mean_crime_index_PC, color='r', linestyle='dashed', linewidth=2, label='Mean', alpha=0.5)\n",
        "\n",
        "# Show the plot\n",
        "plt.show()\n"
      ],
      "metadata": {
        "tags": [],
        "cell_id": "ec0cb93b118c4dc4b2fd8b2ae60d45e7",
        "source_hash": "8fc3a234",
        "is_code_hidden": true,
        "execution_start": 1675020168912,
        "execution_millis": 423,
        "deepnote_app_coordinates": {
          "h": 5,
          "w": 12,
          "x": 0,
          "y": 0
        },
        "deepnote_to_be_reexecuted": false,
        "deepnote_cell_type": "code",
        "id": "YQykjR68D5RY",
        "outputId": "56affb84-782a-4885-d4d3-94b9b16cb60f"
      },
      "outputs": [
        {
          "data": {
            "text/plain": "<Figure size 2000x500 with 3 Axes>",
            "image/png": "[encoded data removed]"
          },
          "metadata": {
            "image/png": {
              "width": 1606,
              "height": 451
            }
          },
          "output_type": "display_data"
        }
      ],
      "execution_count": null
    },
    {
      "cell_type": "code",
      "source": [
        "pipeline_general = Pipeline([\n",
        "    (\"1\", KNNImputer(n_neighbors=5)),\n",
        "    (\"2\", StandardScaler())\n",
        "])"
      ],
      "metadata": {
        "tags": [],
        "cell_id": "87aa6892aeb64d9186a67cb57f10e0cc",
        "source_hash": "42ab9dee",
        "execution_start": 1675020169279,
        "execution_millis": 0,
        "deepnote_app_coordinates": {
          "h": 5,
          "w": 12,
          "x": 0,
          "y": 163
        },
        "deepnote_to_be_reexecuted": false,
        "deepnote_cell_type": "code",
        "id": "XwCY472RD5RZ"
      },
      "outputs": [],
      "execution_count": null
    },
    {
      "cell_type": "markdown",
      "source": [
        "---"
      ],
      "metadata": {
        "tags": [],
        "cell_id": "bf2744aa16f241428311c0b65acc2e0b",
        "deepnote_cell_type": "markdown",
        "id": "9tgusbWjD5RZ"
      }
    },
    {
      "cell_type": "markdown",
      "source": [
        "## Create the column transformer"
      ],
      "metadata": {
        "tags": [],
        "cell_id": "6fe36cfa894f4a80bdf4bb1b71e5eba9",
        "is_collapsed": false,
        "formattedRanges": [],
        "deepnote_app_coordinates": {
          "h": 5,
          "w": 12,
          "x": 0,
          "y": 169
        },
        "deepnote_cell_type": "text-cell-h2",
        "id": "eNgnQaYBD5Ra"
      }
    },
    {
      "cell_type": "markdown",
      "source": [
        "With <code>remainder=\"drop\"</code> I discard all the others columns not inolved in the selection. In this case I remove the column *county_name*. Also <code>verbose_feature_names_out</code> is set equal to False so that the output of the transformer will not include the names of the columns that were transformed. Furthermore, since there are no columns that contains a large number of missing value or of zeros I will set the <code>sparse_threshold</code> equal to 0."
      ],
      "metadata": {
        "tags": [],
        "cell_id": "934007186fbf47faa434ae479c80109d",
        "deepnote_app_coordinates": {
          "h": 5,
          "w": 12,
          "x": 0,
          "y": 175
        },
        "deepnote_cell_type": "markdown",
        "id": "UBzGDkN3D5Ra"
      }
    },
    {
      "cell_type": "code",
      "source": [
        "final_transformation = ColumnTransformer(transformers=[\n",
        "    (\"1\", pipeline_median_age, [\"median_age\"]),\n",
        "    (\"2\", pipeline_mean_savings, [\"mean_savings\"]),\n",
        "    (\"3\", pipeline_percent, [\"percent_in_poverty\", \"percent_veterans\", \"percent_female\", \"percent_in_nursing_homes\"]),\n",
        "    (\"4\", pipeline_general, [\"per_capita_income\", \"population_density\", \"crime_index_PC\"]),\n",
        "    (\"5\", pipeline_state, [\"state\"]),\n",
        "    (\"6\", pipeline_vote_for_dems_before, [\"vote_for_dems_before\"])\n",
        "],\n",
        "remainder='drop',\n",
        "verbose_feature_names_out=False,\n",
        "sparse_threshold=0,\n",
        "n_jobs = -1\n",
        ")"
      ],
      "metadata": {
        "tags": [],
        "cell_id": "f18655195996468b9ed131971f90c57e",
        "source_hash": "86f803c1",
        "execution_start": 1675020169280,
        "execution_millis": 0,
        "deepnote_app_coordinates": {
          "h": 5,
          "w": 12,
          "x": 0,
          "y": 181
        },
        "deepnote_to_be_reexecuted": false,
        "deepnote_cell_type": "code",
        "id": "KQHXF7eED5Ra"
      },
      "outputs": [],
      "execution_count": null
    },
    {
      "cell_type": "code",
      "source": [
        "## This was a test to check if the final transformation worked as expected.\n",
        "#X = pd.DataFrame(final_transformation.fit_transform(X), columns=final_transformation.get_feature_names_out())\n",
        "#X"
      ],
      "metadata": {
        "tags": [],
        "cell_id": "43c3cb2854a74c15bb71540bcb8fe554",
        "source_hash": "60af3caf",
        "execution_start": 1675020169280,
        "execution_millis": 1,
        "deepnote_app_coordinates": {
          "h": 5,
          "w": 12,
          "x": 0,
          "y": 187
        },
        "deepnote_to_be_reexecuted": false,
        "deepnote_cell_type": "code",
        "id": "TicL1mdzD5Ra"
      },
      "outputs": [],
      "execution_count": null
    },
    {
      "cell_type": "markdown",
      "source": [
        "---"
      ],
      "metadata": {
        "tags": [],
        "cell_id": "ae029b48d81e46d69ae731608ad8708d",
        "deepnote_cell_type": "markdown",
        "id": "ut7ou1VcD5Rb"
      }
    },
    {
      "cell_type": "markdown",
      "source": [
        "# Training and test sets"
      ],
      "metadata": {
        "tags": [],
        "cell_id": "f0f3a22a36b942b9b984e03d92ccae22",
        "is_collapsed": false,
        "formattedRanges": [],
        "deepnote_app_coordinates": {
          "h": 5,
          "w": 12,
          "x": 0,
          "y": 193
        },
        "deepnote_cell_type": "text-cell-h1",
        "id": "MuJuA8yTD5Rb"
      }
    },
    {
      "cell_type": "markdown",
      "source": [
        "Now it is possible to split the entire dataset in train and test. I will use a test_size of 0.25. The <code>random_state</code> is set to be 31 (personal lucky number)."
      ],
      "metadata": {
        "tags": [],
        "cell_id": "d21b0e785b624c0ea696d3e2085bcd09",
        "deepnote_app_coordinates": {
          "h": 5,
          "w": 12,
          "x": 0,
          "y": 199
        },
        "deepnote_cell_type": "markdown",
        "id": "4FJZW9_ED5Rb"
      }
    },
    {
      "cell_type": "code",
      "source": [
        "X_train, X_test, y_train, y_test = train_test_split(X, y, train_size=0.75, stratify = y, random_state=31)"
      ],
      "metadata": {
        "tags": [],
        "cell_id": "232960aabd70456a9a609326ac324eaf",
        "source_hash": "2ce0f256",
        "execution_start": 1675020169330,
        "execution_millis": 1,
        "deepnote_app_coordinates": {
          "h": 5,
          "w": 12,
          "x": 0,
          "y": 205
        },
        "deepnote_to_be_reexecuted": false,
        "deepnote_cell_type": "code",
        "id": "p4RB0m8KD5Rb"
      },
      "outputs": [],
      "execution_count": null
    },
    {
      "cell_type": "code",
      "source": [
        "print('Shape of X_train: {}\\nShape of X_test: {}'.format(X_train.shape, X_test.shape))"
      ],
      "metadata": {
        "tags": [],
        "cell_id": "84fd8f5976254e678a09c17aeafcf779",
        "source_hash": "9e4e3913",
        "execution_start": 1675020169332,
        "execution_millis": 12,
        "deepnote_app_coordinates": {
          "h": 5,
          "w": 12,
          "x": 0,
          "y": 0
        },
        "deepnote_to_be_reexecuted": false,
        "deepnote_cell_type": "code",
        "id": "lazloyhXD5Rc",
        "outputId": "46db4f04-fe83-4c90-f7f2-40e4593126ec"
      },
      "outputs": [
        {
          "name": "stdout",
          "text": "Shape of X_train: (1809, 12)\nShape of X_test: (604, 12)\n",
          "output_type": "stream"
        }
      ],
      "execution_count": null
    },
    {
      "cell_type": "markdown",
      "source": [
        "---"
      ],
      "metadata": {
        "tags": [],
        "cell_id": "a467da42eae54e09abb3349e75520a7f",
        "deepnote_cell_type": "markdown",
        "id": "e3sXpxNnD5Rc"
      }
    },
    {
      "cell_type": "markdown",
      "source": [
        "# Model selection"
      ],
      "metadata": {
        "tags": [],
        "cell_id": "02aa70f3a6994cb6a82c655448af7a9a",
        "is_collapsed": false,
        "formattedRanges": [],
        "deepnote_app_coordinates": {
          "h": 5,
          "w": 12,
          "x": 0,
          "y": 211
        },
        "deepnote_cell_type": "text-cell-h1",
        "id": "0GTMCT4PD5Rc"
      }
    },
    {
      "cell_type": "markdown",
      "source": [
        "We have to select the best candidates among all the candidate models. To do so we use a nested-cross validation process."
      ],
      "metadata": {
        "tags": [],
        "cell_id": "6f1c389be128491fbc8a9fd245dbb21a",
        "deepnote_app_coordinates": {
          "h": 5,
          "w": 12,
          "x": 0,
          "y": 217
        },
        "deepnote_cell_type": "markdown",
        "id": "3xYU0IfmD5Rd"
      }
    },
    {
      "cell_type": "code",
      "source": [
        "y.value_counts()"
      ],
      "metadata": {
        "tags": [],
        "cell_id": "2af37358cf6845f09ea77f351ff6fc63",
        "source_hash": "d1a4928d",
        "execution_start": 1675020169332,
        "execution_millis": 12,
        "deepnote_to_be_reexecuted": false,
        "deepnote_cell_type": "code",
        "id": "Vs1-shrgD5Rd",
        "outputId": "28413430-9e82-497f-e6d4-621ade7cd761"
      },
      "outputs": [
        {
          "output_type": "execute_result",
          "execution_count": 24,
          "data": {
            "text/plain": "0    1220\n1    1193\nName: clinton_win, dtype: int64"
          },
          "metadata": {}
        }
      ],
      "execution_count": null
    },
    {
      "cell_type": "code",
      "source": [
        "model_pipeline = IMBPipeline([\n",
        "    ('trans', final_transformation),\n",
        "    (\"sampler\", RandomOverSampler()),\n",
        "    ('dim_reduction', PCA(n_components=0.8)),\n",
        "    ('classifier', Perceptron())\n",
        "])"
      ],
      "metadata": {
        "tags": [],
        "cell_id": "d366c65c6c8e4824b937e1c986bfc8d5",
        "source_hash": "afc74a3",
        "execution_start": 1675020169333,
        "execution_millis": 1,
        "deepnote_app_coordinates": {
          "h": 5,
          "w": 12,
          "x": 0,
          "y": 226
        },
        "deepnote_to_be_reexecuted": false,
        "deepnote_cell_type": "code",
        "id": "xa2oSt7OD5Rd"
      },
      "outputs": [],
      "execution_count": null
    },
    {
      "cell_type": "code",
      "source": [
        "model_pipeline.fit(X_train,y_train)"
      ],
      "metadata": {
        "tags": [],
        "cell_id": "a01cbd8a63e642bcae7c3565e58b0e16",
        "source_hash": "145d3fd3",
        "execution_start": 1675020169334,
        "execution_millis": 873,
        "deepnote_app_coordinates": {
          "h": 5,
          "w": 12,
          "x": 0,
          "y": 232
        },
        "deepnote_to_be_reexecuted": false,
        "deepnote_cell_type": "code",
        "id": "npSgiqWxD5Re",
        "outputId": "6e3a0be2-254b-479e-c0ed-3f21599f9800"
      },
      "outputs": [
        {
          "output_type": "execute_result",
          "execution_count": 26,
          "data": {
            "text/plain": "Pipeline(steps=[('trans',\n                 ColumnTransformer(n_jobs=-1, sparse_threshold=0,\n                                   transformers=[('1',\n                                                  Pipeline(steps=[('1',\n                                                                   SimpleImputer()),\n                                                                  ('2',\n                                                                   StandardScaler())]),\n                                                  ['median_age']),\n                                                 ('2',\n                                                  Pipeline(steps=[('1',\n                                                                   KNNImputer(n_neighbors=10)),\n                                                                  ('2',\n                                                                   StandardScaler())]),\n                                                  ['mean_savings']),\n                                                 ('3',\n                                                  Pipeline(steps=[('1',\n                                                                   KNNImputer()),\n                                                                  ('2',\n                                                                   MinMaxScaler())]),\n                                                  ['percent_in_poverty...\n                                                  Pipeline(steps=[('1',\n                                                                   SimpleImputer(strategy='most_frequent')),\n                                                                  ('2',\n                                                                   OneHotEncoder(drop='first',\n                                                                                 handle_unknown='ignore'))]),\n                                                  ['state']),\n                                                 ('6',\n                                                  Pipeline(steps=[('1',\n                                                                   SimpleImputer(strategy='most_frequent'))]),\n                                                  ['vote_for_dems_before'])],\n                                   verbose_feature_names_out=False)),\n                ('sampler', RandomOverSampler()),\n                ('dim_reduction', PCA(n_components=0.8)),\n                ('classifier', Perceptron())])",
            "text/html": "<style>#sk-container-id-1 {color: black;background-color: white;}#sk-container-id-1 pre{padding: 0;}#sk-container-id-1 div.sk-toggleable {background-color: white;}#sk-container-id-1 label.sk-toggleable__label {cursor: pointer;display: block;width: 100%;margin-bottom: 0;padding: 0.3em;box-sizing: border-box;text-align: center;}#sk-container-id-1 label.sk-toggleable__label-arrow:before {content: \"▸\";float: left;margin-right: 0.25em;color: #696969;}#sk-container-id-1 label.sk-toggleable__label-arrow:hover:before {color: black;}#sk-container-id-1 div.sk-estimator:hover label.sk-toggleable__label-arrow:before {color: black;}#sk-container-id-1 div.sk-toggleable__content {max-height: 0;max-width: 0;overflow: hidden;text-align: left;background-color: #f0f8ff;}#sk-container-id-1 div.sk-toggleable__content pre {margin: 0.2em;color: black;border-radius: 0.25em;background-color: #f0f8ff;}#sk-container-id-1 input.sk-toggleable__control:checked~div.sk-toggleable__content {max-height: 200px;max-width: 100%;overflow: auto;}#sk-container-id-1 input.sk-toggleable__control:checked~label.sk-toggleable__label-arrow:before {content: \"▾\";}#sk-container-id-1 div.sk-estimator input.sk-toggleable__control:checked~label.sk-toggleable__label {background-color: #d4ebff;}#sk-container-id-1 div.sk-label input.sk-toggleable__control:checked~label.sk-toggleable__label {background-color: #d4ebff;}#sk-container-id-1 input.sk-hidden--visually {border: 0;clip: rect(1px 1px 1px 1px);clip: rect(1px, 1px, 1px, 1px);height: 1px;margin: -1px;overflow: hidden;padding: 0;position: absolute;width: 1px;}#sk-container-id-1 div.sk-estimator {font-family: monospace;background-color: #f0f8ff;border: 1px dotted black;border-radius: 0.25em;box-sizing: border-box;margin-bottom: 0.5em;}#sk-container-id-1 div.sk-estimator:hover {background-color: #d4ebff;}#sk-container-id-1 div.sk-parallel-item::after {content: \"\";width: 100%;border-bottom: 1px solid gray;flex-grow: 1;}#sk-container-id-1 div.sk-label:hover label.sk-toggleable__label {background-color: #d4ebff;}#sk-container-id-1 div.sk-serial::before {content: \"\";position: absolute;border-left: 1px solid gray;box-sizing: border-box;top: 0;bottom: 0;left: 50%;z-index: 0;}#sk-container-id-1 div.sk-serial {display: flex;flex-direction: column;align-items: center;background-color: white;padding-right: 0.2em;padding-left: 0.2em;position: relative;}#sk-container-id-1 div.sk-item {position: relative;z-index: 1;}#sk-container-id-1 div.sk-parallel {display: flex;align-items: stretch;justify-content: center;background-color: white;position: relative;}#sk-container-id-1 div.sk-item::before, #sk-container-id-1 div.sk-parallel-item::before {content: \"\";position: absolute;border-left: 1px solid gray;box-sizing: border-box;top: 0;bottom: 0;left: 50%;z-index: -1;}#sk-container-id-1 div.sk-parallel-item {display: flex;flex-direction: column;z-index: 1;position: relative;background-color: white;}#sk-container-id-1 div.sk-parallel-item:first-child::after {align-self: flex-end;width: 50%;}#sk-container-id-1 div.sk-parallel-item:last-child::after {align-self: flex-start;width: 50%;}#sk-container-id-1 div.sk-parallel-item:only-child::after {width: 0;}#sk-container-id-1 div.sk-dashed-wrapped {border: 1px dashed gray;margin: 0 0.4em 0.5em 0.4em;box-sizing: border-box;padding-bottom: 0.4em;background-color: white;}#sk-container-id-1 div.sk-label label {font-family: monospace;font-weight: bold;display: inline-block;line-height: 1.2em;}#sk-container-id-1 div.sk-label-container {text-align: center;}#sk-container-id-1 div.sk-container {/* jupyter's `normalize.less` sets `[hidden] { display: none; }` but bootstrap.min.css set `[hidden] { display: none !important; }` so we also need the `!important` here to be able to override the default hidden behavior on the sphinx rendered scikit-learn.org. See: https://github.com/scikit-learn/scikit-learn/issues/21755 */display: inline-block !important;position: relative;}#sk-container-id-1 div.sk-text-repr-fallback {display: none;}</style><div id=\"sk-container-id-1\" class=\"sk-top-container\"><div class=\"sk-text-repr-fallback\"><pre>Pipeline(steps=[(&#x27;trans&#x27;,\n                 ColumnTransformer(n_jobs=-1, sparse_threshold=0,\n                                   transformers=[(&#x27;1&#x27;,\n                                                  Pipeline(steps=[(&#x27;1&#x27;,\n                                                                   SimpleImputer()),\n                                                                  (&#x27;2&#x27;,\n                                                                   StandardScaler())]),\n                                                  [&#x27;median_age&#x27;]),\n                                                 (&#x27;2&#x27;,\n                                                  Pipeline(steps=[(&#x27;1&#x27;,\n                                                                   KNNImputer(n_neighbors=10)),\n                                                                  (&#x27;2&#x27;,\n                                                                   StandardScaler())]),\n                                                  [&#x27;mean_savings&#x27;]),\n                                                 (&#x27;3&#x27;,\n                                                  Pipeline(steps=[(&#x27;1&#x27;,\n                                                                   KNNImputer()),\n                                                                  (&#x27;2&#x27;,\n                                                                   MinMaxScaler())]),\n                                                  [&#x27;percent_in_poverty...\n                                                  Pipeline(steps=[(&#x27;1&#x27;,\n                                                                   SimpleImputer(strategy=&#x27;most_frequent&#x27;)),\n                                                                  (&#x27;2&#x27;,\n                                                                   OneHotEncoder(drop=&#x27;first&#x27;,\n                                                                                 handle_unknown=&#x27;ignore&#x27;))]),\n                                                  [&#x27;state&#x27;]),\n                                                 (&#x27;6&#x27;,\n                                                  Pipeline(steps=[(&#x27;1&#x27;,\n                                                                   SimpleImputer(strategy=&#x27;most_frequent&#x27;))]),\n                                                  [&#x27;vote_for_dems_before&#x27;])],\n                                   verbose_feature_names_out=False)),\n                (&#x27;sampler&#x27;, RandomOverSampler()),\n                (&#x27;dim_reduction&#x27;, PCA(n_components=0.8)),\n                (&#x27;classifier&#x27;, Perceptron())])</pre><b>In a Jupyter environment, please rerun this cell to show the HTML representation or trust the notebook. <br />On GitHub, the HTML representation is unable to render, please try loading this page with nbviewer.org.</b></div><div class=\"sk-container\" hidden><div class=\"sk-item sk-dashed-wrapped\"><div class=\"sk-label-container\"><div class=\"sk-label sk-toggleable\"><input class=\"sk-toggleable__control sk-hidden--visually\" id=\"sk-estimator-id-1\" type=\"checkbox\" ><label for=\"sk-estimator-id-1\" class=\"sk-toggleable__label sk-toggleable__label-arrow\">Pipeline</label><div class=\"sk-toggleable__content\"><pre>Pipeline(steps=[(&#x27;trans&#x27;,\n                 ColumnTransformer(n_jobs=-1, sparse_threshold=0,\n                                   transformers=[(&#x27;1&#x27;,\n                                                  Pipeline(steps=[(&#x27;1&#x27;,\n                                                                   SimpleImputer()),\n                                                                  (&#x27;2&#x27;,\n                                                                   StandardScaler())]),\n                                                  [&#x27;median_age&#x27;]),\n                                                 (&#x27;2&#x27;,\n                                                  Pipeline(steps=[(&#x27;1&#x27;,\n                                                                   KNNImputer(n_neighbors=10)),\n                                                                  (&#x27;2&#x27;,\n                                                                   StandardScaler())]),\n                                                  [&#x27;mean_savings&#x27;]),\n                                                 (&#x27;3&#x27;,\n                                                  Pipeline(steps=[(&#x27;1&#x27;,\n                                                                   KNNImputer()),\n                                                                  (&#x27;2&#x27;,\n                                                                   MinMaxScaler())]),\n                                                  [&#x27;percent_in_poverty...\n                                                  Pipeline(steps=[(&#x27;1&#x27;,\n                                                                   SimpleImputer(strategy=&#x27;most_frequent&#x27;)),\n                                                                  (&#x27;2&#x27;,\n                                                                   OneHotEncoder(drop=&#x27;first&#x27;,\n                                                                                 handle_unknown=&#x27;ignore&#x27;))]),\n                                                  [&#x27;state&#x27;]),\n                                                 (&#x27;6&#x27;,\n                                                  Pipeline(steps=[(&#x27;1&#x27;,\n                                                                   SimpleImputer(strategy=&#x27;most_frequent&#x27;))]),\n                                                  [&#x27;vote_for_dems_before&#x27;])],\n                                   verbose_feature_names_out=False)),\n                (&#x27;sampler&#x27;, RandomOverSampler()),\n                (&#x27;dim_reduction&#x27;, PCA(n_components=0.8)),\n                (&#x27;classifier&#x27;, Perceptron())])</pre></div></div></div><div class=\"sk-serial\"><div class=\"sk-item sk-dashed-wrapped\"><div class=\"sk-label-container\"><div class=\"sk-label sk-toggleable\"><input class=\"sk-toggleable__control sk-hidden--visually\" id=\"sk-estimator-id-2\" type=\"checkbox\" ><label for=\"sk-estimator-id-2\" class=\"sk-toggleable__label sk-toggleable__label-arrow\">trans: ColumnTransformer</label><div class=\"sk-toggleable__content\"><pre>ColumnTransformer(n_jobs=-1, sparse_threshold=0,\n                  transformers=[(&#x27;1&#x27;,\n                                 Pipeline(steps=[(&#x27;1&#x27;, SimpleImputer()),\n                                                 (&#x27;2&#x27;, StandardScaler())]),\n                                 [&#x27;median_age&#x27;]),\n                                (&#x27;2&#x27;,\n                                 Pipeline(steps=[(&#x27;1&#x27;,\n                                                  KNNImputer(n_neighbors=10)),\n                                                 (&#x27;2&#x27;, StandardScaler())]),\n                                 [&#x27;mean_savings&#x27;]),\n                                (&#x27;3&#x27;,\n                                 Pipeline(steps=[(&#x27;1&#x27;, KNNImputer()),\n                                                 (&#x27;2&#x27;, MinMaxScaler())]),\n                                 [&#x27;percent_in_poverty&#x27;, &#x27;percent_veterans&#x27;,\n                                  &#x27;per...\n                                                 (&#x27;2&#x27;, StandardScaler())]),\n                                 [&#x27;per_capita_income&#x27;, &#x27;population_density&#x27;,\n                                  &#x27;crime_index_PC&#x27;]),\n                                (&#x27;5&#x27;,\n                                 Pipeline(steps=[(&#x27;1&#x27;,\n                                                  SimpleImputer(strategy=&#x27;most_frequent&#x27;)),\n                                                 (&#x27;2&#x27;,\n                                                  OneHotEncoder(drop=&#x27;first&#x27;,\n                                                                handle_unknown=&#x27;ignore&#x27;))]),\n                                 [&#x27;state&#x27;]),\n                                (&#x27;6&#x27;,\n                                 Pipeline(steps=[(&#x27;1&#x27;,\n                                                  SimpleImputer(strategy=&#x27;most_frequent&#x27;))]),\n                                 [&#x27;vote_for_dems_before&#x27;])],\n                  verbose_feature_names_out=False)</pre></div></div></div><div class=\"sk-parallel\"><div class=\"sk-parallel-item\"><div class=\"sk-item\"><div class=\"sk-label-container\"><div class=\"sk-label sk-toggleable\"><input class=\"sk-toggleable__control sk-hidden--visually\" id=\"sk-estimator-id-3\" type=\"checkbox\" ><label for=\"sk-estimator-id-3\" class=\"sk-toggleable__label sk-toggleable__label-arrow\">1</label><div class=\"sk-toggleable__content\"><pre>[&#x27;median_age&#x27;]</pre></div></div></div><div class=\"sk-serial\"><div class=\"sk-item\"><div class=\"sk-serial\"><div class=\"sk-item\"><div class=\"sk-estimator sk-toggleable\"><input class=\"sk-toggleable__control sk-hidden--visually\" id=\"sk-estimator-id-4\" type=\"checkbox\" ><label for=\"sk-estimator-id-4\" class=\"sk-toggleable__label sk-toggleable__label-arrow\">SimpleImputer</label><div class=\"sk-toggleable__content\"><pre>SimpleImputer()</pre></div></div></div><div class=\"sk-item\"><div class=\"sk-estimator sk-toggleable\"><input class=\"sk-toggleable__control sk-hidden--visually\" id=\"sk-estimator-id-5\" type=\"checkbox\" ><label for=\"sk-estimator-id-5\" class=\"sk-toggleable__label sk-toggleable__label-arrow\">StandardScaler</label><div class=\"sk-toggleable__content\"><pre>StandardScaler()</pre></div></div></div></div></div></div></div></div><div class=\"sk-parallel-item\"><div class=\"sk-item\"><div class=\"sk-label-container\"><div class=\"sk-label sk-toggleable\"><input class=\"sk-toggleable__control sk-hidden--visually\" id=\"sk-estimator-id-6\" type=\"checkbox\" ><label for=\"sk-estimator-id-6\" class=\"sk-toggleable__label sk-toggleable__label-arrow\">2</label><div class=\"sk-toggleable__content\"><pre>[&#x27;mean_savings&#x27;]</pre></div></div></div><div class=\"sk-serial\"><div class=\"sk-item\"><div class=\"sk-serial\"><div class=\"sk-item\"><div class=\"sk-estimator sk-toggleable\"><input class=\"sk-toggleable__control sk-hidden--visually\" id=\"sk-estimator-id-7\" type=\"checkbox\" ><label for=\"sk-estimator-id-7\" class=\"sk-toggleable__label sk-toggleable__label-arrow\">KNNImputer</label><div class=\"sk-toggleable__content\"><pre>KNNImputer(n_neighbors=10)</pre></div></div></div><div class=\"sk-item\"><div class=\"sk-estimator sk-toggleable\"><input class=\"sk-toggleable__control sk-hidden--visually\" id=\"sk-estimator-id-8\" type=\"checkbox\" ><label for=\"sk-estimator-id-8\" class=\"sk-toggleable__label sk-toggleable__label-arrow\">StandardScaler</label><div class=\"sk-toggleable__content\"><pre>StandardScaler()</pre></div></div></div></div></div></div></div></div><div class=\"sk-parallel-item\"><div class=\"sk-item\"><div class=\"sk-label-container\"><div class=\"sk-label sk-toggleable\"><input class=\"sk-toggleable__control sk-hidden--visually\" id=\"sk-estimator-id-9\" type=\"checkbox\" ><label for=\"sk-estimator-id-9\" class=\"sk-toggleable__label sk-toggleable__label-arrow\">3</label><div class=\"sk-toggleable__content\"><pre>[&#x27;percent_in_poverty&#x27;, &#x27;percent_veterans&#x27;, &#x27;percent_female&#x27;, &#x27;percent_in_nursing_homes&#x27;]</pre></div></div></div><div class=\"sk-serial\"><div class=\"sk-item\"><div class=\"sk-serial\"><div class=\"sk-item\"><div class=\"sk-estimator sk-toggleable\"><input class=\"sk-toggleable__control sk-hidden--visually\" id=\"sk-estimator-id-10\" type=\"checkbox\" ><label for=\"sk-estimator-id-10\" class=\"sk-toggleable__label sk-toggleable__label-arrow\">KNNImputer</label><div class=\"sk-toggleable__content\"><pre>KNNImputer()</pre></div></div></div><div class=\"sk-item\"><div class=\"sk-estimator sk-toggleable\"><input class=\"sk-toggleable__control sk-hidden--visually\" id=\"sk-estimator-id-11\" type=\"checkbox\" ><label for=\"sk-estimator-id-11\" class=\"sk-toggleable__label sk-toggleable__label-arrow\">MinMaxScaler</label><div class=\"sk-toggleable__content\"><pre>MinMaxScaler()</pre></div></div></div></div></div></div></div></div><div class=\"sk-parallel-item\"><div class=\"sk-item\"><div class=\"sk-label-container\"><div class=\"sk-label sk-toggleable\"><input class=\"sk-toggleable__control sk-hidden--visually\" id=\"sk-estimator-id-12\" type=\"checkbox\" ><label for=\"sk-estimator-id-12\" class=\"sk-toggleable__label sk-toggleable__label-arrow\">4</label><div class=\"sk-toggleable__content\"><pre>[&#x27;per_capita_income&#x27;, &#x27;population_density&#x27;, &#x27;crime_index_PC&#x27;]</pre></div></div></div><div class=\"sk-serial\"><div class=\"sk-item\"><div class=\"sk-serial\"><div class=\"sk-item\"><div class=\"sk-estimator sk-toggleable\"><input class=\"sk-toggleable__control sk-hidden--visually\" id=\"sk-estimator-id-13\" type=\"checkbox\" ><label for=\"sk-estimator-id-13\" class=\"sk-toggleable__label sk-toggleable__label-arrow\">KNNImputer</label><div class=\"sk-toggleable__content\"><pre>KNNImputer()</pre></div></div></div><div class=\"sk-item\"><div class=\"sk-estimator sk-toggleable\"><input class=\"sk-toggleable__control sk-hidden--visually\" id=\"sk-estimator-id-14\" type=\"checkbox\" ><label for=\"sk-estimator-id-14\" class=\"sk-toggleable__label sk-toggleable__label-arrow\">StandardScaler</label><div class=\"sk-toggleable__content\"><pre>StandardScaler()</pre></div></div></div></div></div></div></div></div><div class=\"sk-parallel-item\"><div class=\"sk-item\"><div class=\"sk-label-container\"><div class=\"sk-label sk-toggleable\"><input class=\"sk-toggleable__control sk-hidden--visually\" id=\"sk-estimator-id-15\" type=\"checkbox\" ><label for=\"sk-estimator-id-15\" class=\"sk-toggleable__label sk-toggleable__label-arrow\">5</label><div class=\"sk-toggleable__content\"><pre>[&#x27;state&#x27;]</pre></div></div></div><div class=\"sk-serial\"><div class=\"sk-item\"><div class=\"sk-serial\"><div class=\"sk-item\"><div class=\"sk-estimator sk-toggleable\"><input class=\"sk-toggleable__control sk-hidden--visually\" id=\"sk-estimator-id-16\" type=\"checkbox\" ><label for=\"sk-estimator-id-16\" class=\"sk-toggleable__label sk-toggleable__label-arrow\">SimpleImputer</label><div class=\"sk-toggleable__content\"><pre>SimpleImputer(strategy=&#x27;most_frequent&#x27;)</pre></div></div></div><div class=\"sk-item\"><div class=\"sk-estimator sk-toggleable\"><input class=\"sk-toggleable__control sk-hidden--visually\" id=\"sk-estimator-id-17\" type=\"checkbox\" ><label for=\"sk-estimator-id-17\" class=\"sk-toggleable__label sk-toggleable__label-arrow\">OneHotEncoder</label><div class=\"sk-toggleable__content\"><pre>OneHotEncoder(drop=&#x27;first&#x27;, handle_unknown=&#x27;ignore&#x27;)</pre></div></div></div></div></div></div></div></div><div class=\"sk-parallel-item\"><div class=\"sk-item\"><div class=\"sk-label-container\"><div class=\"sk-label sk-toggleable\"><input class=\"sk-toggleable__control sk-hidden--visually\" id=\"sk-estimator-id-18\" type=\"checkbox\" ><label for=\"sk-estimator-id-18\" class=\"sk-toggleable__label sk-toggleable__label-arrow\">6</label><div class=\"sk-toggleable__content\"><pre>[&#x27;vote_for_dems_before&#x27;]</pre></div></div></div><div class=\"sk-serial\"><div class=\"sk-item\"><div class=\"sk-serial\"><div class=\"sk-item\"><div class=\"sk-estimator sk-toggleable\"><input class=\"sk-toggleable__control sk-hidden--visually\" id=\"sk-estimator-id-19\" type=\"checkbox\" ><label for=\"sk-estimator-id-19\" class=\"sk-toggleable__label sk-toggleable__label-arrow\">SimpleImputer</label><div class=\"sk-toggleable__content\"><pre>SimpleImputer(strategy=&#x27;most_frequent&#x27;)</pre></div></div></div></div></div></div></div></div></div></div><div class=\"sk-item\"><div class=\"sk-estimator sk-toggleable\"><input class=\"sk-toggleable__control sk-hidden--visually\" id=\"sk-estimator-id-20\" type=\"checkbox\" ><label for=\"sk-estimator-id-20\" class=\"sk-toggleable__label sk-toggleable__label-arrow\">RandomOverSampler</label><div class=\"sk-toggleable__content\"><pre>RandomOverSampler()</pre></div></div></div><div class=\"sk-item\"><div class=\"sk-estimator sk-toggleable\"><input class=\"sk-toggleable__control sk-hidden--visually\" id=\"sk-estimator-id-21\" type=\"checkbox\" ><label for=\"sk-estimator-id-21\" class=\"sk-toggleable__label sk-toggleable__label-arrow\">PCA</label><div class=\"sk-toggleable__content\"><pre>PCA(n_components=0.8)</pre></div></div></div><div class=\"sk-item\"><div class=\"sk-estimator sk-toggleable\"><input class=\"sk-toggleable__control sk-hidden--visually\" id=\"sk-estimator-id-22\" type=\"checkbox\" ><label for=\"sk-estimator-id-22\" class=\"sk-toggleable__label sk-toggleable__label-arrow\">Perceptron</label><div class=\"sk-toggleable__content\"><pre>Perceptron()</pre></div></div></div></div></div></div></div>"
          },
          "metadata": {}
        }
      ],
      "execution_count": null
    },
    {
      "cell_type": "code",
      "source": [
        "model_pipeline.predict(X_test)"
      ],
      "metadata": {
        "tags": [],
        "cell_id": "8eae4f01718d4e6a84d99fb9762d2e40",
        "source_hash": "fc3e954b",
        "execution_start": 1675020170210,
        "execution_millis": 14,
        "is_output_hidden": true,
        "deepnote_app_coordinates": {
          "h": 5,
          "w": 12,
          "x": 0,
          "y": 238
        },
        "deepnote_to_be_reexecuted": false,
        "deepnote_cell_type": "code",
        "id": "Y6rRHtAqD5Re",
        "outputId": "8d486645-4689-4c79-a583-1229566da544"
      },
      "outputs": [
        {
          "output_type": "execute_result",
          "execution_count": 27,
          "data": {
            "text/plain": "array([1, 0, 1, 0, 1, 1, 0, 1, 1, 0, 1, 0, 1, 1, 1, 0, 0, 1, 1, 1, 0, 1,\n       1, 0, 1, 0, 1, 0, 1, 0, 0, 1, 0, 0, 0, 0, 0, 1, 0, 0, 0, 0, 0, 0,\n       0, 0, 0, 1, 0, 0, 0, 0, 0, 1, 0, 0, 0, 1, 1, 1, 0, 0, 0, 0, 0, 0,\n       1, 1, 0, 0, 0, 0, 0, 0, 0, 0, 1, 1, 0, 0, 0, 1, 0, 0, 1, 1, 1, 1,\n       0, 0, 0, 1, 1, 1, 0, 1, 0, 1, 0, 0, 0, 1, 0, 1, 0, 1, 1, 0, 1, 0,\n       0, 0, 0, 1, 0, 0, 0, 1, 1, 1, 0, 0, 1, 0, 1, 1, 0, 0, 1, 0, 1, 0,\n       0, 0, 0, 0, 0, 0, 0, 0, 0, 0, 1, 0, 0, 0, 0, 0, 0, 1, 0, 0, 0, 0,\n       0, 0, 1, 1, 0, 0, 1, 0, 1, 0, 0, 0, 0, 0, 0, 0, 0, 1, 0, 0, 0, 1,\n       1, 0, 1, 0, 1, 0, 0, 0, 1, 1, 0, 0, 0, 0, 0, 0, 1, 0, 0, 0, 1, 0,\n       1, 1, 1, 0, 0, 0, 0, 0, 0, 0, 1, 1, 0, 0, 1, 0, 1, 0, 1, 1, 0, 0,\n       0, 0, 0, 1, 0, 0, 0, 1, 0, 1, 0, 1, 1, 0, 0, 0, 1, 1, 1, 1, 0, 1,\n       0, 1, 0, 1, 0, 0, 1, 1, 0, 1, 0, 0, 1, 0, 0, 1, 0, 0, 0, 0, 0, 0,\n       0, 1, 0, 1, 0, 0, 0, 1, 1, 0, 0, 1, 0, 0, 1, 0, 1, 0, 0, 0, 0, 0,\n       0, 1, 1, 0, 1, 0, 1, 1, 0, 1, 0, 1, 0, 1, 0, 0, 0, 1, 1, 0, 0, 0,\n       0, 1, 0, 1, 0, 1, 1, 1, 0, 1, 0, 0, 0, 0, 0, 0, 0, 1, 0, 1, 0, 1,\n       1, 1, 1, 0, 1, 0, 0, 0, 0, 1, 1, 1, 0, 0, 1, 1, 0, 0, 0, 0, 0, 0,\n       1, 0, 1, 0, 0, 1, 1, 0, 1, 1, 0, 0, 0, 0, 0, 1, 0, 0, 1, 0, 0, 1,\n       0, 0, 1, 1, 0, 0, 1, 0, 0, 0, 0, 0, 0, 0, 1, 0, 1, 0, 1, 0, 1, 1,\n       1, 1, 1, 0, 1, 0, 0, 1, 0, 0, 0, 1, 0, 0, 1, 0, 0, 1, 0, 0, 0, 0,\n       0, 0, 1, 0, 0, 1, 1, 0, 0, 0, 0, 0, 0, 0, 0, 0, 0, 1, 1, 0, 1, 0,\n       0, 0, 0, 1, 0, 0, 0, 0, 0, 0, 0, 0, 0, 0, 0, 0, 1, 1, 0, 1, 0, 1,\n       0, 1, 1, 0, 1, 1, 1, 1, 0, 1, 0, 0, 0, 1, 0, 0, 0, 1, 0, 0, 0, 1,\n       0, 1, 1, 0, 1, 0, 1, 0, 1, 0, 0, 0, 1, 1, 0, 1, 0, 1, 1, 0, 0, 0,\n       0, 0, 1, 0, 0, 1, 1, 1, 1, 0, 0, 1, 0, 0, 1, 0, 0, 0, 0, 0, 0, 0,\n       1, 1, 1, 0, 1, 0, 1, 0, 1, 0, 0, 0, 0, 1, 0, 0, 1, 1, 1, 0, 0, 0,\n       1, 0, 1, 0, 0, 0, 1, 1, 0, 0, 0, 1, 1, 0, 0, 0, 1, 1, 0, 1, 0, 0,\n       0, 1, 1, 1, 0, 0, 0, 0, 0, 0, 0, 0, 0, 0, 0, 1, 0, 1, 0, 0, 1, 0,\n       0, 0, 1, 0, 1, 1, 0, 0, 1, 1])"
          },
          "metadata": {}
        }
      ],
      "execution_count": null
    },
    {
      "cell_type": "markdown",
      "source": [
        "The list <code>sampler_configs</code> contains three different dictionaries for over-sampling methods and their respective hyperparameters.\n",
        "- The first dictionary contains no over-sampling method, so no over-sampling will be performed.\n",
        "- The second dictionary uses the SMOTE strategy with different hyperparameters that can be choose. <code>(n_jobs=-1)</code> means that all CPU will be used.\n",
        "- The last dictionary uses the RandomverSampler strategy with his hyperparameters. As an example, *0.9* is that the ratio of the minority class over the number of samples in the majority class after resampling."
      ],
      "metadata": {
        "tags": [],
        "cell_id": "7b4ea039690f4df49251633c55620327",
        "deepnote_cell_type": "markdown",
        "id": "8RoxQn5XD5Re"
      }
    },
    {
      "cell_type": "code",
      "source": [
        "sampler_configs = [\n",
        "    {\n",
        "        'sampler':[None],\n",
        "    },\n",
        "    {\n",
        "        'sampler':[SMOTE(n_jobs=-1)],\n",
        "        'sampler__sampling_strategy':[0.9, 0.8, 0.7]\n",
        "    },\n",
        "    {\n",
        "        'sampler':[RandomOverSampler()],\n",
        "        'sampler__sampling_strategy':[0.9, 0.8, 0.7]\n",
        "    }\n",
        "]"
      ],
      "metadata": {
        "tags": [],
        "cell_id": "723dcc9d4bed4c8cbc5e0e0963bef00a",
        "source_hash": "99cea9de",
        "execution_start": 1675020170226,
        "execution_millis": 2,
        "deepnote_app_coordinates": {
          "h": 5,
          "w": 12,
          "x": 0,
          "y": 244
        },
        "deepnote_to_be_reexecuted": false,
        "deepnote_cell_type": "code",
        "id": "BYmmKOKlD5Rf"
      },
      "outputs": [],
      "execution_count": null
    },
    {
      "cell_type": "markdown",
      "source": [
        "The list <code>dim_reduction_configs</code> contains a list of different dimensionality reduction strategies that can be applied.\n",
        "- The first strategy uses PCA and can choose between different numbers of components to keep in the transformed dataset.\n",
        "- The second strategy for dimensionality reduction is LDA and display the features of a dataset in a lower-dimensional space.\n",
        "- The last strategy is SFS and contains different hyparamenters from which to choose."
      ],
      "metadata": {
        "tags": [],
        "cell_id": "b78547f65da8481bbb781846ad15dccd",
        "deepnote_cell_type": "markdown",
        "id": "L_w2gjwwD5Rf"
      }
    },
    {
      "cell_type": "code",
      "source": [
        "dim_reduction_configs = [\n",
        "    {\n",
        "        'dim_reduction': [PCA()] ,\n",
        "        'dim_reduction__n_components': [0.5, 0.6, 0.7, 0.8, 0.9]\n",
        "    },\n",
        "    {\n",
        "        'dim_reduction': [LDA()]\n",
        "    },\n",
        "    {\n",
        "        'dim_reduction': [SFS(estimator=Perceptron(), cv = None, scoring=\"f1\")],\n",
        "        'dim_reduction__estimator': [Perceptron(), LogisticRegression()],\n",
        "        'dim_reduction__k_features' : [5,7,10]\n",
        "    }\n",
        "]"
      ],
      "metadata": {
        "tags": [],
        "cell_id": "804310305cd04edb86a95064f70dd8fa",
        "source_hash": "41a99c1c",
        "execution_start": 1675020170229,
        "execution_millis": 3,
        "deepnote_app_coordinates": {
          "h": 5,
          "w": 12,
          "x": 0,
          "y": 250
        },
        "deepnote_to_be_reexecuted": false,
        "deepnote_cell_type": "code",
        "id": "xGjcjZx3D5Rf"
      },
      "outputs": [],
      "execution_count": null
    },
    {
      "cell_type": "markdown",
      "source": [
        "The list <code>classifier_configs</code> define a set of configurations for different classifiers.\n",
        "- **Perceptron** has as parameters the learning rate and the weight is use when fitting the model. The class_weight hyperparameter can be set to None or to \"balanced\", which means that the class weights will be either to 1 for all the classes or set to the inverse proportional to the class frequencies in the input data.\n",
        "- **LogisticRegression**. The solver (lib_linear) is the algorithm to use in the optimization problem. I decided to use lib_libear because is more efficienty for small datasets.\n",
        "- **KNeighborsClassifier**. I choosed to specify only the number of neighbors to use. To avoid tie in the k-nearest neighbors vote I used only odd numbers.\n",
        "- **RandomForestClassifier**. n_estimators specifies the number of three in the forest, max_depth specifies the maximum depth of the tree."
      ],
      "metadata": {
        "tags": [],
        "cell_id": "d9ee2eb0db6d4113a0f38bcc56b66266",
        "deepnote_cell_type": "markdown",
        "id": "GOX7D1NBD5Rg"
      }
    },
    {
      "cell_type": "code",
      "source": [
        "classifier_configs = [\n",
        "    {\n",
        "        'classifier__eta0' : loguniform(0.001, 1),\n",
        "        'classifier': [Perceptron()],\n",
        "        'classifier__class_weight' : [None, \"balanced\"]\n",
        "\n",
        "    },\n",
        "    {\n",
        "        'classifier': [LogisticRegression(solver=\"lib_linear\")],\n",
        "        'classifier__C' : loguniform(0.001, 1),\n",
        "        'classifier__penalty': [\"l1\", \"l2\"],\n",
        "        'classifier__class_weight' : [None, \"balanced\"]\n",
        "\n",
        "    },\n",
        "    {\n",
        "        'classifier': [KNeighborsClassifier()],\n",
        "        'classifier__n_neighbors': [3,5,7,9,11]\n",
        "    },\n",
        "    {\n",
        "        'classifier': [RandomForestClassifier()],\n",
        "        'classifier__n_estimators': [10, 50, 100,150, 200],\n",
        "        'classifier__max_depth': [None, 2, 5, 10, 20],\n",
        "        'classifier__class_weight': [None, 'balanced']\n",
        "    }\n",
        "]"
      ],
      "metadata": {
        "tags": [],
        "cell_id": "c38f07df24be45aab618e4484bfada7e",
        "source_hash": "4fba2593",
        "execution_start": 1675020170248,
        "execution_millis": 0,
        "deepnote_app_coordinates": {
          "h": 5,
          "w": 12,
          "x": 0,
          "y": 256
        },
        "deepnote_to_be_reexecuted": false,
        "deepnote_cell_type": "code",
        "id": "K6nZobK9D5Rg"
      },
      "outputs": [],
      "execution_count": null
    },
    {
      "cell_type": "markdown",
      "source": [
        "The result of this code is a list of dictionaries, where each dictionary contains a complete configuration for a model that consists of a sampler, a dimensionality reduction method, and a classifier."
      ],
      "metadata": {
        "tags": [],
        "cell_id": "92c25eb674ba4838a6299b79124efe7b",
        "deepnote_cell_type": "markdown",
        "id": "i9oAldwyD5Rg"
      }
    },
    {
      "cell_type": "code",
      "source": [
        "all_configs = [dict(itertools.chain(*(e.items() for e in configuration)))\n",
        "for configuration in itertools.product(sampler_configs,dim_reduction_configs,classifier_configs)]"
      ],
      "metadata": {
        "tags": [],
        "cell_id": "5b5fb87ebba94a81b154055c8705f9c9",
        "source_hash": "2450555d",
        "execution_start": 1675020170248,
        "execution_millis": 0,
        "deepnote_app_coordinates": {
          "h": 5,
          "w": 12,
          "x": 0,
          "y": 262
        },
        "deepnote_to_be_reexecuted": false,
        "deepnote_cell_type": "code",
        "id": "Hj32DHzxD5Rg"
      },
      "outputs": [],
      "execution_count": null
    },
    {
      "cell_type": "code",
      "source": [
        "f'Number of all possible configurations: {len(all_configs)}'"
      ],
      "metadata": {
        "tags": [],
        "cell_id": "a94f5ca857214213b6221f899c6ab13e",
        "source_hash": "993bfea8",
        "execution_start": 1675020170249,
        "execution_millis": 7,
        "deepnote_app_coordinates": {
          "h": 5,
          "w": 12,
          "x": 0,
          "y": 268
        },
        "deepnote_to_be_reexecuted": false,
        "deepnote_cell_type": "code",
        "id": "uTlc4YxiD5Rh",
        "outputId": "a48c16d2-121d-4acf-e796-a632d4b04d7d"
      },
      "outputs": [
        {
          "output_type": "execute_result",
          "execution_count": 32,
          "data": {
            "text/plain": "'Number of all possible configurations: 36'"
          },
          "metadata": {}
        }
      ],
      "execution_count": null
    },
    {
      "cell_type": "markdown",
      "source": [
        "<code>RandomizedSearchCV</code> performs randomized search for hyperparameter optimization. It works by sampling a set of hyperparameter configurations from a distribution and evaluating them using cross-validation. It contains as hyperparameters\n",
        "- model_pipeline: the model that will be used for the search.\n",
        "- param_distribution: distribution from which the hyperparameter configurations will be sampled. It contains a dictionary with parameters to try\n",
        "- n_iter: number of parameter settings that are sampled. n_iter trades off runtime vs quality of the solution\n",
        "- c_jobs: all available CPUs will be used.\n",
        "- cv: number of cross validations folds that will be used.\n",
        "- scoring: metric used to evaluate the model performance.\n",
        "- verbose: give additional information about the progress to understand how the search is progressing."
      ],
      "metadata": {
        "tags": [],
        "cell_id": "dab78f0a7de54d67bc5f3aa69ae0c28e",
        "deepnote_cell_type": "markdown",
        "id": "PFjIngNJD5Rh"
      }
    },
    {
      "cell_type": "code",
      "source": [
        "rs = RandomizedSearchCV(\n",
        "    model_pipeline,\n",
        "    param_distributions=all_configs,\n",
        "    n_iter=len(all_configs) * 5,\n",
        "    n_jobs=-1,\n",
        "    cv = 5,\n",
        "    scoring='f1',\n",
        "    verbose = 1\n",
        ")"
      ],
      "metadata": {
        "tags": [],
        "cell_id": "381b467e80984a64835e8793c197f4cf",
        "source_hash": "50a01c73",
        "execution_start": 1675020170252,
        "execution_millis": 6,
        "deepnote_app_coordinates": {
          "h": 5,
          "w": 12,
          "x": 0,
          "y": 274
        },
        "deepnote_to_be_reexecuted": false,
        "deepnote_cell_type": "code",
        "id": "-s8Jr65YD5Rh"
      },
      "outputs": [],
      "execution_count": null
    },
    {
      "cell_type": "code",
      "source": [
        "scores = cross_validate(rs, X_train, y_train, scoring='f1', cv = 5, return_estimator=True, verbose=3)"
      ],
      "metadata": {
        "tags": [],
        "cell_id": "0f74341683fe4a6fb8d323f02de1c5e0",
        "source_hash": "2b7352d5",
        "execution_start": 1675020170259,
        "execution_millis": 141703,
        "is_output_hidden": true,
        "deepnote_app_coordinates": {
          "h": 5,
          "w": 12,
          "x": 0,
          "y": 280
        },
        "deepnote_to_be_reexecuted": false,
        "deepnote_app_is_output_hidden": true,
        "deepnote_cell_type": "code",
        "id": "C7S_k6xJD5Rh",
        "outputId": "6847be17-3005-4cc8-eae4-d5f44523043a"
      },
      "outputs": [
        {
          "name": "stderr",
          "text": "[Parallel(n_jobs=1)]: Using backend SequentialBackend with 1 concurrent workers.\nFitting 5 folds for each of 180 candidates, totalling 900 fits\n/shared-libs/python3.9/py/lib/python3.9/site-packages/sklearn/utils/extmath.py:1017: RuntimeWarning: invalid value encountered in divide\n  * (last_sum / last_over_new_count - new_sum) ** 2\n/shared-libs/python3.9/py/lib/python3.9/site-packages/sklearn/utils/extmath.py:1017: RuntimeWarning: invalid value encountered in divide\n  * (last_sum / last_over_new_count - new_sum) ** 2\n[CV] END ......................................., score=0.764 total time=  32.0s\nFitting 5 folds for each of 180 candidates, totalling 900 fits\n[Parallel(n_jobs=1)]: Done   1 out of   1 | elapsed:   32.0s remaining:    0.0s\n/shared-libs/python3.9/py/lib/python3.9/site-packages/sklearn/utils/extmath.py:1017: RuntimeWarning: invalid value encountered in divide\n  * (last_sum / last_over_new_count - new_sum) ** 2\n/shared-libs/python3.9/py/lib/python3.9/site-packages/sklearn/utils/extmath.py:1017: RuntimeWarning: invalid value encountered in divide\n  * (last_sum / last_over_new_count - new_sum) ** 2\n/shared-libs/python3.9/py/lib/python3.9/site-packages/sklearn/utils/extmath.py:1017: RuntimeWarning: invalid value encountered in divide\n  * (last_sum / last_over_new_count - new_sum) ** 2\n[CV] END ......................................., score=0.798 total time=  31.0s\nFitting 5 folds for each of 180 candidates, totalling 900 fits\n[Parallel(n_jobs=1)]: Done   2 out of   2 | elapsed:  1.1min remaining:    0.0s\n/shared-libs/python3.9/py/lib/python3.9/site-packages/sklearn/utils/extmath.py:1017: RuntimeWarning: invalid value encountered in divide\n  * (last_sum / last_over_new_count - new_sum) ** 2\n/shared-libs/python3.9/py/lib/python3.9/site-packages/sklearn/utils/extmath.py:1017: RuntimeWarning: invalid value encountered in divide\n  * (last_sum / last_over_new_count - new_sum) ** 2\n[CV] END ......................................., score=0.721 total time=  29.4s\nFitting 5 folds for each of 180 candidates, totalling 900 fits\n/shared-libs/python3.9/py/lib/python3.9/site-packages/sklearn/utils/extmath.py:1017: RuntimeWarning: invalid value encountered in divide\n  * (last_sum / last_over_new_count - new_sum) ** 2\n/shared-libs/python3.9/py/lib/python3.9/site-packages/sklearn/utils/extmath.py:1017: RuntimeWarning: invalid value encountered in divide\n  * (last_sum / last_over_new_count - new_sum) ** 2\n/shared-libs/python3.9/py/lib/python3.9/site-packages/sklearn/utils/extmath.py:1017: RuntimeWarning: invalid value encountered in divide\n  * (last_sum / last_over_new_count - new_sum) ** 2\n[CV] END ......................................., score=0.754 total time=  23.8s\nFitting 5 folds for each of 180 candidates, totalling 900 fits\n/shared-libs/python3.9/py/lib/python3.9/site-packages/sklearn/utils/extmath.py:1017: RuntimeWarning: invalid value encountered in divide\n  * (last_sum / last_over_new_count - new_sum) ** 2\n/shared-libs/python3.9/py/lib/python3.9/site-packages/sklearn/utils/extmath.py:1017: RuntimeWarning: invalid value encountered in divide\n  * (last_sum / last_over_new_count - new_sum) ** 2\n[CV] END ......................................., score=0.761 total time=  25.3s\n[Parallel(n_jobs=1)]: Done   5 out of   5 | elapsed:  2.4min finished\n",
          "output_type": "stream"
        }
      ],
      "execution_count": null
    },
    {
      "cell_type": "code",
      "source": [
        "for index, estimator in enumerate(scores['estimator']):\n",
        "    print(estimator.best_estimator_.get_params()['sampler'])\n",
        "    print(estimator.best_estimator_.get_params()['dim_reduction'])\n",
        "    print(estimator.best_estimator_.get_params()['classifier'],estimator.best_estimator_.get_params()['classifier'].get_params())\n",
        "    print(scores['test_score'][index])\n",
        "    print('-'*10)\n",
        "    print(\" \")"
      ],
      "metadata": {
        "tags": [],
        "cell_id": "ceb1623ce1194174be60236da03487c4",
        "allow_embed": false,
        "source_hash": "db3a15c8",
        "execution_start": 1675020311965,
        "execution_millis": 10,
        "deepnote_app_coordinates": {
          "h": 5,
          "w": 12,
          "x": 0,
          "y": 286
        },
        "deepnote_to_be_reexecuted": false,
        "deepnote_cell_type": "code",
        "id": "ERUPqO-2D5Ri",
        "outputId": "eb511fc3-dd3c-4070-9165-5284328ce138"
      },
      "outputs": [
        {
          "name": "stdout",
          "text": "None\nLinearDiscriminantAnalysis()\nKNeighborsClassifier(n_neighbors=11) {'algorithm': 'auto', 'leaf_size': 30, 'metric': 'minkowski', 'metric_params': None, 'n_jobs': None, 'n_neighbors': 11, 'p': 2, 'weights': 'uniform'}\n0.7638483965014577\n----------\n \nNone\nLinearDiscriminantAnalysis()\nKNeighborsClassifier(n_neighbors=11) {'algorithm': 'auto', 'leaf_size': 30, 'metric': 'minkowski', 'metric_params': None, 'n_jobs': None, 'n_neighbors': 11, 'p': 2, 'weights': 'uniform'}\n0.7977207977207977\n----------\n \nNone\nLinearDiscriminantAnalysis()\nRandomForestClassifier(max_depth=5, n_estimators=50) {'bootstrap': True, 'ccp_alpha': 0.0, 'class_weight': None, 'criterion': 'gini', 'max_depth': 5, 'max_features': 'sqrt', 'max_leaf_nodes': None, 'max_samples': None, 'min_impurity_decrease': 0.0, 'min_samples_leaf': 1, 'min_samples_split': 2, 'min_weight_fraction_leaf': 0.0, 'n_estimators': 50, 'n_jobs': None, 'oob_score': False, 'random_state': None, 'verbose': 0, 'warm_start': False}\n0.7207207207207207\n----------\n \nNone\nLinearDiscriminantAnalysis()\nRandomForestClassifier(class_weight='balanced', max_depth=2, n_estimators=10) {'bootstrap': True, 'ccp_alpha': 0.0, 'class_weight': 'balanced', 'criterion': 'gini', 'max_depth': 2, 'max_features': 'sqrt', 'max_leaf_nodes': None, 'max_samples': None, 'min_impurity_decrease': 0.0, 'min_samples_leaf': 1, 'min_samples_split': 2, 'min_weight_fraction_leaf': 0.0, 'n_estimators': 10, 'n_jobs': None, 'oob_score': False, 'random_state': None, 'verbose': 0, 'warm_start': False}\n0.7539936102236422\n----------\n \nNone\nLinearDiscriminantAnalysis()\nKNeighborsClassifier(n_neighbors=11) {'algorithm': 'auto', 'leaf_size': 30, 'metric': 'minkowski', 'metric_params': None, 'n_jobs': None, 'n_neighbors': 11, 'p': 2, 'weights': 'uniform'}\n0.7608069164265131\n----------\n \n",
          "output_type": "stream"
        }
      ],
      "execution_count": null
    },
    {
      "cell_type": "code",
      "source": [
        "for estimator in scores['estimator']:\n",
        "    pred_train = estimator.best_estimator_.fit(X_train, y_train)\n",
        "    pred_train = estimator.best_estimator_.predict(X_train)\n",
        "    pred_test = estimator.best_estimator_.predict(X_test)\n",
        "    f1_train = f1_score(y_train, pred_train)\n",
        "    f1_test = f1_score(y_test, pred_test)\n",
        "    print(f'F1 on training set: {f1_train}, F1 on test set: {f1_test}, Difference of F1 on train and test set: {f1_train - f1_test}')"
      ],
      "metadata": {
        "tags": [],
        "cell_id": "80a4e8dc956740c9b2f5139c37e39e13",
        "source_hash": "e1165dd9",
        "execution_start": 1675020311976,
        "execution_millis": 1986,
        "deepnote_app_coordinates": {
          "h": 5,
          "w": 12,
          "x": 0,
          "y": 292
        },
        "deepnote_to_be_reexecuted": false,
        "deepnote_cell_type": "code",
        "id": "vaEaJ81TD5Ri",
        "outputId": "8ab949e4-bce4-4da8-a654-6fc60a77de40"
      },
      "outputs": [
        {
          "name": "stdout",
          "text": "F1 on training set: 0.8051948051948051, F1 on test set: 0.7577854671280276, Difference of F1 on train and test set: 0.047409338066777496\nF1 on training set: 0.8051948051948051, F1 on test set: 0.7577854671280276, Difference of F1 on train and test set: 0.047409338066777496\nF1 on training set: 0.8165612420931571, F1 on test set: 0.7755102040816326, Difference of F1 on train and test set: 0.04105103801152443\nF1 on training set: 0.7746305418719213, F1 on test set: 0.779783393501805, Difference of F1 on train and test set: -0.00515285162988377\nF1 on training set: 0.8051948051948051, F1 on test set: 0.7577854671280276, Difference of F1 on train and test set: 0.047409338066777496\n",
          "output_type": "stream"
        }
      ],
      "execution_count": null
    },
    {
      "cell_type": "markdown",
      "source": [
        "It can be seen that all the models have a generalization gap that is not too large, all the F1 training seems to be around 0.80. After testing different model I decide to use <code>LinearDiscriminantAnalysis()</code> with <code>KNeighborsClassifier(n_neighbors=11)</code>. This is because it reduce the difference of the F1 on train and on test to be even less then 0.05. Even if f1_score would result higher with other models, such as RandomForestClassifier, with <code>KNeighborsClassifier(n_neighbors=11)</code> the validation and training accuracy are closer to eachother and almost constant around 0.8 when the training size increases."
      ],
      "metadata": {
        "tags": [],
        "cell_id": "f3aae36d43d34584a4fcc216d968f1dd",
        "deepnote_app_coordinates": {
          "h": 5,
          "w": 12,
          "x": 0,
          "y": 0
        },
        "deepnote_cell_type": "markdown",
        "id": "EVHzn99wD5Ri"
      }
    },
    {
      "cell_type": "markdown",
      "source": [
        "----"
      ],
      "metadata": {
        "tags": [],
        "cell_id": "78c4d3faa8e54702b9b6e45708b10030",
        "deepnote_app_coordinates": {
          "h": 5,
          "w": 12,
          "x": 0,
          "y": 0
        },
        "deepnote_cell_type": "markdown",
        "id": "M5hPWNw_D5Rj"
      }
    },
    {
      "cell_type": "markdown",
      "source": [
        "# Refinement of the selected model\n"
      ],
      "metadata": {
        "tags": [],
        "cell_id": "651cda2f99b04f7aafd13b9009a8eda8",
        "is_collapsed": false,
        "formattedRanges": [],
        "deepnote_app_coordinates": {
          "h": 5,
          "w": 12,
          "x": 0,
          "y": 0
        },
        "deepnote_cell_type": "text-cell-h1",
        "id": "w7Jpa9oeD5Rj"
      }
    },
    {
      "cell_type": "code",
      "source": [
        "best_model_pipeline = IMBPipeline([\n",
        "    ('trans', final_transformation),\n",
        "\n",
        "    # For LogisticRegression\n",
        "    #('classifier',LogisticRegression(solver='saga', penalty = 'l2'))\n",
        "\n",
        "    # For KNeighborsClassifier\n",
        "    (\"dim_reduction\", LDA()),\n",
        "    (\"classifier\", KNeighborsClassifier(n_neighbors=11))\n",
        "\n",
        "    # For RandomForestClassifier\n",
        "    #(\"dim_reduction\", LDA()),\n",
        "    #(\"classifier\", RandomForestClassifier(class_weight='balanced', max_depth=5, n_estimators=10))\n",
        "])"
      ],
      "metadata": {
        "tags": [],
        "cell_id": "b32c2e146204416fb3b5c82a48355bd0",
        "source_hash": "1d390fca",
        "execution_start": 1675020313967,
        "execution_millis": 3,
        "deepnote_app_coordinates": {
          "h": 5,
          "w": 12,
          "x": 0,
          "y": 298
        },
        "deepnote_to_be_reexecuted": false,
        "deepnote_cell_type": "code",
        "id": "GYPVFBtUD5Rj"
      },
      "outputs": [],
      "execution_count": null
    },
    {
      "cell_type": "code",
      "source": [
        "params = {\n",
        "    # For LogisticRegression\n",
        "    #\"classifier__C\": uniform(loc = 15, scale = 60)  # added 0 and 0\n",
        "\n",
        "    # For KNeighborsClassifier\n",
        "    \"classifier__n_neighbors\": [3,5,7,9,11,13,15]\n",
        "\n",
        "    # For RandomForestClassifier\n",
        "    #\"classifier__n_estimators\": [10, 50, 150, 200],\n",
        "    #\"classifier__max_depth\": [None, 2, 5, 10],\n",
        "    #\"classifier__class_weight\": [None, 'balanced']\n",
        "}"
      ],
      "metadata": {
        "tags": [],
        "cell_id": "2076d4f360374e28a1c740cfd59ef4e1",
        "source_hash": "c4ed2643",
        "execution_start": 1675020313970,
        "execution_millis": 5,
        "deepnote_app_coordinates": {
          "h": 5,
          "w": 12,
          "x": 0,
          "y": 304
        },
        "deepnote_to_be_reexecuted": false,
        "deepnote_cell_type": "code",
        "id": "YZPKyeMuD5Rj"
      },
      "outputs": [],
      "execution_count": null
    },
    {
      "cell_type": "code",
      "source": [
        "rs_best = RandomizedSearchCV(\n",
        "    estimator = best_model_pipeline,\n",
        "    param_distributions = params,\n",
        "    cv = RepeatedStratifiedKFold(n_splits=10, n_repeats=3),\n",
        "    n_iter=20,\n",
        "    scoring='f1'\n",
        ")"
      ],
      "metadata": {
        "tags": [],
        "cell_id": "710b915369bb43d7b9ead831209f34ae",
        "source_hash": "7ccfca7d",
        "execution_start": 1675020313978,
        "execution_millis": 2,
        "deepnote_app_coordinates": {
          "h": 5,
          "w": 12,
          "x": 0,
          "y": 310
        },
        "deepnote_to_be_reexecuted": false,
        "deepnote_cell_type": "code",
        "id": "aLDlZxpRD5Rk"
      },
      "outputs": [],
      "execution_count": null
    },
    {
      "cell_type": "code",
      "source": [
        "rs_best.fit(X_train, y_train)"
      ],
      "metadata": {
        "tags": [],
        "cell_id": "d62bf719b70e4e008548794db9e1ea15",
        "source_hash": "fa44dc40",
        "execution_start": 1675020313981,
        "execution_millis": 46568,
        "deepnote_app_coordinates": {
          "h": 5,
          "w": 12,
          "x": 0,
          "y": 316
        },
        "deepnote_to_be_reexecuted": false,
        "deepnote_cell_type": "code",
        "id": "_HiqE5ERD5Rk",
        "outputId": "1306f070-38e3-4e09-c94b-99ee085b4c67"
      },
      "outputs": [
        {
          "output_type": "execute_result",
          "execution_count": 40,
          "data": {
            "text/plain": "RandomizedSearchCV(cv=RepeatedStratifiedKFold(n_repeats=3, n_splits=10, random_state=None),\n                   estimator=Pipeline(steps=[('trans',\n                                              ColumnTransformer(n_jobs=-1,\n                                                                sparse_threshold=0,\n                                                                transformers=[('1',\n                                                                               Pipeline(steps=[('1',\n                                                                                                SimpleImputer()),\n                                                                                               ('2',\n                                                                                                StandardScaler())]),\n                                                                               ['median_age']),\n                                                                              ('2',\n                                                                               Pipeline(steps=[('1',\n                                                                                                KNNImputer(n_neighbors=10)),\n                                                                                               ('2',\n                                                                                                StandardScaler())]),\n                                                                               ['...\n                                                                                                              handle_unknown='ignore'))]),\n                                                                               ['state']),\n                                                                              ('6',\n                                                                               Pipeline(steps=[('1',\n                                                                                                SimpleImputer(strategy='most_frequent'))]),\n                                                                               ['vote_for_dems_before'])],\n                                                                verbose_feature_names_out=False)),\n                                             ('dim_reduction',\n                                              LinearDiscriminantAnalysis()),\n                                             ('classifier',\n                                              KNeighborsClassifier(n_neighbors=11))]),\n                   n_iter=20,\n                   param_distributions={'classifier__n_neighbors': [3, 5, 7, 9,\n                                                                    11, 13,\n                                                                    15]},\n                   scoring='f1')",
            "text/html": "<style>#sk-container-id-2 {color: black;background-color: white;}#sk-container-id-2 pre{padding: 0;}#sk-container-id-2 div.sk-toggleable {background-color: white;}#sk-container-id-2 label.sk-toggleable__label {cursor: pointer;display: block;width: 100%;margin-bottom: 0;padding: 0.3em;box-sizing: border-box;text-align: center;}#sk-container-id-2 label.sk-toggleable__label-arrow:before {content: \"▸\";float: left;margin-right: 0.25em;color: #696969;}#sk-container-id-2 label.sk-toggleable__label-arrow:hover:before {color: black;}#sk-container-id-2 div.sk-estimator:hover label.sk-toggleable__label-arrow:before {color: black;}#sk-container-id-2 div.sk-toggleable__content {max-height: 0;max-width: 0;overflow: hidden;text-align: left;background-color: #f0f8ff;}#sk-container-id-2 div.sk-toggleable__content pre {margin: 0.2em;color: black;border-radius: 0.25em;background-color: #f0f8ff;}#sk-container-id-2 input.sk-toggleable__control:checked~div.sk-toggleable__content {max-height: 200px;max-width: 100%;overflow: auto;}#sk-container-id-2 input.sk-toggleable__control:checked~label.sk-toggleable__label-arrow:before {content: \"▾\";}#sk-container-id-2 div.sk-estimator input.sk-toggleable__control:checked~label.sk-toggleable__label {background-color: #d4ebff;}#sk-container-id-2 div.sk-label input.sk-toggleable__control:checked~label.sk-toggleable__label {background-color: #d4ebff;}#sk-container-id-2 input.sk-hidden--visually {border: 0;clip: rect(1px 1px 1px 1px);clip: rect(1px, 1px, 1px, 1px);height: 1px;margin: -1px;overflow: hidden;padding: 0;position: absolute;width: 1px;}#sk-container-id-2 div.sk-estimator {font-family: monospace;background-color: #f0f8ff;border: 1px dotted black;border-radius: 0.25em;box-sizing: border-box;margin-bottom: 0.5em;}#sk-container-id-2 div.sk-estimator:hover {background-color: #d4ebff;}#sk-container-id-2 div.sk-parallel-item::after {content: \"\";width: 100%;border-bottom: 1px solid gray;flex-grow: 1;}#sk-container-id-2 div.sk-label:hover label.sk-toggleable__label {background-color: #d4ebff;}#sk-container-id-2 div.sk-serial::before {content: \"\";position: absolute;border-left: 1px solid gray;box-sizing: border-box;top: 0;bottom: 0;left: 50%;z-index: 0;}#sk-container-id-2 div.sk-serial {display: flex;flex-direction: column;align-items: center;background-color: white;padding-right: 0.2em;padding-left: 0.2em;position: relative;}#sk-container-id-2 div.sk-item {position: relative;z-index: 1;}#sk-container-id-2 div.sk-parallel {display: flex;align-items: stretch;justify-content: center;background-color: white;position: relative;}#sk-container-id-2 div.sk-item::before, #sk-container-id-2 div.sk-parallel-item::before {content: \"\";position: absolute;border-left: 1px solid gray;box-sizing: border-box;top: 0;bottom: 0;left: 50%;z-index: -1;}#sk-container-id-2 div.sk-parallel-item {display: flex;flex-direction: column;z-index: 1;position: relative;background-color: white;}#sk-container-id-2 div.sk-parallel-item:first-child::after {align-self: flex-end;width: 50%;}#sk-container-id-2 div.sk-parallel-item:last-child::after {align-self: flex-start;width: 50%;}#sk-container-id-2 div.sk-parallel-item:only-child::after {width: 0;}#sk-container-id-2 div.sk-dashed-wrapped {border: 1px dashed gray;margin: 0 0.4em 0.5em 0.4em;box-sizing: border-box;padding-bottom: 0.4em;background-color: white;}#sk-container-id-2 div.sk-label label {font-family: monospace;font-weight: bold;display: inline-block;line-height: 1.2em;}#sk-container-id-2 div.sk-label-container {text-align: center;}#sk-container-id-2 div.sk-container {/* jupyter's `normalize.less` sets `[hidden] { display: none; }` but bootstrap.min.css set `[hidden] { display: none !important; }` so we also need the `!important` here to be able to override the default hidden behavior on the sphinx rendered scikit-learn.org. See: https://github.com/scikit-learn/scikit-learn/issues/21755 */display: inline-block !important;position: relative;}#sk-container-id-2 div.sk-text-repr-fallback {display: none;}</style><div id=\"sk-container-id-2\" class=\"sk-top-container\"><div class=\"sk-text-repr-fallback\"><pre>RandomizedSearchCV(cv=RepeatedStratifiedKFold(n_repeats=3, n_splits=10, random_state=None),\n                   estimator=Pipeline(steps=[(&#x27;trans&#x27;,\n                                              ColumnTransformer(n_jobs=-1,\n                                                                sparse_threshold=0,\n                                                                transformers=[(&#x27;1&#x27;,\n                                                                               Pipeline(steps=[(&#x27;1&#x27;,\n                                                                                                SimpleImputer()),\n                                                                                               (&#x27;2&#x27;,\n                                                                                                StandardScaler())]),\n                                                                               [&#x27;median_age&#x27;]),\n                                                                              (&#x27;2&#x27;,\n                                                                               Pipeline(steps=[(&#x27;1&#x27;,\n                                                                                                KNNImputer(n_neighbors=10)),\n                                                                                               (&#x27;2&#x27;,\n                                                                                                StandardScaler())]),\n                                                                               [&#x27;...\n                                                                                                              handle_unknown=&#x27;ignore&#x27;))]),\n                                                                               [&#x27;state&#x27;]),\n                                                                              (&#x27;6&#x27;,\n                                                                               Pipeline(steps=[(&#x27;1&#x27;,\n                                                                                                SimpleImputer(strategy=&#x27;most_frequent&#x27;))]),\n                                                                               [&#x27;vote_for_dems_before&#x27;])],\n                                                                verbose_feature_names_out=False)),\n                                             (&#x27;dim_reduction&#x27;,\n                                              LinearDiscriminantAnalysis()),\n                                             (&#x27;classifier&#x27;,\n                                              KNeighborsClassifier(n_neighbors=11))]),\n                   n_iter=20,\n                   param_distributions={&#x27;classifier__n_neighbors&#x27;: [3, 5, 7, 9,\n                                                                    11, 13,\n                                                                    15]},\n                   scoring=&#x27;f1&#x27;)</pre><b>In a Jupyter environment, please rerun this cell to show the HTML representation or trust the notebook. <br />On GitHub, the HTML representation is unable to render, please try loading this page with nbviewer.org.</b></div><div class=\"sk-container\" hidden><div class=\"sk-item sk-dashed-wrapped\"><div class=\"sk-label-container\"><div class=\"sk-label sk-toggleable\"><input class=\"sk-toggleable__control sk-hidden--visually\" id=\"sk-estimator-id-23\" type=\"checkbox\" ><label for=\"sk-estimator-id-23\" class=\"sk-toggleable__label sk-toggleable__label-arrow\">RandomizedSearchCV</label><div class=\"sk-toggleable__content\"><pre>RandomizedSearchCV(cv=RepeatedStratifiedKFold(n_repeats=3, n_splits=10, random_state=None),\n                   estimator=Pipeline(steps=[(&#x27;trans&#x27;,\n                                              ColumnTransformer(n_jobs=-1,\n                                                                sparse_threshold=0,\n                                                                transformers=[(&#x27;1&#x27;,\n                                                                               Pipeline(steps=[(&#x27;1&#x27;,\n                                                                                                SimpleImputer()),\n                                                                                               (&#x27;2&#x27;,\n                                                                                                StandardScaler())]),\n                                                                               [&#x27;median_age&#x27;]),\n                                                                              (&#x27;2&#x27;,\n                                                                               Pipeline(steps=[(&#x27;1&#x27;,\n                                                                                                KNNImputer(n_neighbors=10)),\n                                                                                               (&#x27;2&#x27;,\n                                                                                                StandardScaler())]),\n                                                                               [&#x27;...\n                                                                                                              handle_unknown=&#x27;ignore&#x27;))]),\n                                                                               [&#x27;state&#x27;]),\n                                                                              (&#x27;6&#x27;,\n                                                                               Pipeline(steps=[(&#x27;1&#x27;,\n                                                                                                SimpleImputer(strategy=&#x27;most_frequent&#x27;))]),\n                                                                               [&#x27;vote_for_dems_before&#x27;])],\n                                                                verbose_feature_names_out=False)),\n                                             (&#x27;dim_reduction&#x27;,\n                                              LinearDiscriminantAnalysis()),\n                                             (&#x27;classifier&#x27;,\n                                              KNeighborsClassifier(n_neighbors=11))]),\n                   n_iter=20,\n                   param_distributions={&#x27;classifier__n_neighbors&#x27;: [3, 5, 7, 9,\n                                                                    11, 13,\n                                                                    15]},\n                   scoring=&#x27;f1&#x27;)</pre></div></div></div><div class=\"sk-parallel\"><div class=\"sk-parallel-item\"><div class=\"sk-item\"><div class=\"sk-label-container\"><div class=\"sk-label sk-toggleable\"><input class=\"sk-toggleable__control sk-hidden--visually\" id=\"sk-estimator-id-24\" type=\"checkbox\" ><label for=\"sk-estimator-id-24\" class=\"sk-toggleable__label sk-toggleable__label-arrow\">estimator: Pipeline</label><div class=\"sk-toggleable__content\"><pre>Pipeline(steps=[(&#x27;trans&#x27;,\n                 ColumnTransformer(n_jobs=-1, sparse_threshold=0,\n                                   transformers=[(&#x27;1&#x27;,\n                                                  Pipeline(steps=[(&#x27;1&#x27;,\n                                                                   SimpleImputer()),\n                                                                  (&#x27;2&#x27;,\n                                                                   StandardScaler())]),\n                                                  [&#x27;median_age&#x27;]),\n                                                 (&#x27;2&#x27;,\n                                                  Pipeline(steps=[(&#x27;1&#x27;,\n                                                                   KNNImputer(n_neighbors=10)),\n                                                                  (&#x27;2&#x27;,\n                                                                   StandardScaler())]),\n                                                  [&#x27;mean_savings&#x27;]),\n                                                 (&#x27;3&#x27;,\n                                                  Pipeline(steps=[(&#x27;1&#x27;,\n                                                                   KNNImputer()),\n                                                                  (&#x27;2&#x27;,\n                                                                   MinMaxScaler())]),\n                                                  [&#x27;percent_in_poverty...\n                                                  Pipeline(steps=[(&#x27;1&#x27;,\n                                                                   SimpleImputer(strategy=&#x27;most_frequent&#x27;)),\n                                                                  (&#x27;2&#x27;,\n                                                                   OneHotEncoder(drop=&#x27;first&#x27;,\n                                                                                 handle_unknown=&#x27;ignore&#x27;))]),\n                                                  [&#x27;state&#x27;]),\n                                                 (&#x27;6&#x27;,\n                                                  Pipeline(steps=[(&#x27;1&#x27;,\n                                                                   SimpleImputer(strategy=&#x27;most_frequent&#x27;))]),\n                                                  [&#x27;vote_for_dems_before&#x27;])],\n                                   verbose_feature_names_out=False)),\n                (&#x27;dim_reduction&#x27;, LinearDiscriminantAnalysis()),\n                (&#x27;classifier&#x27;, KNeighborsClassifier(n_neighbors=11))])</pre></div></div></div><div class=\"sk-serial\"><div class=\"sk-item\"><div class=\"sk-serial\"><div class=\"sk-item sk-dashed-wrapped\"><div class=\"sk-label-container\"><div class=\"sk-label sk-toggleable\"><input class=\"sk-toggleable__control sk-hidden--visually\" id=\"sk-estimator-id-25\" type=\"checkbox\" ><label for=\"sk-estimator-id-25\" class=\"sk-toggleable__label sk-toggleable__label-arrow\">trans: ColumnTransformer</label><div class=\"sk-toggleable__content\"><pre>ColumnTransformer(n_jobs=-1, sparse_threshold=0,\n                  transformers=[(&#x27;1&#x27;,\n                                 Pipeline(steps=[(&#x27;1&#x27;, SimpleImputer()),\n                                                 (&#x27;2&#x27;, StandardScaler())]),\n                                 [&#x27;median_age&#x27;]),\n                                (&#x27;2&#x27;,\n                                 Pipeline(steps=[(&#x27;1&#x27;,\n                                                  KNNImputer(n_neighbors=10)),\n                                                 (&#x27;2&#x27;, StandardScaler())]),\n                                 [&#x27;mean_savings&#x27;]),\n                                (&#x27;3&#x27;,\n                                 Pipeline(steps=[(&#x27;1&#x27;, KNNImputer()),\n                                                 (&#x27;2&#x27;, MinMaxScaler())]),\n                                 [&#x27;percent_in_poverty&#x27;, &#x27;percent_veterans&#x27;,\n                                  &#x27;per...\n                                                 (&#x27;2&#x27;, StandardScaler())]),\n                                 [&#x27;per_capita_income&#x27;, &#x27;population_density&#x27;,\n                                  &#x27;crime_index_PC&#x27;]),\n                                (&#x27;5&#x27;,\n                                 Pipeline(steps=[(&#x27;1&#x27;,\n                                                  SimpleImputer(strategy=&#x27;most_frequent&#x27;)),\n                                                 (&#x27;2&#x27;,\n                                                  OneHotEncoder(drop=&#x27;first&#x27;,\n                                                                handle_unknown=&#x27;ignore&#x27;))]),\n                                 [&#x27;state&#x27;]),\n                                (&#x27;6&#x27;,\n                                 Pipeline(steps=[(&#x27;1&#x27;,\n                                                  SimpleImputer(strategy=&#x27;most_frequent&#x27;))]),\n                                 [&#x27;vote_for_dems_before&#x27;])],\n                  verbose_feature_names_out=False)</pre></div></div></div><div class=\"sk-parallel\"><div class=\"sk-parallel-item\"><div class=\"sk-item\"><div class=\"sk-label-container\"><div class=\"sk-label sk-toggleable\"><input class=\"sk-toggleable__control sk-hidden--visually\" id=\"sk-estimator-id-26\" type=\"checkbox\" ><label for=\"sk-estimator-id-26\" class=\"sk-toggleable__label sk-toggleable__label-arrow\">1</label><div class=\"sk-toggleable__content\"><pre>[&#x27;median_age&#x27;]</pre></div></div></div><div class=\"sk-serial\"><div class=\"sk-item\"><div class=\"sk-serial\"><div class=\"sk-item\"><div class=\"sk-estimator sk-toggleable\"><input class=\"sk-toggleable__control sk-hidden--visually\" id=\"sk-estimator-id-27\" type=\"checkbox\" ><label for=\"sk-estimator-id-27\" class=\"sk-toggleable__label sk-toggleable__label-arrow\">SimpleImputer</label><div class=\"sk-toggleable__content\"><pre>SimpleImputer()</pre></div></div></div><div class=\"sk-item\"><div class=\"sk-estimator sk-toggleable\"><input class=\"sk-toggleable__control sk-hidden--visually\" id=\"sk-estimator-id-28\" type=\"checkbox\" ><label for=\"sk-estimator-id-28\" class=\"sk-toggleable__label sk-toggleable__label-arrow\">StandardScaler</label><div class=\"sk-toggleable__content\"><pre>StandardScaler()</pre></div></div></div></div></div></div></div></div><div class=\"sk-parallel-item\"><div class=\"sk-item\"><div class=\"sk-label-container\"><div class=\"sk-label sk-toggleable\"><input class=\"sk-toggleable__control sk-hidden--visually\" id=\"sk-estimator-id-29\" type=\"checkbox\" ><label for=\"sk-estimator-id-29\" class=\"sk-toggleable__label sk-toggleable__label-arrow\">2</label><div class=\"sk-toggleable__content\"><pre>[&#x27;mean_savings&#x27;]</pre></div></div></div><div class=\"sk-serial\"><div class=\"sk-item\"><div class=\"sk-serial\"><div class=\"sk-item\"><div class=\"sk-estimator sk-toggleable\"><input class=\"sk-toggleable__control sk-hidden--visually\" id=\"sk-estimator-id-30\" type=\"checkbox\" ><label for=\"sk-estimator-id-30\" class=\"sk-toggleable__label sk-toggleable__label-arrow\">KNNImputer</label><div class=\"sk-toggleable__content\"><pre>KNNImputer(n_neighbors=10)</pre></div></div></div><div class=\"sk-item\"><div class=\"sk-estimator sk-toggleable\"><input class=\"sk-toggleable__control sk-hidden--visually\" id=\"sk-estimator-id-31\" type=\"checkbox\" ><label for=\"sk-estimator-id-31\" class=\"sk-toggleable__label sk-toggleable__label-arrow\">StandardScaler</label><div class=\"sk-toggleable__content\"><pre>StandardScaler()</pre></div></div></div></div></div></div></div></div><div class=\"sk-parallel-item\"><div class=\"sk-item\"><div class=\"sk-label-container\"><div class=\"sk-label sk-toggleable\"><input class=\"sk-toggleable__control sk-hidden--visually\" id=\"sk-estimator-id-32\" type=\"checkbox\" ><label for=\"sk-estimator-id-32\" class=\"sk-toggleable__label sk-toggleable__label-arrow\">3</label><div class=\"sk-toggleable__content\"><pre>[&#x27;percent_in_poverty&#x27;, &#x27;percent_veterans&#x27;, &#x27;percent_female&#x27;, &#x27;percent_in_nursing_homes&#x27;]</pre></div></div></div><div class=\"sk-serial\"><div class=\"sk-item\"><div class=\"sk-serial\"><div class=\"sk-item\"><div class=\"sk-estimator sk-toggleable\"><input class=\"sk-toggleable__control sk-hidden--visually\" id=\"sk-estimator-id-33\" type=\"checkbox\" ><label for=\"sk-estimator-id-33\" class=\"sk-toggleable__label sk-toggleable__label-arrow\">KNNImputer</label><div class=\"sk-toggleable__content\"><pre>KNNImputer()</pre></div></div></div><div class=\"sk-item\"><div class=\"sk-estimator sk-toggleable\"><input class=\"sk-toggleable__control sk-hidden--visually\" id=\"sk-estimator-id-34\" type=\"checkbox\" ><label for=\"sk-estimator-id-34\" class=\"sk-toggleable__label sk-toggleable__label-arrow\">MinMaxScaler</label><div class=\"sk-toggleable__content\"><pre>MinMaxScaler()</pre></div></div></div></div></div></div></div></div><div class=\"sk-parallel-item\"><div class=\"sk-item\"><div class=\"sk-label-container\"><div class=\"sk-label sk-toggleable\"><input class=\"sk-toggleable__control sk-hidden--visually\" id=\"sk-estimator-id-35\" type=\"checkbox\" ><label for=\"sk-estimator-id-35\" class=\"sk-toggleable__label sk-toggleable__label-arrow\">4</label><div class=\"sk-toggleable__content\"><pre>[&#x27;per_capita_income&#x27;, &#x27;population_density&#x27;, &#x27;crime_index_PC&#x27;]</pre></div></div></div><div class=\"sk-serial\"><div class=\"sk-item\"><div class=\"sk-serial\"><div class=\"sk-item\"><div class=\"sk-estimator sk-toggleable\"><input class=\"sk-toggleable__control sk-hidden--visually\" id=\"sk-estimator-id-36\" type=\"checkbox\" ><label for=\"sk-estimator-id-36\" class=\"sk-toggleable__label sk-toggleable__label-arrow\">KNNImputer</label><div class=\"sk-toggleable__content\"><pre>KNNImputer()</pre></div></div></div><div class=\"sk-item\"><div class=\"sk-estimator sk-toggleable\"><input class=\"sk-toggleable__control sk-hidden--visually\" id=\"sk-estimator-id-37\" type=\"checkbox\" ><label for=\"sk-estimator-id-37\" class=\"sk-toggleable__label sk-toggleable__label-arrow\">StandardScaler</label><div class=\"sk-toggleable__content\"><pre>StandardScaler()</pre></div></div></div></div></div></div></div></div><div class=\"sk-parallel-item\"><div class=\"sk-item\"><div class=\"sk-label-container\"><div class=\"sk-label sk-toggleable\"><input class=\"sk-toggleable__control sk-hidden--visually\" id=\"sk-estimator-id-38\" type=\"checkbox\" ><label for=\"sk-estimator-id-38\" class=\"sk-toggleable__label sk-toggleable__label-arrow\">5</label><div class=\"sk-toggleable__content\"><pre>[&#x27;state&#x27;]</pre></div></div></div><div class=\"sk-serial\"><div class=\"sk-item\"><div class=\"sk-serial\"><div class=\"sk-item\"><div class=\"sk-estimator sk-toggleable\"><input class=\"sk-toggleable__control sk-hidden--visually\" id=\"sk-estimator-id-39\" type=\"checkbox\" ><label for=\"sk-estimator-id-39\" class=\"sk-toggleable__label sk-toggleable__label-arrow\">SimpleImputer</label><div class=\"sk-toggleable__content\"><pre>SimpleImputer(strategy=&#x27;most_frequent&#x27;)</pre></div></div></div><div class=\"sk-item\"><div class=\"sk-estimator sk-toggleable\"><input class=\"sk-toggleable__control sk-hidden--visually\" id=\"sk-estimator-id-40\" type=\"checkbox\" ><label for=\"sk-estimator-id-40\" class=\"sk-toggleable__label sk-toggleable__label-arrow\">OneHotEncoder</label><div class=\"sk-toggleable__content\"><pre>OneHotEncoder(drop=&#x27;first&#x27;, handle_unknown=&#x27;ignore&#x27;)</pre></div></div></div></div></div></div></div></div><div class=\"sk-parallel-item\"><div class=\"sk-item\"><div class=\"sk-label-container\"><div class=\"sk-label sk-toggleable\"><input class=\"sk-toggleable__control sk-hidden--visually\" id=\"sk-estimator-id-41\" type=\"checkbox\" ><label for=\"sk-estimator-id-41\" class=\"sk-toggleable__label sk-toggleable__label-arrow\">6</label><div class=\"sk-toggleable__content\"><pre>[&#x27;vote_for_dems_before&#x27;]</pre></div></div></div><div class=\"sk-serial\"><div class=\"sk-item\"><div class=\"sk-serial\"><div class=\"sk-item\"><div class=\"sk-estimator sk-toggleable\"><input class=\"sk-toggleable__control sk-hidden--visually\" id=\"sk-estimator-id-42\" type=\"checkbox\" ><label for=\"sk-estimator-id-42\" class=\"sk-toggleable__label sk-toggleable__label-arrow\">SimpleImputer</label><div class=\"sk-toggleable__content\"><pre>SimpleImputer(strategy=&#x27;most_frequent&#x27;)</pre></div></div></div></div></div></div></div></div></div></div><div class=\"sk-item\"><div class=\"sk-estimator sk-toggleable\"><input class=\"sk-toggleable__control sk-hidden--visually\" id=\"sk-estimator-id-43\" type=\"checkbox\" ><label for=\"sk-estimator-id-43\" class=\"sk-toggleable__label sk-toggleable__label-arrow\">LinearDiscriminantAnalysis</label><div class=\"sk-toggleable__content\"><pre>LinearDiscriminantAnalysis()</pre></div></div></div><div class=\"sk-item\"><div class=\"sk-estimator sk-toggleable\"><input class=\"sk-toggleable__control sk-hidden--visually\" id=\"sk-estimator-id-44\" type=\"checkbox\" ><label for=\"sk-estimator-id-44\" class=\"sk-toggleable__label sk-toggleable__label-arrow\">KNeighborsClassifier</label><div class=\"sk-toggleable__content\"><pre>KNeighborsClassifier(n_neighbors=11)</pre></div></div></div></div></div></div></div></div></div></div></div></div>"
          },
          "metadata": {}
        }
      ],
      "execution_count": null
    },
    {
      "cell_type": "code",
      "source": [
        "rs_best.best_estimator_"
      ],
      "metadata": {
        "tags": [],
        "cell_id": "70a95fef9fbb44d09a4d35f763ab5541",
        "source_hash": "922ef989",
        "execution_start": 1675020360588,
        "execution_millis": 48,
        "deepnote_app_coordinates": {
          "h": 5,
          "w": 12,
          "x": 0,
          "y": 322
        },
        "deepnote_to_be_reexecuted": false,
        "deepnote_cell_type": "code",
        "id": "x1GinQNpD5Rk",
        "outputId": "19ecb938-629f-40d2-bd81-09613b670da7"
      },
      "outputs": [
        {
          "output_type": "execute_result",
          "execution_count": 41,
          "data": {
            "text/plain": "Pipeline(steps=[('trans',\n                 ColumnTransformer(n_jobs=-1, sparse_threshold=0,\n                                   transformers=[('1',\n                                                  Pipeline(steps=[('1',\n                                                                   SimpleImputer()),\n                                                                  ('2',\n                                                                   StandardScaler())]),\n                                                  ['median_age']),\n                                                 ('2',\n                                                  Pipeline(steps=[('1',\n                                                                   KNNImputer(n_neighbors=10)),\n                                                                  ('2',\n                                                                   StandardScaler())]),\n                                                  ['mean_savings']),\n                                                 ('3',\n                                                  Pipeline(steps=[('1',\n                                                                   KNNImputer()),\n                                                                  ('2',\n                                                                   MinMaxScaler())]),\n                                                  ['percent_in_poverty...\n                                                  Pipeline(steps=[('1',\n                                                                   SimpleImputer(strategy='most_frequent')),\n                                                                  ('2',\n                                                                   OneHotEncoder(drop='first',\n                                                                                 handle_unknown='ignore'))]),\n                                                  ['state']),\n                                                 ('6',\n                                                  Pipeline(steps=[('1',\n                                                                   SimpleImputer(strategy='most_frequent'))]),\n                                                  ['vote_for_dems_before'])],\n                                   verbose_feature_names_out=False)),\n                ('dim_reduction', LinearDiscriminantAnalysis()),\n                ('classifier', KNeighborsClassifier(n_neighbors=15))])",
            "text/html": "<style>#sk-container-id-3 {color: black;background-color: white;}#sk-container-id-3 pre{padding: 0;}#sk-container-id-3 div.sk-toggleable {background-color: white;}#sk-container-id-3 label.sk-toggleable__label {cursor: pointer;display: block;width: 100%;margin-bottom: 0;padding: 0.3em;box-sizing: border-box;text-align: center;}#sk-container-id-3 label.sk-toggleable__label-arrow:before {content: \"▸\";float: left;margin-right: 0.25em;color: #696969;}#sk-container-id-3 label.sk-toggleable__label-arrow:hover:before {color: black;}#sk-container-id-3 div.sk-estimator:hover label.sk-toggleable__label-arrow:before {color: black;}#sk-container-id-3 div.sk-toggleable__content {max-height: 0;max-width: 0;overflow: hidden;text-align: left;background-color: #f0f8ff;}#sk-container-id-3 div.sk-toggleable__content pre {margin: 0.2em;color: black;border-radius: 0.25em;background-color: #f0f8ff;}#sk-container-id-3 input.sk-toggleable__control:checked~div.sk-toggleable__content {max-height: 200px;max-width: 100%;overflow: auto;}#sk-container-id-3 input.sk-toggleable__control:checked~label.sk-toggleable__label-arrow:before {content: \"▾\";}#sk-container-id-3 div.sk-estimator input.sk-toggleable__control:checked~label.sk-toggleable__label {background-color: #d4ebff;}#sk-container-id-3 div.sk-label input.sk-toggleable__control:checked~label.sk-toggleable__label {background-color: #d4ebff;}#sk-container-id-3 input.sk-hidden--visually {border: 0;clip: rect(1px 1px 1px 1px);clip: rect(1px, 1px, 1px, 1px);height: 1px;margin: -1px;overflow: hidden;padding: 0;position: absolute;width: 1px;}#sk-container-id-3 div.sk-estimator {font-family: monospace;background-color: #f0f8ff;border: 1px dotted black;border-radius: 0.25em;box-sizing: border-box;margin-bottom: 0.5em;}#sk-container-id-3 div.sk-estimator:hover {background-color: #d4ebff;}#sk-container-id-3 div.sk-parallel-item::after {content: \"\";width: 100%;border-bottom: 1px solid gray;flex-grow: 1;}#sk-container-id-3 div.sk-label:hover label.sk-toggleable__label {background-color: #d4ebff;}#sk-container-id-3 div.sk-serial::before {content: \"\";position: absolute;border-left: 1px solid gray;box-sizing: border-box;top: 0;bottom: 0;left: 50%;z-index: 0;}#sk-container-id-3 div.sk-serial {display: flex;flex-direction: column;align-items: center;background-color: white;padding-right: 0.2em;padding-left: 0.2em;position: relative;}#sk-container-id-3 div.sk-item {position: relative;z-index: 1;}#sk-container-id-3 div.sk-parallel {display: flex;align-items: stretch;justify-content: center;background-color: white;position: relative;}#sk-container-id-3 div.sk-item::before, #sk-container-id-3 div.sk-parallel-item::before {content: \"\";position: absolute;border-left: 1px solid gray;box-sizing: border-box;top: 0;bottom: 0;left: 50%;z-index: -1;}#sk-container-id-3 div.sk-parallel-item {display: flex;flex-direction: column;z-index: 1;position: relative;background-color: white;}#sk-container-id-3 div.sk-parallel-item:first-child::after {align-self: flex-end;width: 50%;}#sk-container-id-3 div.sk-parallel-item:last-child::after {align-self: flex-start;width: 50%;}#sk-container-id-3 div.sk-parallel-item:only-child::after {width: 0;}#sk-container-id-3 div.sk-dashed-wrapped {border: 1px dashed gray;margin: 0 0.4em 0.5em 0.4em;box-sizing: border-box;padding-bottom: 0.4em;background-color: white;}#sk-container-id-3 div.sk-label label {font-family: monospace;font-weight: bold;display: inline-block;line-height: 1.2em;}#sk-container-id-3 div.sk-label-container {text-align: center;}#sk-container-id-3 div.sk-container {/* jupyter's `normalize.less` sets `[hidden] { display: none; }` but bootstrap.min.css set `[hidden] { display: none !important; }` so we also need the `!important` here to be able to override the default hidden behavior on the sphinx rendered scikit-learn.org. See: https://github.com/scikit-learn/scikit-learn/issues/21755 */display: inline-block !important;position: relative;}#sk-container-id-3 div.sk-text-repr-fallback {display: none;}</style><div id=\"sk-container-id-3\" class=\"sk-top-container\"><div class=\"sk-text-repr-fallback\"><pre>Pipeline(steps=[(&#x27;trans&#x27;,\n                 ColumnTransformer(n_jobs=-1, sparse_threshold=0,\n                                   transformers=[(&#x27;1&#x27;,\n                                                  Pipeline(steps=[(&#x27;1&#x27;,\n                                                                   SimpleImputer()),\n                                                                  (&#x27;2&#x27;,\n                                                                   StandardScaler())]),\n                                                  [&#x27;median_age&#x27;]),\n                                                 (&#x27;2&#x27;,\n                                                  Pipeline(steps=[(&#x27;1&#x27;,\n                                                                   KNNImputer(n_neighbors=10)),\n                                                                  (&#x27;2&#x27;,\n                                                                   StandardScaler())]),\n                                                  [&#x27;mean_savings&#x27;]),\n                                                 (&#x27;3&#x27;,\n                                                  Pipeline(steps=[(&#x27;1&#x27;,\n                                                                   KNNImputer()),\n                                                                  (&#x27;2&#x27;,\n                                                                   MinMaxScaler())]),\n                                                  [&#x27;percent_in_poverty...\n                                                  Pipeline(steps=[(&#x27;1&#x27;,\n                                                                   SimpleImputer(strategy=&#x27;most_frequent&#x27;)),\n                                                                  (&#x27;2&#x27;,\n                                                                   OneHotEncoder(drop=&#x27;first&#x27;,\n                                                                                 handle_unknown=&#x27;ignore&#x27;))]),\n                                                  [&#x27;state&#x27;]),\n                                                 (&#x27;6&#x27;,\n                                                  Pipeline(steps=[(&#x27;1&#x27;,\n                                                                   SimpleImputer(strategy=&#x27;most_frequent&#x27;))]),\n                                                  [&#x27;vote_for_dems_before&#x27;])],\n                                   verbose_feature_names_out=False)),\n                (&#x27;dim_reduction&#x27;, LinearDiscriminantAnalysis()),\n                (&#x27;classifier&#x27;, KNeighborsClassifier(n_neighbors=15))])</pre><b>In a Jupyter environment, please rerun this cell to show the HTML representation or trust the notebook. <br />On GitHub, the HTML representation is unable to render, please try loading this page with nbviewer.org.</b></div><div class=\"sk-container\" hidden><div class=\"sk-item sk-dashed-wrapped\"><div class=\"sk-label-container\"><div class=\"sk-label sk-toggleable\"><input class=\"sk-toggleable__control sk-hidden--visually\" id=\"sk-estimator-id-45\" type=\"checkbox\" ><label for=\"sk-estimator-id-45\" class=\"sk-toggleable__label sk-toggleable__label-arrow\">Pipeline</label><div class=\"sk-toggleable__content\"><pre>Pipeline(steps=[(&#x27;trans&#x27;,\n                 ColumnTransformer(n_jobs=-1, sparse_threshold=0,\n                                   transformers=[(&#x27;1&#x27;,\n                                                  Pipeline(steps=[(&#x27;1&#x27;,\n                                                                   SimpleImputer()),\n                                                                  (&#x27;2&#x27;,\n                                                                   StandardScaler())]),\n                                                  [&#x27;median_age&#x27;]),\n                                                 (&#x27;2&#x27;,\n                                                  Pipeline(steps=[(&#x27;1&#x27;,\n                                                                   KNNImputer(n_neighbors=10)),\n                                                                  (&#x27;2&#x27;,\n                                                                   StandardScaler())]),\n                                                  [&#x27;mean_savings&#x27;]),\n                                                 (&#x27;3&#x27;,\n                                                  Pipeline(steps=[(&#x27;1&#x27;,\n                                                                   KNNImputer()),\n                                                                  (&#x27;2&#x27;,\n                                                                   MinMaxScaler())]),\n                                                  [&#x27;percent_in_poverty...\n                                                  Pipeline(steps=[(&#x27;1&#x27;,\n                                                                   SimpleImputer(strategy=&#x27;most_frequent&#x27;)),\n                                                                  (&#x27;2&#x27;,\n                                                                   OneHotEncoder(drop=&#x27;first&#x27;,\n                                                                                 handle_unknown=&#x27;ignore&#x27;))]),\n                                                  [&#x27;state&#x27;]),\n                                                 (&#x27;6&#x27;,\n                                                  Pipeline(steps=[(&#x27;1&#x27;,\n                                                                   SimpleImputer(strategy=&#x27;most_frequent&#x27;))]),\n                                                  [&#x27;vote_for_dems_before&#x27;])],\n                                   verbose_feature_names_out=False)),\n                (&#x27;dim_reduction&#x27;, LinearDiscriminantAnalysis()),\n                (&#x27;classifier&#x27;, KNeighborsClassifier(n_neighbors=15))])</pre></div></div></div><div class=\"sk-serial\"><div class=\"sk-item sk-dashed-wrapped\"><div class=\"sk-label-container\"><div class=\"sk-label sk-toggleable\"><input class=\"sk-toggleable__control sk-hidden--visually\" id=\"sk-estimator-id-46\" type=\"checkbox\" ><label for=\"sk-estimator-id-46\" class=\"sk-toggleable__label sk-toggleable__label-arrow\">trans: ColumnTransformer</label><div class=\"sk-toggleable__content\"><pre>ColumnTransformer(n_jobs=-1, sparse_threshold=0,\n                  transformers=[(&#x27;1&#x27;,\n                                 Pipeline(steps=[(&#x27;1&#x27;, SimpleImputer()),\n                                                 (&#x27;2&#x27;, StandardScaler())]),\n                                 [&#x27;median_age&#x27;]),\n                                (&#x27;2&#x27;,\n                                 Pipeline(steps=[(&#x27;1&#x27;,\n                                                  KNNImputer(n_neighbors=10)),\n                                                 (&#x27;2&#x27;, StandardScaler())]),\n                                 [&#x27;mean_savings&#x27;]),\n                                (&#x27;3&#x27;,\n                                 Pipeline(steps=[(&#x27;1&#x27;, KNNImputer()),\n                                                 (&#x27;2&#x27;, MinMaxScaler())]),\n                                 [&#x27;percent_in_poverty&#x27;, &#x27;percent_veterans&#x27;,\n                                  &#x27;per...\n                                                 (&#x27;2&#x27;, StandardScaler())]),\n                                 [&#x27;per_capita_income&#x27;, &#x27;population_density&#x27;,\n                                  &#x27;crime_index_PC&#x27;]),\n                                (&#x27;5&#x27;,\n                                 Pipeline(steps=[(&#x27;1&#x27;,\n                                                  SimpleImputer(strategy=&#x27;most_frequent&#x27;)),\n                                                 (&#x27;2&#x27;,\n                                                  OneHotEncoder(drop=&#x27;first&#x27;,\n                                                                handle_unknown=&#x27;ignore&#x27;))]),\n                                 [&#x27;state&#x27;]),\n                                (&#x27;6&#x27;,\n                                 Pipeline(steps=[(&#x27;1&#x27;,\n                                                  SimpleImputer(strategy=&#x27;most_frequent&#x27;))]),\n                                 [&#x27;vote_for_dems_before&#x27;])],\n                  verbose_feature_names_out=False)</pre></div></div></div><div class=\"sk-parallel\"><div class=\"sk-parallel-item\"><div class=\"sk-item\"><div class=\"sk-label-container\"><div class=\"sk-label sk-toggleable\"><input class=\"sk-toggleable__control sk-hidden--visually\" id=\"sk-estimator-id-47\" type=\"checkbox\" ><label for=\"sk-estimator-id-47\" class=\"sk-toggleable__label sk-toggleable__label-arrow\">1</label><div class=\"sk-toggleable__content\"><pre>[&#x27;median_age&#x27;]</pre></div></div></div><div class=\"sk-serial\"><div class=\"sk-item\"><div class=\"sk-serial\"><div class=\"sk-item\"><div class=\"sk-estimator sk-toggleable\"><input class=\"sk-toggleable__control sk-hidden--visually\" id=\"sk-estimator-id-48\" type=\"checkbox\" ><label for=\"sk-estimator-id-48\" class=\"sk-toggleable__label sk-toggleable__label-arrow\">SimpleImputer</label><div class=\"sk-toggleable__content\"><pre>SimpleImputer()</pre></div></div></div><div class=\"sk-item\"><div class=\"sk-estimator sk-toggleable\"><input class=\"sk-toggleable__control sk-hidden--visually\" id=\"sk-estimator-id-49\" type=\"checkbox\" ><label for=\"sk-estimator-id-49\" class=\"sk-toggleable__label sk-toggleable__label-arrow\">StandardScaler</label><div class=\"sk-toggleable__content\"><pre>StandardScaler()</pre></div></div></div></div></div></div></div></div><div class=\"sk-parallel-item\"><div class=\"sk-item\"><div class=\"sk-label-container\"><div class=\"sk-label sk-toggleable\"><input class=\"sk-toggleable__control sk-hidden--visually\" id=\"sk-estimator-id-50\" type=\"checkbox\" ><label for=\"sk-estimator-id-50\" class=\"sk-toggleable__label sk-toggleable__label-arrow\">2</label><div class=\"sk-toggleable__content\"><pre>[&#x27;mean_savings&#x27;]</pre></div></div></div><div class=\"sk-serial\"><div class=\"sk-item\"><div class=\"sk-serial\"><div class=\"sk-item\"><div class=\"sk-estimator sk-toggleable\"><input class=\"sk-toggleable__control sk-hidden--visually\" id=\"sk-estimator-id-51\" type=\"checkbox\" ><label for=\"sk-estimator-id-51\" class=\"sk-toggleable__label sk-toggleable__label-arrow\">KNNImputer</label><div class=\"sk-toggleable__content\"><pre>KNNImputer(n_neighbors=10)</pre></div></div></div><div class=\"sk-item\"><div class=\"sk-estimator sk-toggleable\"><input class=\"sk-toggleable__control sk-hidden--visually\" id=\"sk-estimator-id-52\" type=\"checkbox\" ><label for=\"sk-estimator-id-52\" class=\"sk-toggleable__label sk-toggleable__label-arrow\">StandardScaler</label><div class=\"sk-toggleable__content\"><pre>StandardScaler()</pre></div></div></div></div></div></div></div></div><div class=\"sk-parallel-item\"><div class=\"sk-item\"><div class=\"sk-label-container\"><div class=\"sk-label sk-toggleable\"><input class=\"sk-toggleable__control sk-hidden--visually\" id=\"sk-estimator-id-53\" type=\"checkbox\" ><label for=\"sk-estimator-id-53\" class=\"sk-toggleable__label sk-toggleable__label-arrow\">3</label><div class=\"sk-toggleable__content\"><pre>[&#x27;percent_in_poverty&#x27;, &#x27;percent_veterans&#x27;, &#x27;percent_female&#x27;, &#x27;percent_in_nursing_homes&#x27;]</pre></div></div></div><div class=\"sk-serial\"><div class=\"sk-item\"><div class=\"sk-serial\"><div class=\"sk-item\"><div class=\"sk-estimator sk-toggleable\"><input class=\"sk-toggleable__control sk-hidden--visually\" id=\"sk-estimator-id-54\" type=\"checkbox\" ><label for=\"sk-estimator-id-54\" class=\"sk-toggleable__label sk-toggleable__label-arrow\">KNNImputer</label><div class=\"sk-toggleable__content\"><pre>KNNImputer()</pre></div></div></div><div class=\"sk-item\"><div class=\"sk-estimator sk-toggleable\"><input class=\"sk-toggleable__control sk-hidden--visually\" id=\"sk-estimator-id-55\" type=\"checkbox\" ><label for=\"sk-estimator-id-55\" class=\"sk-toggleable__label sk-toggleable__label-arrow\">MinMaxScaler</label><div class=\"sk-toggleable__content\"><pre>MinMaxScaler()</pre></div></div></div></div></div></div></div></div><div class=\"sk-parallel-item\"><div class=\"sk-item\"><div class=\"sk-label-container\"><div class=\"sk-label sk-toggleable\"><input class=\"sk-toggleable__control sk-hidden--visually\" id=\"sk-estimator-id-56\" type=\"checkbox\" ><label for=\"sk-estimator-id-56\" class=\"sk-toggleable__label sk-toggleable__label-arrow\">4</label><div class=\"sk-toggleable__content\"><pre>[&#x27;per_capita_income&#x27;, &#x27;population_density&#x27;, &#x27;crime_index_PC&#x27;]</pre></div></div></div><div class=\"sk-serial\"><div class=\"sk-item\"><div class=\"sk-serial\"><div class=\"sk-item\"><div class=\"sk-estimator sk-toggleable\"><input class=\"sk-toggleable__control sk-hidden--visually\" id=\"sk-estimator-id-57\" type=\"checkbox\" ><label for=\"sk-estimator-id-57\" class=\"sk-toggleable__label sk-toggleable__label-arrow\">KNNImputer</label><div class=\"sk-toggleable__content\"><pre>KNNImputer()</pre></div></div></div><div class=\"sk-item\"><div class=\"sk-estimator sk-toggleable\"><input class=\"sk-toggleable__control sk-hidden--visually\" id=\"sk-estimator-id-58\" type=\"checkbox\" ><label for=\"sk-estimator-id-58\" class=\"sk-toggleable__label sk-toggleable__label-arrow\">StandardScaler</label><div class=\"sk-toggleable__content\"><pre>StandardScaler()</pre></div></div></div></div></div></div></div></div><div class=\"sk-parallel-item\"><div class=\"sk-item\"><div class=\"sk-label-container\"><div class=\"sk-label sk-toggleable\"><input class=\"sk-toggleable__control sk-hidden--visually\" id=\"sk-estimator-id-59\" type=\"checkbox\" ><label for=\"sk-estimator-id-59\" class=\"sk-toggleable__label sk-toggleable__label-arrow\">5</label><div class=\"sk-toggleable__content\"><pre>[&#x27;state&#x27;]</pre></div></div></div><div class=\"sk-serial\"><div class=\"sk-item\"><div class=\"sk-serial\"><div class=\"sk-item\"><div class=\"sk-estimator sk-toggleable\"><input class=\"sk-toggleable__control sk-hidden--visually\" id=\"sk-estimator-id-60\" type=\"checkbox\" ><label for=\"sk-estimator-id-60\" class=\"sk-toggleable__label sk-toggleable__label-arrow\">SimpleImputer</label><div class=\"sk-toggleable__content\"><pre>SimpleImputer(strategy=&#x27;most_frequent&#x27;)</pre></div></div></div><div class=\"sk-item\"><div class=\"sk-estimator sk-toggleable\"><input class=\"sk-toggleable__control sk-hidden--visually\" id=\"sk-estimator-id-61\" type=\"checkbox\" ><label for=\"sk-estimator-id-61\" class=\"sk-toggleable__label sk-toggleable__label-arrow\">OneHotEncoder</label><div class=\"sk-toggleable__content\"><pre>OneHotEncoder(drop=&#x27;first&#x27;, handle_unknown=&#x27;ignore&#x27;)</pre></div></div></div></div></div></div></div></div><div class=\"sk-parallel-item\"><div class=\"sk-item\"><div class=\"sk-label-container\"><div class=\"sk-label sk-toggleable\"><input class=\"sk-toggleable__control sk-hidden--visually\" id=\"sk-estimator-id-62\" type=\"checkbox\" ><label for=\"sk-estimator-id-62\" class=\"sk-toggleable__label sk-toggleable__label-arrow\">6</label><div class=\"sk-toggleable__content\"><pre>[&#x27;vote_for_dems_before&#x27;]</pre></div></div></div><div class=\"sk-serial\"><div class=\"sk-item\"><div class=\"sk-serial\"><div class=\"sk-item\"><div class=\"sk-estimator sk-toggleable\"><input class=\"sk-toggleable__control sk-hidden--visually\" id=\"sk-estimator-id-63\" type=\"checkbox\" ><label for=\"sk-estimator-id-63\" class=\"sk-toggleable__label sk-toggleable__label-arrow\">SimpleImputer</label><div class=\"sk-toggleable__content\"><pre>SimpleImputer(strategy=&#x27;most_frequent&#x27;)</pre></div></div></div></div></div></div></div></div></div></div><div class=\"sk-item\"><div class=\"sk-estimator sk-toggleable\"><input class=\"sk-toggleable__control sk-hidden--visually\" id=\"sk-estimator-id-64\" type=\"checkbox\" ><label for=\"sk-estimator-id-64\" class=\"sk-toggleable__label sk-toggleable__label-arrow\">LinearDiscriminantAnalysis</label><div class=\"sk-toggleable__content\"><pre>LinearDiscriminantAnalysis()</pre></div></div></div><div class=\"sk-item\"><div class=\"sk-estimator sk-toggleable\"><input class=\"sk-toggleable__control sk-hidden--visually\" id=\"sk-estimator-id-65\" type=\"checkbox\" ><label for=\"sk-estimator-id-65\" class=\"sk-toggleable__label sk-toggleable__label-arrow\">KNeighborsClassifier</label><div class=\"sk-toggleable__content\"><pre>KNeighborsClassifier(n_neighbors=15)</pre></div></div></div></div></div></div></div>"
          },
          "metadata": {}
        }
      ],
      "execution_count": null
    },
    {
      "cell_type": "code",
      "source": [
        "f1_score(y_test, rs_best.best_estimator_.predict(X_test))  #0.77 with second one"
      ],
      "metadata": {
        "tags": [],
        "cell_id": "5ebdf21e2fa34be9982fc7d86606d6c5",
        "source_hash": "5ad650c1",
        "execution_start": 1675020360638,
        "execution_millis": 35,
        "deepnote_app_coordinates": {
          "h": 5,
          "w": 12,
          "x": 0,
          "y": 334
        },
        "deepnote_to_be_reexecuted": false,
        "deepnote_cell_type": "code",
        "id": "hIU9fD8wD5Rk",
        "outputId": "cfe558ac-2096-4237-ff17-7c40450811ef"
      },
      "outputs": [
        {
          "output_type": "execute_result",
          "execution_count": 42,
          "data": {
            "text/plain": "0.7622377622377623"
          },
          "metadata": {}
        }
      ],
      "execution_count": null
    },
    {
      "cell_type": "markdown",
      "source": [
        "I want to focus on the <code>f1_score</code> that ranges usually between 0.74 and 0.78. This algorithm is able to predict with an f1_score around 0.76 if a county voted in the 1992 election for Clinton (member of the Democratic party) or not. I want to acknowledge the fact that the result is based on some objective data (like the mean age, population density, and percent of people in nursing homes) while there are some fundamental and more personal features that are not present in the dataset.\n",
        "\n",
        "\n",
        "As an example, the dataset is not taking into account the different ethnicities, religions, and personal backgrounds of the voters, which can have a significant impact on voting behavior.\n",
        "- **Ethnicity** can particularly influence the voting behavior of some ethnic groups. For example, African Americans and Hispanic Americans are more likely to vote for Democratic candidates for different reasons (including experiences with discrimination and economic disparities).\n",
        "- Regarding **religion** we can imagine that a voter's religious beliefs will influence their political behavior. As an example, somebody who is religious might vote for a republican candidate because is aligns with the party's stance on issues such as abortion, legalization, and same-sex marriage.\n",
        "- **Personal background**, on the other hand, it include educational level and daily experiences. This is particularly personal because it contains also the environment close to a person and how the environment is actually perceived by the individual.\n",
        "\n",
        "Those are just some examples of why I believe that predicting if a county voted for democrats or not based on those features will almost never be perfect. We have to acknowledge that people, even if they can be clustered into different groups, based for example on income or gender, there are some personal factors and beliefs that will influence nevertheless if they will vote for democrats or not."
      ],
      "metadata": {
        "tags": [],
        "cell_id": "5cb1faab6a884635ac9e062d0cf1bcd7",
        "deepnote_cell_type": "markdown",
        "id": "iyhrN-3sD5Rl"
      }
    },
    {
      "cell_type": "code",
      "source": [
        "cls = rs_best.best_estimator_"
      ],
      "metadata": {
        "tags": [],
        "cell_id": "c61ac2b068974780ba672561382ee2f4",
        "source_hash": "b13c4d16",
        "execution_start": 1675020360674,
        "execution_millis": 2,
        "deepnote_app_coordinates": {
          "h": 5,
          "w": 12,
          "x": 0,
          "y": 346
        },
        "deepnote_to_be_reexecuted": false,
        "deepnote_cell_type": "code",
        "id": "3XxF4SX6D5Rl"
      },
      "outputs": [],
      "execution_count": null
    },
    {
      "cell_type": "code",
      "source": [
        "train_sizes, train_scores, test_scores = learning_curve(cls,\n",
        "                                                       X=X_train,\n",
        "                                                       y=y_train,\n",
        "                                                       train_sizes= [0.01, 0.1, 0.2, 0.3, 0.4, 0.5, 0.6, 0.7, 0.8, 0.9, 1.0],\n",
        "                                                       cv = 5,\n",
        "                                                       n_jobs = -1,\n",
        "                                                       scoring = 'f1',\n",
        "                                                       shuffle = False)"
      ],
      "metadata": {
        "tags": [],
        "cell_id": "00cf5a02d4234e31bc21d0d73b156051",
        "source_hash": "29f24946",
        "execution_start": 1675020360678,
        "execution_millis": 1725,
        "is_output_hidden": true,
        "deepnote_app_coordinates": {
          "h": 5,
          "w": 12,
          "x": 0,
          "y": 352
        },
        "deepnote_to_be_reexecuted": false,
        "deepnote_cell_type": "code",
        "id": "JVDu2hJ5D5Rl",
        "outputId": "a3191547-e883-4032-ea51-09c77aec3bed"
      },
      "outputs": [
        {
          "name": "stderr",
          "text": "/shared-libs/python3.9/py/lib/python3.9/site-packages/sklearn/preprocessing/_encoders.py:188: UserWarning: Found unknown categories in columns [0] during transform. These unknown categories will be encoded as all zeros\n  warnings.warn(\n/shared-libs/python3.9/py/lib/python3.9/site-packages/sklearn/preprocessing/_encoders.py:188: UserWarning: Found unknown categories in columns [0] during transform. These unknown categories will be encoded as all zeros\n  warnings.warn(\n/shared-libs/python3.9/py/lib/python3.9/site-packages/sklearn/preprocessing/_encoders.py:188: UserWarning: Found unknown categories in columns [0] during transform. These unknown categories will be encoded as all zeros\n  warnings.warn(\n/shared-libs/python3.9/py/lib/python3.9/site-packages/sklearn/preprocessing/_encoders.py:188: UserWarning: Found unknown categories in columns [0] during transform. These unknown categories will be encoded as all zeros\n  warnings.warn(\n/shared-libs/python3.9/py/lib/python3.9/site-packages/sklearn/model_selection/_validation.py:776: UserWarning: Scoring failed. The score on this train-test partition for these parameters will be set to nan. Details: \nTraceback (most recent call last):\n  File \"/shared-libs/python3.9/py/lib/python3.9/site-packages/sklearn/model_selection/_validation.py\", line 767, in _score\n    scores = scorer(estimator, X_test, y_test)\n  File \"/shared-libs/python3.9/py/lib/python3.9/site-packages/sklearn/metrics/_scorer.py\", line 219, in __call__\n    return self._score(\n  File \"/shared-libs/python3.9/py/lib/python3.9/site-packages/sklearn/metrics/_scorer.py\", line 261, in _score\n    y_pred = method_caller(estimator, \"predict\", X)\n  File \"/shared-libs/python3.9/py/lib/python3.9/site-packages/sklearn/metrics/_scorer.py\", line 71, in _cached_call\n    return getattr(estimator, method)(*args, **kwargs)\n  File \"/shared-libs/python3.9/py/lib/python3.9/site-packages/sklearn/pipeline.py\", line 458, in predict\n    return self.steps[-1][1].predict(Xt, **predict_params)\n  File \"/shared-libs/python3.9/py/lib/python3.9/site-packages/sklearn/neighbors/_classification.py\", line 226, in predict\n    neigh_ind = self.kneighbors(X, return_distance=False)\n  File \"/shared-libs/python3.9/py/lib/python3.9/site-packages/sklearn/neighbors/_base.py\", line 749, in kneighbors\n    raise ValueError(\nValueError: Expected n_neighbors <= n_samples,  but n_samples = 14, n_neighbors = 15\n\n  warnings.warn(\n/shared-libs/python3.9/py/lib/python3.9/site-packages/sklearn/model_selection/_validation.py:776: UserWarning: Scoring failed. The score on this train-test partition for these parameters will be set to nan. Details: \nTraceback (most recent call last):\n  File \"/shared-libs/python3.9/py/lib/python3.9/site-packages/sklearn/model_selection/_validation.py\", line 767, in _score\n    scores = scorer(estimator, X_test, y_test)\n  File \"/shared-libs/python3.9/py/lib/python3.9/site-packages/sklearn/metrics/_scorer.py\", line 219, in __call__\n    return self._score(\n  File \"/shared-libs/python3.9/py/lib/python3.9/site-packages/sklearn/metrics/_scorer.py\", line 261, in _score\n    y_pred = method_caller(estimator, \"predict\", X)\n  File \"/shared-libs/python3.9/py/lib/python3.9/site-packages/sklearn/metrics/_scorer.py\", line 71, in _cached_call\n    return getattr(estimator, method)(*args, **kwargs)\n  File \"/shared-libs/python3.9/py/lib/python3.9/site-packages/sklearn/pipeline.py\", line 458, in predict\n    return self.steps[-1][1].predict(Xt, **predict_params)\n  File \"/shared-libs/python3.9/py/lib/python3.9/site-packages/sklearn/neighbors/_classification.py\", line 226, in predict\n    neigh_ind = self.kneighbors(X, return_distance=False)\n  File \"/shared-libs/python3.9/py/lib/python3.9/site-packages/sklearn/neighbors/_base.py\", line 749, in kneighbors\n    raise ValueError(\nValueError: Expected n_neighbors <= n_samples,  but n_samples = 14, n_neighbors = 15\n\n  warnings.warn(\n/shared-libs/python3.9/py/lib/python3.9/site-packages/sklearn/preprocessing/_encoders.py:188: UserWarning: Found unknown categories in columns [0] during transform. These unknown categories will be encoded as all zeros\n  warnings.warn(\n/shared-libs/python3.9/py/lib/python3.9/site-packages/sklearn/preprocessing/_encoders.py:188: UserWarning: Found unknown categories in columns [0] during transform. These unknown categories will be encoded as all zeros\n  warnings.warn(\n/shared-libs/python3.9/py/lib/python3.9/site-packages/sklearn/model_selection/_validation.py:776: UserWarning: Scoring failed. The score on this train-test partition for these parameters will be set to nan. Details: \nTraceback (most recent call last):\n  File \"/shared-libs/python3.9/py/lib/python3.9/site-packages/sklearn/model_selection/_validation.py\", line 767, in _score\n    scores = scorer(estimator, X_test, y_test)\n  File \"/shared-libs/python3.9/py/lib/python3.9/site-packages/sklearn/metrics/_scorer.py\", line 219, in __call__\n    return self._score(\n  File \"/shared-libs/python3.9/py/lib/python3.9/site-packages/sklearn/metrics/_scorer.py\", line 261, in _score\n    y_pred = method_caller(estimator, \"predict\", X)\n  File \"/shared-libs/python3.9/py/lib/python3.9/site-packages/sklearn/metrics/_scorer.py\", line 71, in _cached_call\n    return getattr(estimator, method)(*args, **kwargs)\n  File \"/shared-libs/python3.9/py/lib/python3.9/site-packages/sklearn/pipeline.py\", line 458, in predict\n    return self.steps[-1][1].predict(Xt, **predict_params)\n  File \"/shared-libs/python3.9/py/lib/python3.9/site-packages/sklearn/neighbors/_classification.py\", line 226, in predict\n    neigh_ind = self.kneighbors(X, return_distance=False)\n  File \"/shared-libs/python3.9/py/lib/python3.9/site-packages/sklearn/neighbors/_base.py\", line 749, in kneighbors\n    raise ValueError(\nValueError: Expected n_neighbors <= n_samples,  but n_samples = 14, n_neighbors = 15\n\n  warnings.warn(\n/shared-libs/python3.9/py/lib/python3.9/site-packages/sklearn/model_selection/_validation.py:776: UserWarning: Scoring failed. The score on this train-test partition for these parameters will be set to nan. Details: \nTraceback (most recent call last):\n  File \"/shared-libs/python3.9/py/lib/python3.9/site-packages/sklearn/model_selection/_validation.py\", line 767, in _score\n    scores = scorer(estimator, X_test, y_test)\n  File \"/shared-libs/python3.9/py/lib/python3.9/site-packages/sklearn/metrics/_scorer.py\", line 219, in __call__\n    return self._score(\n  File \"/shared-libs/python3.9/py/lib/python3.9/site-packages/sklearn/metrics/_scorer.py\", line 261, in _score\n    y_pred = method_caller(estimator, \"predict\", X)\n  File \"/shared-libs/python3.9/py/lib/python3.9/site-packages/sklearn/metrics/_scorer.py\", line 71, in _cached_call\n    return getattr(estimator, method)(*args, **kwargs)\n  File \"/shared-libs/python3.9/py/lib/python3.9/site-packages/sklearn/pipeline.py\", line 458, in predict\n    return self.steps[-1][1].predict(Xt, **predict_params)\n  File \"/shared-libs/python3.9/py/lib/python3.9/site-packages/sklearn/neighbors/_classification.py\", line 226, in predict\n    neigh_ind = self.kneighbors(X, return_distance=False)\n  File \"/shared-libs/python3.9/py/lib/python3.9/site-packages/sklearn/neighbors/_base.py\", line 749, in kneighbors\n    raise ValueError(\nValueError: Expected n_neighbors <= n_samples,  but n_samples = 14, n_neighbors = 15\n\n  warnings.warn(\n/shared-libs/python3.9/py/lib/python3.9/site-packages/sklearn/preprocessing/_encoders.py:188: UserWarning: Found unknown categories in columns [0] during transform. These unknown categories will be encoded as all zeros\n  warnings.warn(\n/shared-libs/python3.9/py/lib/python3.9/site-packages/sklearn/preprocessing/_encoders.py:188: UserWarning: Found unknown categories in columns [0] during transform. These unknown categories will be encoded as all zeros\n  warnings.warn(\n/shared-libs/python3.9/py/lib/python3.9/site-packages/sklearn/preprocessing/_encoders.py:188: UserWarning: Found unknown categories in columns [0] during transform. These unknown categories will be encoded as all zeros\n  warnings.warn(\n/shared-libs/python3.9/py/lib/python3.9/site-packages/sklearn/preprocessing/_encoders.py:188: UserWarning: Found unknown categories in columns [0] during transform. These unknown categories will be encoded as all zeros\n  warnings.warn(\n/shared-libs/python3.9/py/lib/python3.9/site-packages/sklearn/model_selection/_validation.py:776: UserWarning: Scoring failed. The score on this train-test partition for these parameters will be set to nan. Details: \nTraceback (most recent call last):\n  File \"/shared-libs/python3.9/py/lib/python3.9/site-packages/sklearn/model_selection/_validation.py\", line 767, in _score\n    scores = scorer(estimator, X_test, y_test)\n  File \"/shared-libs/python3.9/py/lib/python3.9/site-packages/sklearn/metrics/_scorer.py\", line 219, in __call__\n    return self._score(\n  File \"/shared-libs/python3.9/py/lib/python3.9/site-packages/sklearn/metrics/_scorer.py\", line 261, in _score\n    y_pred = method_caller(estimator, \"predict\", X)\n  File \"/shared-libs/python3.9/py/lib/python3.9/site-packages/sklearn/metrics/_scorer.py\", line 71, in _cached_call\n    return getattr(estimator, method)(*args, **kwargs)\n  File \"/shared-libs/python3.9/py/lib/python3.9/site-packages/sklearn/pipeline.py\", line 458, in predict\n    return self.steps[-1][1].predict(Xt, **predict_params)\n  File \"/shared-libs/python3.9/py/lib/python3.9/site-packages/sklearn/neighbors/_classification.py\", line 226, in predict\n    neigh_ind = self.kneighbors(X, return_distance=False)\n  File \"/shared-libs/python3.9/py/lib/python3.9/site-packages/sklearn/neighbors/_base.py\", line 749, in kneighbors\n    raise ValueError(\nValueError: Expected n_neighbors <= n_samples,  but n_samples = 14, n_neighbors = 15\n\n  warnings.warn(\n/shared-libs/python3.9/py/lib/python3.9/site-packages/sklearn/preprocessing/_encoders.py:188: UserWarning: Found unknown categories in columns [0] during transform. These unknown categories will be encoded as all zeros\n  warnings.warn(\n/shared-libs/python3.9/py/lib/python3.9/site-packages/sklearn/model_selection/_validation.py:776: UserWarning: Scoring failed. The score on this train-test partition for these parameters will be set to nan. Details: \nTraceback (most recent call last):\n  File \"/shared-libs/python3.9/py/lib/python3.9/site-packages/sklearn/model_selection/_validation.py\", line 767, in _score\n    scores = scorer(estimator, X_test, y_test)\n  File \"/shared-libs/python3.9/py/lib/python3.9/site-packages/sklearn/metrics/_scorer.py\", line 219, in __call__\n    return self._score(\n  File \"/shared-libs/python3.9/py/lib/python3.9/site-packages/sklearn/metrics/_scorer.py\", line 261, in _score\n    y_pred = method_caller(estimator, \"predict\", X)\n  File \"/shared-libs/python3.9/py/lib/python3.9/site-packages/sklearn/metrics/_scorer.py\", line 71, in _cached_call\n    return getattr(estimator, method)(*args, **kwargs)\n  File \"/shared-libs/python3.9/py/lib/python3.9/site-packages/sklearn/pipeline.py\", line 458, in predict\n    return self.steps[-1][1].predict(Xt, **predict_params)\n  File \"/shared-libs/python3.9/py/lib/python3.9/site-packages/sklearn/neighbors/_classification.py\", line 226, in predict\n    neigh_ind = self.kneighbors(X, return_distance=False)\n  File \"/shared-libs/python3.9/py/lib/python3.9/site-packages/sklearn/neighbors/_base.py\", line 749, in kneighbors\n    raise ValueError(\nValueError: Expected n_neighbors <= n_samples,  but n_samples = 14, n_neighbors = 15\n\n  warnings.warn(\n/shared-libs/python3.9/py/lib/python3.9/site-packages/sklearn/preprocessing/_encoders.py:188: UserWarning: Found unknown categories in columns [0] during transform. These unknown categories will be encoded as all zeros\n  warnings.warn(\n/shared-libs/python3.9/py/lib/python3.9/site-packages/sklearn/preprocessing/_encoders.py:188: UserWarning: Found unknown categories in columns [0] during transform. These unknown categories will be encoded as all zeros\n  warnings.warn(\n/shared-libs/python3.9/py/lib/python3.9/site-packages/sklearn/preprocessing/_encoders.py:188: UserWarning: Found unknown categories in columns [0] during transform. These unknown categories will be encoded as all zeros\n  warnings.warn(\n/shared-libs/python3.9/py/lib/python3.9/site-packages/sklearn/model_selection/_validation.py:776: UserWarning: Scoring failed. The score on this train-test partition for these parameters will be set to nan. Details: \nTraceback (most recent call last):\n  File \"/shared-libs/python3.9/py/lib/python3.9/site-packages/sklearn/model_selection/_validation.py\", line 767, in _score\n    scores = scorer(estimator, X_test, y_test)\n  File \"/shared-libs/python3.9/py/lib/python3.9/site-packages/sklearn/metrics/_scorer.py\", line 219, in __call__\n    return self._score(\n  File \"/shared-libs/python3.9/py/lib/python3.9/site-packages/sklearn/metrics/_scorer.py\", line 261, in _score\n    y_pred = method_caller(estimator, \"predict\", X)\n  File \"/shared-libs/python3.9/py/lib/python3.9/site-packages/sklearn/metrics/_scorer.py\", line 71, in _cached_call\n    return getattr(estimator, method)(*args, **kwargs)\n  File \"/shared-libs/python3.9/py/lib/python3.9/site-packages/sklearn/pipeline.py\", line 458, in predict\n    return self.steps[-1][1].predict(Xt, **predict_params)\n  File \"/shared-libs/python3.9/py/lib/python3.9/site-packages/sklearn/neighbors/_classification.py\", line 226, in predict\n    neigh_ind = self.kneighbors(X, return_distance=False)\n  File \"/shared-libs/python3.9/py/lib/python3.9/site-packages/sklearn/neighbors/_base.py\", line 749, in kneighbors\n    raise ValueError(\nValueError: Expected n_neighbors <= n_samples,  but n_samples = 14, n_neighbors = 15\n\n  warnings.warn(\n/shared-libs/python3.9/py/lib/python3.9/site-packages/sklearn/preprocessing/_encoders.py:188: UserWarning: Found unknown categories in columns [0] during transform. These unknown categories will be encoded as all zeros\n  warnings.warn(\n/shared-libs/python3.9/py/lib/python3.9/site-packages/sklearn/model_selection/_validation.py:776: UserWarning: Scoring failed. The score on this train-test partition for these parameters will be set to nan. Details: \nTraceback (most recent call last):\n  File \"/shared-libs/python3.9/py/lib/python3.9/site-packages/sklearn/model_selection/_validation.py\", line 767, in _score\n    scores = scorer(estimator, X_test, y_test)\n  File \"/shared-libs/python3.9/py/lib/python3.9/site-packages/sklearn/metrics/_scorer.py\", line 219, in __call__\n    return self._score(\n  File \"/shared-libs/python3.9/py/lib/python3.9/site-packages/sklearn/metrics/_scorer.py\", line 261, in _score\n    y_pred = method_caller(estimator, \"predict\", X)\n  File \"/shared-libs/python3.9/py/lib/python3.9/site-packages/sklearn/metrics/_scorer.py\", line 71, in _cached_call\n    return getattr(estimator, method)(*args, **kwargs)\n  File \"/shared-libs/python3.9/py/lib/python3.9/site-packages/sklearn/pipeline.py\", line 458, in predict\n    return self.steps[-1][1].predict(Xt, **predict_params)\n  File \"/shared-libs/python3.9/py/lib/python3.9/site-packages/sklearn/neighbors/_classification.py\", line 226, in predict\n    neigh_ind = self.kneighbors(X, return_distance=False)\n  File \"/shared-libs/python3.9/py/lib/python3.9/site-packages/sklearn/neighbors/_base.py\", line 749, in kneighbors\n    raise ValueError(\nValueError: Expected n_neighbors <= n_samples,  but n_samples = 14, n_neighbors = 15\n\n  warnings.warn(\n/shared-libs/python3.9/py/lib/python3.9/site-packages/sklearn/preprocessing/_encoders.py:188: UserWarning: Found unknown categories in columns [0] during transform. These unknown categories will be encoded as all zeros\n  warnings.warn(\n/shared-libs/python3.9/py/lib/python3.9/site-packages/sklearn/preprocessing/_encoders.py:188: UserWarning: Found unknown categories in columns [0] during transform. These unknown categories will be encoded as all zeros\n  warnings.warn(\n/shared-libs/python3.9/py/lib/python3.9/site-packages/sklearn/preprocessing/_encoders.py:188: UserWarning: Found unknown categories in columns [0] during transform. These unknown categories will be encoded as all zeros\n  warnings.warn(\n/shared-libs/python3.9/py/lib/python3.9/site-packages/sklearn/model_selection/_validation.py:776: UserWarning: Scoring failed. The score on this train-test partition for these parameters will be set to nan. Details: \nTraceback (most recent call last):\n  File \"/shared-libs/python3.9/py/lib/python3.9/site-packages/sklearn/model_selection/_validation.py\", line 767, in _score\n    scores = scorer(estimator, X_test, y_test)\n  File \"/shared-libs/python3.9/py/lib/python3.9/site-packages/sklearn/metrics/_scorer.py\", line 219, in __call__\n    return self._score(\n  File \"/shared-libs/python3.9/py/lib/python3.9/site-packages/sklearn/metrics/_scorer.py\", line 261, in _score\n    y_pred = method_caller(estimator, \"predict\", X)\n  File \"/shared-libs/python3.9/py/lib/python3.9/site-packages/sklearn/metrics/_scorer.py\", line 71, in _cached_call\n    return getattr(estimator, method)(*args, **kwargs)\n  File \"/shared-libs/python3.9/py/lib/python3.9/site-packages/sklearn/pipeline.py\", line 458, in predict\n    return self.steps[-1][1].predict(Xt, **predict_params)\n  File \"/shared-libs/python3.9/py/lib/python3.9/site-packages/sklearn/neighbors/_classification.py\", line 226, in predict\n    neigh_ind = self.kneighbors(X, return_distance=False)\n  File \"/shared-libs/python3.9/py/lib/python3.9/site-packages/sklearn/neighbors/_base.py\", line 749, in kneighbors\n    raise ValueError(\nValueError: Expected n_neighbors <= n_samples,  but n_samples = 14, n_neighbors = 15\n\n  warnings.warn(\n/shared-libs/python3.9/py/lib/python3.9/site-packages/sklearn/model_selection/_validation.py:776: UserWarning: Scoring failed. The score on this train-test partition for these parameters will be set to nan. Details: \nTraceback (most recent call last):\n  File \"/shared-libs/python3.9/py/lib/python3.9/site-packages/sklearn/model_selection/_validation.py\", line 767, in _score\n    scores = scorer(estimator, X_test, y_test)\n  File \"/shared-libs/python3.9/py/lib/python3.9/site-packages/sklearn/metrics/_scorer.py\", line 219, in __call__\n    return self._score(\n  File \"/shared-libs/python3.9/py/lib/python3.9/site-packages/sklearn/metrics/_scorer.py\", line 261, in _score\n    y_pred = method_caller(estimator, \"predict\", X)\n  File \"/shared-libs/python3.9/py/lib/python3.9/site-packages/sklearn/metrics/_scorer.py\", line 71, in _cached_call\n    return getattr(estimator, method)(*args, **kwargs)\n  File \"/shared-libs/python3.9/py/lib/python3.9/site-packages/sklearn/pipeline.py\", line 458, in predict\n    return self.steps[-1][1].predict(Xt, **predict_params)\n  File \"/shared-libs/python3.9/py/lib/python3.9/site-packages/sklearn/neighbors/_classification.py\", line 226, in predict\n    neigh_ind = self.kneighbors(X, return_distance=False)\n  File \"/shared-libs/python3.9/py/lib/python3.9/site-packages/sklearn/neighbors/_base.py\", line 749, in kneighbors\n    raise ValueError(\nValueError: Expected n_neighbors <= n_samples,  but n_samples = 14, n_neighbors = 15\n\n  warnings.warn(\n/shared-libs/python3.9/py/lib/python3.9/site-packages/sklearn/preprocessing/_encoders.py:188: UserWarning: Found unknown categories in columns [0] during transform. These unknown categories will be encoded as all zeros\n  warnings.warn(\n/shared-libs/python3.9/py/lib/python3.9/site-packages/sklearn/preprocessing/_encoders.py:188: UserWarning: Found unknown categories in columns [0] during transform. These unknown categories will be encoded as all zeros\n  warnings.warn(\n/shared-libs/python3.9/py/lib/python3.9/site-packages/sklearn/preprocessing/_encoders.py:188: UserWarning: Found unknown categories in columns [0] during transform. These unknown categories will be encoded as all zeros\n  warnings.warn(\n",
          "output_type": "stream"
        }
      ],
      "execution_count": null
    },
    {
      "cell_type": "code",
      "source": [
        "train_mean = np.mean(train_scores, axis=1)\n",
        "train_std = np.std(train_scores, axis=1)\n",
        "test_mean = np.mean(test_scores, axis=1)\n",
        "test_std = np.std(test_scores, axis=1)\n",
        "\n",
        "fig=plt.figure(figsize=(12,7))\n",
        "axA = fig.add_subplot()\n",
        "\n",
        "axA.plot(train_sizes, train_mean,\n",
        "         color='blue', marker='+',\n",
        "         markersize=5, label='Training accuracy')\n",
        "\n",
        "axA.fill_between(train_sizes,\n",
        "                 train_mean + train_std,\n",
        "                 train_mean - train_std,\n",
        "                 alpha=0.15,\n",
        "                 color='blue',\n",
        "                 hatch='\\\\')\n",
        "\n",
        "axA.plot(train_sizes, test_mean,\n",
        "         color='green', linestyle='--',\n",
        "         marker='d', markersize=5,\n",
        "         label='Validation accuracy')\n",
        "\n",
        "axA.fill_between(train_sizes,\n",
        "                 test_mean + test_std,\n",
        "                 test_mean - test_std,\n",
        "                 alpha=0.15,\n",
        "                 color='green',\n",
        "                 hatch = \"/\")\n",
        "\n",
        "axA.grid()\n",
        "axA.set_xlabel('Training set size')\n",
        "axA.set_ylabel('F1-score')\n",
        "axA.legend(loc='lower right')\n",
        "axA.set_autoscale_on(True)"
      ],
      "metadata": {
        "tags": [],
        "cell_id": "8856f166eef64585a09f068232863dbb",
        "source_hash": "8bbd3066",
        "execution_start": 1675020362408,
        "execution_millis": 171,
        "deepnote_app_coordinates": {
          "h": 5,
          "w": 12,
          "x": 0,
          "y": 358
        },
        "deepnote_to_be_reexecuted": false,
        "deepnote_cell_type": "code",
        "id": "F8YZLUzgD5Rl",
        "outputId": "7863ea34-cb68-4941-968c-e61f7ead2e72"
      },
      "outputs": [
        {
          "data": {
            "text/plain": "<Figure size 1200x700 with 1 Axes>",
            "image/png": "[encoded data removed]"
          },
          "metadata": {
            "image/png": {
              "width": 1010,
              "height": 602
            }
          },
          "output_type": "display_data"
        }
      ],
      "execution_count": null
    },
    {
      "cell_type": "code",
      "source": [
        "range_classifier = [3,5,7,9,11,13,15]\n",
        "train_scores, test_scores = validation_curve(cls,\n",
        "        X=X_train,\n",
        "        y=y_train,\n",
        "        param_range=\n",
        "        range_classifier,\n",
        "        param_name='classifier__n_neighbors',\n",
        "        cv=5,\n",
        "        n_jobs=-1,\n",
        "        scoring='f1'\n",
        ")"
      ],
      "metadata": {
        "tags": [],
        "cell_id": "c7f3e78db5a2440fac51a9a47b0498c9",
        "source_hash": "ff6e9c7e",
        "execution_start": 1675020362581,
        "execution_millis": 1412,
        "is_output_hidden": false,
        "deepnote_app_coordinates": {
          "h": 5,
          "w": 12,
          "x": 0,
          "y": 364
        },
        "deepnote_to_be_reexecuted": false,
        "deepnote_cell_type": "code",
        "id": "V0Zg4wsWD5Rm"
      },
      "outputs": [],
      "execution_count": null
    },
    {
      "cell_type": "code",
      "source": [
        "train_mean = np.mean(train_scores, axis=1)\n",
        "train_std = np.std(train_scores, axis=1)\n",
        "test_mean = np.mean(test_scores, axis=1)\n",
        "test_std = np.std(test_scores, axis=1)\n",
        "\n",
        "fig=plt.figure(figsize=(12,7))\n",
        "axB = fig.add_subplot()\n",
        "axB.plot(range_classifier, train_mean,\n",
        "         color='blue', marker='o',\n",
        "         markersize=5, label='Training accuracy')\n",
        "\n",
        "axB.fill_between(range_classifier,\n",
        "                 train_mean + train_std,\n",
        "                 train_mean - train_std,\n",
        "                 alpha=0.15,\n",
        "                 color='blue',\n",
        "                 hatch='\\\\')\n",
        "\n",
        "axB.plot(range_classifier, test_mean,\n",
        "         color='green', linestyle='--',\n",
        "         marker='s', markersize=5,\n",
        "         label='Validation accuracy')\n",
        "\n",
        "axB.fill_between(range_classifier,\n",
        "                 test_mean + test_std,\n",
        "                 test_mean - test_std,\n",
        "                 alpha=0.15,\n",
        "                 color='green',\n",
        "                 hatch = \"/\")\n",
        "\n",
        "axB.grid()\n",
        "axB.set_xlabel('Parameter of classifier')\n",
        "axB.set_ylabel('F1-score')\n",
        "axB.legend(loc='lower right')\n",
        "axB.set_xscale('log')\n",
        "axB.set_autoscale_on(True)"
      ],
      "metadata": {
        "tags": [],
        "cell_id": "865bf0e58e1942a08a2b6a64f76a6e08",
        "source_hash": "9e10b467",
        "execution_start": 1675020364003,
        "execution_millis": 311,
        "deepnote_app_coordinates": {
          "h": 5,
          "w": 12,
          "x": 0,
          "y": 370
        },
        "deepnote_to_be_reexecuted": false,
        "deepnote_cell_type": "code",
        "id": "FKzqndziD5Rm",
        "outputId": "f3c8a75e-8aa0-493f-eb4f-899d1fc69f90"
      },
      "outputs": [
        {
          "data": {
            "text/plain": "<Figure size 1200x700 with 1 Axes>",
            "image/png": "[encoded data removed]"
          },
          "metadata": {
            "image/png": {
              "width": 1010,
              "height": 606
            }
          },
          "output_type": "display_data"
        }
      ],
      "execution_count": null
    },
    {
      "cell_type": "code",
      "source": [],
      "metadata": {
        "tags": [],
        "cell_id": "ba53811f363645e59cd197323c638833",
        "source_hash": "b623e53d",
        "execution_start": 1675020364313,
        "execution_millis": 1,
        "deepnote_app_coordinates": {
          "h": 5,
          "w": 12,
          "x": 0,
          "y": 376
        },
        "deepnote_to_be_reexecuted": false,
        "deepnote_cell_type": "code",
        "id": "GxXV_WjbD5Rn"
      },
      "outputs": [],
      "execution_count": null
    }
  ],
  "nbformat": 4,
  "nbformat_minor": 0,
  "metadata": {
    "deepnote": {},
    "orig_nbformat": 2,
    "deepnote_app_layout": "article",
    "deepnote_full_width": true,
    "deepnote_notebook_id": "01f437da78e3436faa40185480a59c75",
    "deepnote_persisted_session": {
      "createdAt": "2022-12-21T18:47:59.213Z"
    },
    "deepnote_execution_queue": [],
    "colab": {
      "provenance": [],
      "include_colab_link": true
    },
    "language_info": {
      "name": "python"
    },
    "kernelspec": {
      "name": "python3",
      "display_name": "Python 3"
    },
    "gpuClass": "standard"
  }
}